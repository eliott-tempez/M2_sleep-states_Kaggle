{
 "cells": [
  {
   "cell_type": "markdown",
   "metadata": {},
   "source": [
    "## Data importation"
   ]
  },
  {
   "cell_type": "code",
   "execution_count": 1,
   "metadata": {},
   "outputs": [],
   "source": [
    "import dask.dataframe as dd\n",
    "import pandas as pd"
   ]
  },
  {
   "cell_type": "code",
   "execution_count": 2,
   "metadata": {},
   "outputs": [],
   "source": [
    "# Read targets\n",
    "train_events = pd.read_csv('../data/train_events.csv')"
   ]
  },
  {
   "cell_type": "code",
   "execution_count": 3,
   "metadata": {},
   "outputs": [
    {
     "data": {
      "text/plain": [
       "(14508, 5)"
      ]
     },
     "execution_count": 3,
     "metadata": {},
     "output_type": "execute_result"
    }
   ],
   "source": [
    "train_events.shape"
   ]
  },
  {
   "cell_type": "code",
   "execution_count": 4,
   "metadata": {},
   "outputs": [
    {
     "data": {
      "text/html": [
       "<div>\n",
       "<style scoped>\n",
       "    .dataframe tbody tr th:only-of-type {\n",
       "        vertical-align: middle;\n",
       "    }\n",
       "\n",
       "    .dataframe tbody tr th {\n",
       "        vertical-align: top;\n",
       "    }\n",
       "\n",
       "    .dataframe thead th {\n",
       "        text-align: right;\n",
       "    }\n",
       "</style>\n",
       "<table border=\"1\" class=\"dataframe\">\n",
       "  <thead>\n",
       "    <tr style=\"text-align: right;\">\n",
       "      <th></th>\n",
       "      <th>series_id</th>\n",
       "      <th>night</th>\n",
       "      <th>event</th>\n",
       "      <th>step</th>\n",
       "      <th>timestamp</th>\n",
       "    </tr>\n",
       "  </thead>\n",
       "  <tbody>\n",
       "    <tr>\n",
       "      <th>0</th>\n",
       "      <td>038441c925bb</td>\n",
       "      <td>1</td>\n",
       "      <td>onset</td>\n",
       "      <td>4992.0</td>\n",
       "      <td>2018-08-14T22:26:00-0400</td>\n",
       "    </tr>\n",
       "    <tr>\n",
       "      <th>1</th>\n",
       "      <td>038441c925bb</td>\n",
       "      <td>1</td>\n",
       "      <td>wakeup</td>\n",
       "      <td>10932.0</td>\n",
       "      <td>2018-08-15T06:41:00-0400</td>\n",
       "    </tr>\n",
       "    <tr>\n",
       "      <th>2</th>\n",
       "      <td>038441c925bb</td>\n",
       "      <td>2</td>\n",
       "      <td>onset</td>\n",
       "      <td>20244.0</td>\n",
       "      <td>2018-08-15T19:37:00-0400</td>\n",
       "    </tr>\n",
       "    <tr>\n",
       "      <th>3</th>\n",
       "      <td>038441c925bb</td>\n",
       "      <td>2</td>\n",
       "      <td>wakeup</td>\n",
       "      <td>27492.0</td>\n",
       "      <td>2018-08-16T05:41:00-0400</td>\n",
       "    </tr>\n",
       "    <tr>\n",
       "      <th>4</th>\n",
       "      <td>038441c925bb</td>\n",
       "      <td>3</td>\n",
       "      <td>onset</td>\n",
       "      <td>39996.0</td>\n",
       "      <td>2018-08-16T23:03:00-0400</td>\n",
       "    </tr>\n",
       "    <tr>\n",
       "      <th>5</th>\n",
       "      <td>038441c925bb</td>\n",
       "      <td>3</td>\n",
       "      <td>wakeup</td>\n",
       "      <td>44400.0</td>\n",
       "      <td>2018-08-17T05:10:00-0400</td>\n",
       "    </tr>\n",
       "    <tr>\n",
       "      <th>6</th>\n",
       "      <td>038441c925bb</td>\n",
       "      <td>4</td>\n",
       "      <td>onset</td>\n",
       "      <td>57240.0</td>\n",
       "      <td>2018-08-17T23:00:00-0400</td>\n",
       "    </tr>\n",
       "    <tr>\n",
       "      <th>7</th>\n",
       "      <td>038441c925bb</td>\n",
       "      <td>4</td>\n",
       "      <td>wakeup</td>\n",
       "      <td>62856.0</td>\n",
       "      <td>2018-08-18T06:48:00-0400</td>\n",
       "    </tr>\n",
       "    <tr>\n",
       "      <th>8</th>\n",
       "      <td>038441c925bb</td>\n",
       "      <td>5</td>\n",
       "      <td>onset</td>\n",
       "      <td>NaN</td>\n",
       "      <td>NaN</td>\n",
       "    </tr>\n",
       "    <tr>\n",
       "      <th>9</th>\n",
       "      <td>038441c925bb</td>\n",
       "      <td>5</td>\n",
       "      <td>wakeup</td>\n",
       "      <td>NaN</td>\n",
       "      <td>NaN</td>\n",
       "    </tr>\n",
       "  </tbody>\n",
       "</table>\n",
       "</div>"
      ],
      "text/plain": [
       "      series_id  night   event     step                 timestamp\n",
       "0  038441c925bb      1   onset   4992.0  2018-08-14T22:26:00-0400\n",
       "1  038441c925bb      1  wakeup  10932.0  2018-08-15T06:41:00-0400\n",
       "2  038441c925bb      2   onset  20244.0  2018-08-15T19:37:00-0400\n",
       "3  038441c925bb      2  wakeup  27492.0  2018-08-16T05:41:00-0400\n",
       "4  038441c925bb      3   onset  39996.0  2018-08-16T23:03:00-0400\n",
       "5  038441c925bb      3  wakeup  44400.0  2018-08-17T05:10:00-0400\n",
       "6  038441c925bb      4   onset  57240.0  2018-08-17T23:00:00-0400\n",
       "7  038441c925bb      4  wakeup  62856.0  2018-08-18T06:48:00-0400\n",
       "8  038441c925bb      5   onset      NaN                       NaN\n",
       "9  038441c925bb      5  wakeup      NaN                       NaN"
      ]
     },
     "execution_count": 4,
     "metadata": {},
     "output_type": "execute_result"
    }
   ],
   "source": [
    "train_events.head(10)"
   ]
  },
  {
   "cell_type": "markdown",
   "metadata": {},
   "source": [
    "**Events data description:**\n",
    "\n",
    "Sleep logs for series in the training set recording onset and wake events\n",
    "\n",
    "- series_id - Unique identifier for each series of accelerometer data in train_series.parquet.\n",
    "- night - An enumeration of potential onset / wakeup event pairs. At most one pair of events can occur for each night.\n",
    "- event - The type of event, whether onset or wakeup.\n",
    "- step and timestamp - The recorded time of occurence of the event in the accelerometer series."
   ]
  },
  {
   "cell_type": "code",
   "execution_count": 5,
   "metadata": {},
   "outputs": [],
   "source": [
    "# Read test data\n",
    "test_data = pd.read_parquet('../data/test_series.parquet')"
   ]
  },
  {
   "cell_type": "code",
   "execution_count": 6,
   "metadata": {},
   "outputs": [
    {
     "data": {
      "text/plain": [
       "(450, 5)"
      ]
     },
     "execution_count": 6,
     "metadata": {},
     "output_type": "execute_result"
    }
   ],
   "source": [
    "test_data.shape"
   ]
  },
  {
   "cell_type": "code",
   "execution_count": 7,
   "metadata": {},
   "outputs": [
    {
     "data": {
      "text/html": [
       "<div>\n",
       "<style scoped>\n",
       "    .dataframe tbody tr th:only-of-type {\n",
       "        vertical-align: middle;\n",
       "    }\n",
       "\n",
       "    .dataframe tbody tr th {\n",
       "        vertical-align: top;\n",
       "    }\n",
       "\n",
       "    .dataframe thead th {\n",
       "        text-align: right;\n",
       "    }\n",
       "</style>\n",
       "<table border=\"1\" class=\"dataframe\">\n",
       "  <thead>\n",
       "    <tr style=\"text-align: right;\">\n",
       "      <th></th>\n",
       "      <th>series_id</th>\n",
       "      <th>step</th>\n",
       "      <th>timestamp</th>\n",
       "      <th>anglez</th>\n",
       "      <th>enmo</th>\n",
       "    </tr>\n",
       "  </thead>\n",
       "  <tbody>\n",
       "    <tr>\n",
       "      <th>0</th>\n",
       "      <td>038441c925bb</td>\n",
       "      <td>0</td>\n",
       "      <td>2018-08-14T15:30:00-0400</td>\n",
       "      <td>2.6367</td>\n",
       "      <td>0.0217</td>\n",
       "    </tr>\n",
       "    <tr>\n",
       "      <th>1</th>\n",
       "      <td>038441c925bb</td>\n",
       "      <td>1</td>\n",
       "      <td>2018-08-14T15:30:05-0400</td>\n",
       "      <td>2.6368</td>\n",
       "      <td>0.0215</td>\n",
       "    </tr>\n",
       "    <tr>\n",
       "      <th>2</th>\n",
       "      <td>038441c925bb</td>\n",
       "      <td>2</td>\n",
       "      <td>2018-08-14T15:30:10-0400</td>\n",
       "      <td>2.6370</td>\n",
       "      <td>0.0216</td>\n",
       "    </tr>\n",
       "    <tr>\n",
       "      <th>3</th>\n",
       "      <td>038441c925bb</td>\n",
       "      <td>3</td>\n",
       "      <td>2018-08-14T15:30:15-0400</td>\n",
       "      <td>2.6368</td>\n",
       "      <td>0.0213</td>\n",
       "    </tr>\n",
       "    <tr>\n",
       "      <th>4</th>\n",
       "      <td>038441c925bb</td>\n",
       "      <td>4</td>\n",
       "      <td>2018-08-14T15:30:20-0400</td>\n",
       "      <td>2.6368</td>\n",
       "      <td>0.0215</td>\n",
       "    </tr>\n",
       "    <tr>\n",
       "      <th>5</th>\n",
       "      <td>038441c925bb</td>\n",
       "      <td>5</td>\n",
       "      <td>2018-08-14T15:30:25-0400</td>\n",
       "      <td>2.6367</td>\n",
       "      <td>0.0217</td>\n",
       "    </tr>\n",
       "    <tr>\n",
       "      <th>6</th>\n",
       "      <td>038441c925bb</td>\n",
       "      <td>6</td>\n",
       "      <td>2018-08-14T15:30:30-0400</td>\n",
       "      <td>2.6367</td>\n",
       "      <td>0.0217</td>\n",
       "    </tr>\n",
       "    <tr>\n",
       "      <th>7</th>\n",
       "      <td>038441c925bb</td>\n",
       "      <td>7</td>\n",
       "      <td>2018-08-14T15:30:35-0400</td>\n",
       "      <td>2.6367</td>\n",
       "      <td>0.0218</td>\n",
       "    </tr>\n",
       "    <tr>\n",
       "      <th>8</th>\n",
       "      <td>038441c925bb</td>\n",
       "      <td>8</td>\n",
       "      <td>2018-08-14T15:30:40-0400</td>\n",
       "      <td>2.7980</td>\n",
       "      <td>0.0223</td>\n",
       "    </tr>\n",
       "    <tr>\n",
       "      <th>9</th>\n",
       "      <td>038441c925bb</td>\n",
       "      <td>9</td>\n",
       "      <td>2018-08-14T15:30:45-0400</td>\n",
       "      <td>3.0847</td>\n",
       "      <td>0.0217</td>\n",
       "    </tr>\n",
       "  </tbody>\n",
       "</table>\n",
       "</div>"
      ],
      "text/plain": [
       "      series_id  step                 timestamp  anglez    enmo\n",
       "0  038441c925bb     0  2018-08-14T15:30:00-0400  2.6367  0.0217\n",
       "1  038441c925bb     1  2018-08-14T15:30:05-0400  2.6368  0.0215\n",
       "2  038441c925bb     2  2018-08-14T15:30:10-0400  2.6370  0.0216\n",
       "3  038441c925bb     3  2018-08-14T15:30:15-0400  2.6368  0.0213\n",
       "4  038441c925bb     4  2018-08-14T15:30:20-0400  2.6368  0.0215\n",
       "5  038441c925bb     5  2018-08-14T15:30:25-0400  2.6367  0.0217\n",
       "6  038441c925bb     6  2018-08-14T15:30:30-0400  2.6367  0.0217\n",
       "7  038441c925bb     7  2018-08-14T15:30:35-0400  2.6367  0.0218\n",
       "8  038441c925bb     8  2018-08-14T15:30:40-0400  2.7980  0.0223\n",
       "9  038441c925bb     9  2018-08-14T15:30:45-0400  3.0847  0.0217"
      ]
     },
     "execution_count": 7,
     "metadata": {},
     "output_type": "execute_result"
    }
   ],
   "source": [
    "test_data.head(10)"
   ]
  },
  {
   "cell_type": "markdown",
   "metadata": {},
   "source": [
    "As the training data is too large to read directly with Pandas, we will use Dask to import it and to shape it into the desired format."
   ]
  },
  {
   "cell_type": "code",
   "execution_count": 8,
   "metadata": {},
   "outputs": [],
   "source": [
    "# Read train data\n",
    "train_data = dd.read_parquet('../data/train_series.parquet', engine='pyarrow')"
   ]
  },
  {
   "cell_type": "code",
   "execution_count": 9,
   "metadata": {},
   "outputs": [
    {
     "data": {
      "text/html": [
       "<div><strong>Dask DataFrame Structure:</strong></div>\n",
       "<table border=\"1\" class=\"dataframe\">\n",
       "  <thead>\n",
       "    <tr style=\"text-align: right;\">\n",
       "      <th></th>\n",
       "      <th>series_id</th>\n",
       "      <th>step</th>\n",
       "      <th>timestamp</th>\n",
       "      <th>anglez</th>\n",
       "      <th>enmo</th>\n",
       "    </tr>\n",
       "    <tr>\n",
       "      <th>npartitions=28</th>\n",
       "      <th></th>\n",
       "      <th></th>\n",
       "      <th></th>\n",
       "      <th></th>\n",
       "      <th></th>\n",
       "    </tr>\n",
       "  </thead>\n",
       "  <tbody>\n",
       "    <tr>\n",
       "      <th></th>\n",
       "      <td>string</td>\n",
       "      <td>uint32</td>\n",
       "      <td>string</td>\n",
       "      <td>float32</td>\n",
       "      <td>float32</td>\n",
       "    </tr>\n",
       "    <tr>\n",
       "      <th></th>\n",
       "      <td>...</td>\n",
       "      <td>...</td>\n",
       "      <td>...</td>\n",
       "      <td>...</td>\n",
       "      <td>...</td>\n",
       "    </tr>\n",
       "    <tr>\n",
       "      <th>...</th>\n",
       "      <td>...</td>\n",
       "      <td>...</td>\n",
       "      <td>...</td>\n",
       "      <td>...</td>\n",
       "      <td>...</td>\n",
       "    </tr>\n",
       "    <tr>\n",
       "      <th></th>\n",
       "      <td>...</td>\n",
       "      <td>...</td>\n",
       "      <td>...</td>\n",
       "      <td>...</td>\n",
       "      <td>...</td>\n",
       "    </tr>\n",
       "    <tr>\n",
       "      <th></th>\n",
       "      <td>...</td>\n",
       "      <td>...</td>\n",
       "      <td>...</td>\n",
       "      <td>...</td>\n",
       "      <td>...</td>\n",
       "    </tr>\n",
       "  </tbody>\n",
       "</table>\n",
       "<div>Dask Name: read_parquet, 1 expression</div>"
      ],
      "text/plain": [
       "Dask DataFrame Structure:\n",
       "               series_id    step timestamp   anglez     enmo\n",
       "npartitions=28                                              \n",
       "                  string  uint32    string  float32  float32\n",
       "                     ...     ...       ...      ...      ...\n",
       "...                  ...     ...       ...      ...      ...\n",
       "                     ...     ...       ...      ...      ...\n",
       "                     ...     ...       ...      ...      ...\n",
       "Dask Name: read_parquet, 1 expression\n",
       "Expr=ReadParquetFSSpec(1923b27)"
      ]
     },
     "execution_count": 9,
     "metadata": {},
     "output_type": "execute_result"
    }
   ],
   "source": [
    "train_data"
   ]
  },
  {
   "cell_type": "code",
   "execution_count": 10,
   "metadata": {},
   "outputs": [
    {
     "data": {
      "text/html": [
       "<div>\n",
       "<style scoped>\n",
       "    .dataframe tbody tr th:only-of-type {\n",
       "        vertical-align: middle;\n",
       "    }\n",
       "\n",
       "    .dataframe tbody tr th {\n",
       "        vertical-align: top;\n",
       "    }\n",
       "\n",
       "    .dataframe thead th {\n",
       "        text-align: right;\n",
       "    }\n",
       "</style>\n",
       "<table border=\"1\" class=\"dataframe\">\n",
       "  <thead>\n",
       "    <tr style=\"text-align: right;\">\n",
       "      <th></th>\n",
       "      <th>series_id</th>\n",
       "      <th>step</th>\n",
       "      <th>timestamp</th>\n",
       "      <th>anglez</th>\n",
       "      <th>enmo</th>\n",
       "    </tr>\n",
       "  </thead>\n",
       "  <tbody>\n",
       "    <tr>\n",
       "      <th>0</th>\n",
       "      <td>038441c925bb</td>\n",
       "      <td>0</td>\n",
       "      <td>2018-08-14T15:30:00-0400</td>\n",
       "      <td>2.6367</td>\n",
       "      <td>0.0217</td>\n",
       "    </tr>\n",
       "    <tr>\n",
       "      <th>1</th>\n",
       "      <td>038441c925bb</td>\n",
       "      <td>1</td>\n",
       "      <td>2018-08-14T15:30:05-0400</td>\n",
       "      <td>2.6368</td>\n",
       "      <td>0.0215</td>\n",
       "    </tr>\n",
       "    <tr>\n",
       "      <th>2</th>\n",
       "      <td>038441c925bb</td>\n",
       "      <td>2</td>\n",
       "      <td>2018-08-14T15:30:10-0400</td>\n",
       "      <td>2.6370</td>\n",
       "      <td>0.0216</td>\n",
       "    </tr>\n",
       "    <tr>\n",
       "      <th>3</th>\n",
       "      <td>038441c925bb</td>\n",
       "      <td>3</td>\n",
       "      <td>2018-08-14T15:30:15-0400</td>\n",
       "      <td>2.6368</td>\n",
       "      <td>0.0213</td>\n",
       "    </tr>\n",
       "    <tr>\n",
       "      <th>4</th>\n",
       "      <td>038441c925bb</td>\n",
       "      <td>4</td>\n",
       "      <td>2018-08-14T15:30:20-0400</td>\n",
       "      <td>2.6368</td>\n",
       "      <td>0.0215</td>\n",
       "    </tr>\n",
       "    <tr>\n",
       "      <th>5</th>\n",
       "      <td>038441c925bb</td>\n",
       "      <td>5</td>\n",
       "      <td>2018-08-14T15:30:25-0400</td>\n",
       "      <td>2.6367</td>\n",
       "      <td>0.0217</td>\n",
       "    </tr>\n",
       "    <tr>\n",
       "      <th>6</th>\n",
       "      <td>038441c925bb</td>\n",
       "      <td>6</td>\n",
       "      <td>2018-08-14T15:30:30-0400</td>\n",
       "      <td>2.6367</td>\n",
       "      <td>0.0217</td>\n",
       "    </tr>\n",
       "    <tr>\n",
       "      <th>7</th>\n",
       "      <td>038441c925bb</td>\n",
       "      <td>7</td>\n",
       "      <td>2018-08-14T15:30:35-0400</td>\n",
       "      <td>2.6367</td>\n",
       "      <td>0.0218</td>\n",
       "    </tr>\n",
       "    <tr>\n",
       "      <th>8</th>\n",
       "      <td>038441c925bb</td>\n",
       "      <td>8</td>\n",
       "      <td>2018-08-14T15:30:40-0400</td>\n",
       "      <td>2.7980</td>\n",
       "      <td>0.0223</td>\n",
       "    </tr>\n",
       "    <tr>\n",
       "      <th>9</th>\n",
       "      <td>038441c925bb</td>\n",
       "      <td>9</td>\n",
       "      <td>2018-08-14T15:30:45-0400</td>\n",
       "      <td>3.0847</td>\n",
       "      <td>0.0217</td>\n",
       "    </tr>\n",
       "  </tbody>\n",
       "</table>\n",
       "</div>"
      ],
      "text/plain": [
       "      series_id  step                 timestamp  anglez    enmo\n",
       "0  038441c925bb     0  2018-08-14T15:30:00-0400  2.6367  0.0217\n",
       "1  038441c925bb     1  2018-08-14T15:30:05-0400  2.6368  0.0215\n",
       "2  038441c925bb     2  2018-08-14T15:30:10-0400  2.6370  0.0216\n",
       "3  038441c925bb     3  2018-08-14T15:30:15-0400  2.6368  0.0213\n",
       "4  038441c925bb     4  2018-08-14T15:30:20-0400  2.6368  0.0215\n",
       "5  038441c925bb     5  2018-08-14T15:30:25-0400  2.6367  0.0217\n",
       "6  038441c925bb     6  2018-08-14T15:30:30-0400  2.6367  0.0217\n",
       "7  038441c925bb     7  2018-08-14T15:30:35-0400  2.6367  0.0218\n",
       "8  038441c925bb     8  2018-08-14T15:30:40-0400  2.7980  0.0223\n",
       "9  038441c925bb     9  2018-08-14T15:30:45-0400  3.0847  0.0217"
      ]
     },
     "execution_count": 10,
     "metadata": {},
     "output_type": "execute_result"
    }
   ],
   "source": [
    "train_data.head(10)"
   ]
  },
  {
   "cell_type": "markdown",
   "metadata": {},
   "source": [
    "**Data description:**\n",
    "\n",
    "Each series is a continuous recording of accelerometer data for a single subject spanning many days.\n",
    "\n",
    "- series_id - Unique identifier for each accelerometer series.\n",
    "- step - An integer timestep for each observation within a series.\n",
    "- timestamp - A corresponding datetime with ISO 8601 format %Y-%m-%dT%H:%M:%S%z.\n",
    "- anglez - As calculated and described by the GGIR package, z-angle is a metric derived from individual accelerometer components that is commonly used in sleep detection, and refers to the angle of the arm relative to the vertical axis of the body\n",
    "- enmo - As calculated and described by the GGIR package, ENMO is the Euclidean Norm Minus One of all accelerometer signals, with negative values rounded to zero. While no standard measure of acceleration exists in this space, this is one of the several commonly computed features"
   ]
  },
  {
   "cell_type": "markdown",
   "metadata": {},
   "source": [
    "## Shape data \n",
    "\n",
    "Let's start with the 100k first rows in the training dataset, so that we can then apply it to the whole dataset"
   ]
  },
  {
   "cell_type": "code",
   "execution_count": 11,
   "metadata": {},
   "outputs": [],
   "source": [
    "import numpy as np"
   ]
  },
  {
   "cell_type": "code",
   "execution_count": 12,
   "metadata": {},
   "outputs": [],
   "source": [
    "train_data_head = train_data.head(100000, compute=True)"
   ]
  },
  {
   "cell_type": "code",
   "execution_count": 13,
   "metadata": {},
   "outputs": [
    {
     "data": {
      "text/plain": [
       "(100000, 5)"
      ]
     },
     "execution_count": 13,
     "metadata": {},
     "output_type": "execute_result"
    }
   ],
   "source": [
    "train_data_head.shape"
   ]
  },
  {
   "cell_type": "code",
   "execution_count": 14,
   "metadata": {},
   "outputs": [
    {
     "name": "stdout",
     "output_type": "stream",
     "text": [
      "train_data_head:\n",
      "      series_id  step                 timestamp  anglez    enmo\n",
      "0  038441c925bb     0 2018-08-14 19:30:00+00:00  2.6367  0.0217\n",
      "1  038441c925bb     1 2018-08-14 19:30:05+00:00  2.6368  0.0215\n",
      "2  038441c925bb     2 2018-08-14 19:30:10+00:00  2.6370  0.0216\n",
      "3  038441c925bb     3 2018-08-14 19:30:15+00:00  2.6368  0.0213\n",
      "4  038441c925bb     4 2018-08-14 19:30:20+00:00  2.6368  0.0215\n",
      "\n",
      "test_data:\n",
      "      series_id  step                 timestamp  anglez    enmo\n",
      "0  038441c925bb     0 2018-08-14 19:30:00+00:00  2.6367  0.0217\n",
      "1  038441c925bb     1 2018-08-14 19:30:05+00:00  2.6368  0.0215\n",
      "2  038441c925bb     2 2018-08-14 19:30:10+00:00  2.6370  0.0216\n",
      "3  038441c925bb     3 2018-08-14 19:30:15+00:00  2.6368  0.0213\n",
      "4  038441c925bb     4 2018-08-14 19:30:20+00:00  2.6368  0.0215\n",
      "\n",
      "train_events:\n",
      "      series_id  night   event     step                  timestamp\n",
      "0  038441c925bb      1   onset   4992.0  2018-08-15 02:26:00+00:00\n",
      "1  038441c925bb      1  wakeup  10932.0  2018-08-15 10:41:00+00:00\n",
      "2  038441c925bb      2   onset  20244.0  2018-08-15 23:37:00+00:00\n",
      "3  038441c925bb      2  wakeup  27492.0  2018-08-16 09:41:00+00:00\n",
      "4  038441c925bb      3   onset  39996.0  2018-08-17 03:03:00+00:00\n",
      "\n"
     ]
    }
   ],
   "source": [
    "# Convert the timestamp columns to datetime format\n",
    "train_data_head['timestamp'] = pd.to_datetime(train_data_head['timestamp'], format='%Y-%m-%dT%H:%M:%S%z', utc=True)\n",
    "print(f\"train_data_head:\\n{train_data_head.head()}\\n\")\n",
    "test_data['timestamp'] = pd.to_datetime(test_data['timestamp'], format='%Y-%m-%dT%H:%M:%S%z', utc=True)\n",
    "print(f\"test_data:\\n{test_data.head()}\\n\")\n",
    "train_events.loc[:, 'timestamp'] = pd.to_datetime(train_events['timestamp'], format='%Y-%m-%dT%H:%M:%S%z', utc=True)\n",
    "print(f\"train_events:\\n{train_events.head()}\\n\")"
   ]
  },
  {
   "cell_type": "markdown",
   "metadata": {},
   "source": [
    "Let's calculate the target for each row in our training dataframe:"
   ]
  },
  {
   "cell_type": "code",
   "execution_count": 15,
   "metadata": {},
   "outputs": [],
   "source": [
    "# Create a new column for target value\n",
    "train_data_head['awake'] = pd.NA\n",
    "# Iterate through the train_events dataframe and assign awake status\n",
    "for i in range(0, len(train_events) - 1):   \n",
    "    current_event = train_events.iloc[i]\n",
    "    next_event = train_events.iloc[i + 1]\n",
    "    series_id = current_event['series_id']\n",
    "    \n",
    "    # Check that we are on the same test subject\n",
    "    if series_id == next_event['series_id']:\n",
    "    \n",
    "        # Set awake = 0 (sleep time) between onset and wakeup\n",
    "        if current_event[\"event\"] == 'onset' and next_event['event'] == 'wakeup':\n",
    "            current_time = current_event['timestamp']\n",
    "            next_time = next_event['timestamp']\n",
    "            # Check that we do have data for this time\n",
    "            if not pd.isna(current_time) and not pd.isna(next_time):\n",
    "                train_data_head.loc[\n",
    "                (train_data_head['series_id'] == series_id) &\n",
    "                ((train_data_head['timestamp'] > current_time) &\n",
    "                (train_data_head['timestamp'] < next_time)),\n",
    "                'awake'\n",
    "            ] = 0\n",
    "                \n",
    "        # Set awake = 1 (awake time) between wakeup and next onset\n",
    "        elif current_event[\"event\"] == 'wakeup' and next_event['event'] == 'onset':\n",
    "            current_time = current_event['timestamp']\n",
    "            next_time = next_event['timestamp']\n",
    "            # Check that we do have data for this time\n",
    "            if not pd.isna(current_time) and not pd.isna(next_time):\n",
    "                train_data_head.loc[\n",
    "                (train_data_head['series_id'] == series_id) &\n",
    "                ((train_data_head['timestamp'] > current_time) &\n",
    "                (train_data_head['timestamp'] < next_time)),\n",
    "                'awake'\n",
    "            ] = 1\n",
    "            "
   ]
  },
  {
   "cell_type": "code",
   "execution_count": 16,
   "metadata": {},
   "outputs": [
    {
     "data": {
      "text/plain": [
       "36792"
      ]
     },
     "execution_count": 16,
     "metadata": {},
     "output_type": "execute_result"
    }
   ],
   "source": [
    "# Number of rows during wake\n",
    "train_data_head.loc[train_data_head['awake'] == 1,].shape[0]"
   ]
  },
  {
   "cell_type": "code",
   "execution_count": 17,
   "metadata": {},
   "outputs": [
    {
     "data": {
      "text/plain": [
       "29767"
      ]
     },
     "execution_count": 17,
     "metadata": {},
     "output_type": "execute_result"
    }
   ],
   "source": [
    "# Number of rows during sleep\n",
    "train_data_head.loc[train_data_head['awake'] == 0,].shape[0]"
   ]
  },
  {
   "cell_type": "code",
   "execution_count": 18,
   "metadata": {},
   "outputs": [
    {
     "name": "stdout",
     "output_type": "stream",
     "text": [
      "                     timestamp     anglez    enmo awake\n",
      "4993 2018-08-15 02:26:05+00:00 -78.664902  0.0099     0\n",
      "4994 2018-08-15 02:26:10+00:00 -78.465897  0.0101     0\n",
      "4995 2018-08-15 02:26:15+00:00 -78.454597  0.0098     0\n",
      "4996 2018-08-15 02:26:20+00:00 -78.537804  0.0098     0\n",
      "4997 2018-08-15 02:26:25+00:00 -78.446999  0.0099     0 \n",
      "\n",
      "(66559, 4)\n"
     ]
    }
   ],
   "source": [
    "# Drop NaNs and useless columns\n",
    "train_data_head = train_data_head.dropna().drop(['series_id', 'step'], axis=1)\n",
    "print(train_data_head.head(), \"\\n\")\n",
    "print(train_data_head.shape)"
   ]
  },
  {
   "cell_type": "markdown",
   "metadata": {},
   "source": [
    "We went from a training dataframe of shape (100000, 5) and an event dateframe of shape (14508, 5), to a single (66559, 4) dataframe. The column 'awake' is our target value for the deep learning model.\n",
    "\n",
    "Now that we have the method to shape the data into the desired form, we can apply it to the training data in batches, and see if we can then use the whole pandas dataframe without taking as much memory."
   ]
  }
 ],
 "metadata": {
  "kernelspec": {
   "display_name": "Python 3 (ipykernel)",
   "language": "python",
   "name": "python3"
  },
  "language_info": {
   "codemirror_mode": {
    "name": "ipython",
    "version": 3
   },
   "file_extension": ".py",
   "mimetype": "text/x-python",
   "name": "python",
   "nbconvert_exporter": "python",
   "pygments_lexer": "ipython3",
   "version": "3.12.6"
  }
 },
 "nbformat": 4,
 "nbformat_minor": 2
}
