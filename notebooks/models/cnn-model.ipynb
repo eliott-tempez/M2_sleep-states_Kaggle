{
 "cells": [
  {
   "cell_type": "markdown",
   "id": "c50ff7bf",
   "metadata": {
    "papermill": {
     "duration": 0.010294,
     "end_time": "2024-10-24T01:53:44.781902",
     "exception": false,
     "start_time": "2024-10-24T01:53:44.771608",
     "status": "completed"
    },
    "tags": []
   },
   "source": [
    "# CNN model"
   ]
  },
  {
   "cell_type": "markdown",
   "id": "136d63cf",
   "metadata": {
    "papermill": {
     "duration": 0.009058,
     "end_time": "2024-10-24T01:53:44.801485",
     "exception": false,
     "start_time": "2024-10-24T01:53:44.792427",
     "status": "completed"
    },
    "tags": []
   },
   "source": [
    "## 1. Import data"
   ]
  },
  {
   "cell_type": "code",
   "execution_count": 1,
   "id": "fb6805e3",
   "metadata": {
    "execution": {
     "iopub.execute_input": "2024-10-24T01:53:44.821858Z",
     "iopub.status.busy": "2024-10-24T01:53:44.821118Z",
     "iopub.status.idle": "2024-10-24T01:53:46.020222Z",
     "shell.execute_reply": "2024-10-24T01:53:46.019418Z"
    },
    "papermill": {
     "duration": 1.211815,
     "end_time": "2024-10-24T01:53:46.022539",
     "exception": false,
     "start_time": "2024-10-24T01:53:44.810724",
     "status": "completed"
    },
    "tags": []
   },
   "outputs": [],
   "source": [
    "import pandas as pd\n",
    "import sys\n",
    "import numpy as np\n",
    "\n",
    "sys.path.append('/kaggle/input/utility-scripts')\n",
    "from features import add_features"
   ]
  },
  {
   "cell_type": "code",
   "execution_count": 2,
   "id": "d6ec5e44",
   "metadata": {
    "execution": {
     "iopub.execute_input": "2024-10-24T01:53:46.044285Z",
     "iopub.status.busy": "2024-10-24T01:53:46.043872Z",
     "iopub.status.idle": "2024-10-24T01:53:48.399385Z",
     "shell.execute_reply": "2024-10-24T01:53:48.398526Z"
    },
    "papermill": {
     "duration": 2.368627,
     "end_time": "2024-10-24T01:53:48.401865",
     "exception": false,
     "start_time": "2024-10-24T01:53:46.033238",
     "status": "completed"
    },
    "tags": []
   },
   "outputs": [],
   "source": [
    "# Import datasets\n",
    "train_series = pd.read_csv(\"/kaggle/input/input-data/filtered_train_series_continuous.csv\")\n",
    "test_series = pd.read_csv(\"/kaggle/input/input-data/filtered_test_series_continuous.csv\")"
   ]
  },
  {
   "cell_type": "code",
   "execution_count": 3,
   "id": "4f91205c",
   "metadata": {
    "execution": {
     "iopub.execute_input": "2024-10-24T01:53:48.422605Z",
     "iopub.status.busy": "2024-10-24T01:53:48.422043Z",
     "iopub.status.idle": "2024-10-24T01:54:00.728336Z",
     "shell.execute_reply": "2024-10-24T01:54:00.727477Z"
    },
    "papermill": {
     "duration": 12.319025,
     "end_time": "2024-10-24T01:54:00.730649",
     "exception": false,
     "start_time": "2024-10-24T01:53:48.411624",
     "status": "completed"
    },
    "tags": []
   },
   "outputs": [],
   "source": [
    "# Add features\n",
    "train_series = add_features(train_series)\n",
    "test_series = add_features(test_series)"
   ]
  },
  {
   "cell_type": "code",
   "execution_count": 4,
   "id": "490af787",
   "metadata": {
    "execution": {
     "iopub.execute_input": "2024-10-24T01:54:00.751038Z",
     "iopub.status.busy": "2024-10-24T01:54:00.750743Z",
     "iopub.status.idle": "2024-10-24T01:54:00.755722Z",
     "shell.execute_reply": "2024-10-24T01:54:00.754676Z"
    },
    "papermill": {
     "duration": 0.017363,
     "end_time": "2024-10-24T01:54:00.757787",
     "exception": false,
     "start_time": "2024-10-24T01:54:00.740424",
     "status": "completed"
    },
    "tags": []
   },
   "outputs": [
    {
     "name": "stdout",
     "output_type": "stream",
     "text": [
      "(787158, 40)\n",
      "(204125, 40)\n"
     ]
    }
   ],
   "source": [
    "print(train_series.shape)\n",
    "print(test_series.shape)"
   ]
  },
  {
   "cell_type": "code",
   "execution_count": 5,
   "id": "4cdbc39c",
   "metadata": {
    "execution": {
     "iopub.execute_input": "2024-10-24T01:54:00.777974Z",
     "iopub.status.busy": "2024-10-24T01:54:00.777664Z",
     "iopub.status.idle": "2024-10-24T01:54:01.082339Z",
     "shell.execute_reply": "2024-10-24T01:54:01.081411Z"
    },
    "papermill": {
     "duration": 0.317266,
     "end_time": "2024-10-24T01:54:01.084592",
     "exception": false,
     "start_time": "2024-10-24T01:54:00.767326",
     "status": "completed"
    },
    "tags": []
   },
   "outputs": [
    {
     "name": "stdout",
     "output_type": "stream",
     "text": [
      "(786942, 40)\n",
      "(204072, 40)\n"
     ]
    }
   ],
   "source": [
    "# Delete NAs\n",
    "train_series = train_series.dropna()\n",
    "test_series = test_series.dropna()\n",
    "print(train_series.shape)\n",
    "print(test_series.shape)"
   ]
  },
  {
   "cell_type": "markdown",
   "id": "ecf8507d",
   "metadata": {
    "papermill": {
     "duration": 0.010464,
     "end_time": "2024-10-24T01:54:01.104859",
     "exception": false,
     "start_time": "2024-10-24T01:54:01.094395",
     "status": "completed"
    },
    "tags": []
   },
   "source": [
    "### Reshape the training data into 3D with SMOTE\n",
    "\n",
    "So that it includes time windows (50 = ~7h)"
   ]
  },
  {
   "cell_type": "code",
   "execution_count": 6,
   "id": "26f1940e",
   "metadata": {
    "execution": {
     "iopub.execute_input": "2024-10-24T01:54:01.125315Z",
     "iopub.status.busy": "2024-10-24T01:54:01.125014Z",
     "iopub.status.idle": "2024-10-24T01:54:03.636321Z",
     "shell.execute_reply": "2024-10-24T01:54:03.635292Z"
    },
    "papermill": {
     "duration": 2.524497,
     "end_time": "2024-10-24T01:54:03.638826",
     "exception": false,
     "start_time": "2024-10-24T01:54:01.114329",
     "status": "completed"
    },
    "tags": []
   },
   "outputs": [],
   "source": [
    "from imblearn.over_sampling import SMOTE\n",
    "from sklearn.model_selection import train_test_split"
   ]
  },
  {
   "cell_type": "code",
   "execution_count": 7,
   "id": "a524b208",
   "metadata": {
    "execution": {
     "iopub.execute_input": "2024-10-24T01:54:03.659982Z",
     "iopub.status.busy": "2024-10-24T01:54:03.659539Z",
     "iopub.status.idle": "2024-10-24T01:54:03.670466Z",
     "shell.execute_reply": "2024-10-24T01:54:03.669597Z"
    },
    "papermill": {
     "duration": 0.023691,
     "end_time": "2024-10-24T01:54:03.672337",
     "exception": false,
     "start_time": "2024-10-24T01:54:03.648646",
     "status": "completed"
    },
    "tags": []
   },
   "outputs": [],
   "source": [
    "import pandas as pd\n",
    "import numpy as np\n",
    "from imblearn.over_sampling import SMOTE\n",
    "\n",
    "def convert_to_3d(df, timestep_length=50, resample=True):\n",
    "    # Ensure the DataFrame is sorted by series_id and step\n",
    "    df = df.sort_values(by=[\"series_id\", \"step\"])\n",
    "        \n",
    "    # Extract the events\n",
    "    events = df[\"event\"]\n",
    "    # Remove the 'series_id' and 'events' column from the features\n",
    "    features = df.drop(columns=[\"series_id\", \"event\"])\n",
    "    \n",
    "    # SMOTE \n",
    "    smote = SMOTE(random_state=42)\n",
    "    smote_series, smote_event = smote.fit_resample(features, events)\n",
    "    \n",
    "    if resample:\n",
    "        # Split into train and eval\n",
    "        X_train, X_val, Y_train, Y_val = train_test_split(smote_series, smote_event,\n",
    "                                                         test_size=0.2, stratify=smote_event,\n",
    "                                                         random_state=42)\n",
    "        # Get the number of rows \n",
    "        num_rows_train = len(Y_train)\n",
    "        num_rows_val = len(Y_val)\n",
    "        # Truncate to the largest multiple of timestep_length\n",
    "        num_rows_to_keep_train = num_rows_train - (num_rows_train % timestep_length)\n",
    "        num_rows_to_keep_val = num_rows_val - (num_rows_val % timestep_length)\n",
    "\n",
    "        # Reshape the events array\n",
    "        reshaped_event_train = Y_train[:num_rows_to_keep_train].values.reshape(-1, timestep_length)\n",
    "        reshaped_event_val = Y_val[:num_rows_to_keep_val].values.reshape(-1, timestep_length)\n",
    "        # Reshape the dataframe into a 3D numpy array: (n_series, timesteps, features)\n",
    "        reshaped_data_train = X_train[:num_rows_to_keep_train].values.reshape(-1, timestep_length, X_train.shape[1])\n",
    "        reshaped_data_val = X_val[:num_rows_to_keep_val].values.reshape(-1, timestep_length, X_val.shape[1])\n",
    "        return reshaped_data_train, reshaped_data_val, reshaped_event_train, reshaped_event_val\n",
    "    \n",
    "    # Get the number of rows in the SMOTE resampled events\n",
    "    num_rows = len(smote_event)\n",
    "    # Truncate to the largest multiple of timestep_length\n",
    "    num_rows_to_keep = num_rows - (num_rows % timestep_length)\n",
    "    \n",
    "    # Reshape the events array\n",
    "    reshaped_event = smote_event[:num_rows_to_keep].values.reshape(-1, timestep_length)\n",
    "    # Reshape the dataframe into a 3D numpy array: (n_series, timesteps, features)\n",
    "    reshaped_data = smote_series[:num_rows_to_keep].values.reshape(-1, timestep_length, smote_series.shape[1])\n",
    "    \n",
    "    return reshaped_data, reshaped_event"
   ]
  },
  {
   "cell_type": "code",
   "execution_count": 8,
   "id": "dbfbbc8f",
   "metadata": {
    "execution": {
     "iopub.execute_input": "2024-10-24T01:54:03.692272Z",
     "iopub.status.busy": "2024-10-24T01:54:03.691974Z",
     "iopub.status.idle": "2024-10-24T01:54:10.092657Z",
     "shell.execute_reply": "2024-10-24T01:54:10.091761Z"
    },
    "papermill": {
     "duration": 6.413193,
     "end_time": "2024-10-24T01:54:10.094998",
     "exception": false,
     "start_time": "2024-10-24T01:54:03.681805",
     "status": "completed"
    },
    "tags": []
   },
   "outputs": [],
   "source": [
    "shaped_train_data, shaped_val_data, shaped_train_tar, shaped_val_tar = convert_to_3d(train_series)\n",
    "shaped_test_data, shaped_test_tar = convert_to_3d(test_series, resample=False)"
   ]
  },
  {
   "cell_type": "code",
   "execution_count": 9,
   "id": "6eb4b858",
   "metadata": {
    "execution": {
     "iopub.execute_input": "2024-10-24T01:54:10.116428Z",
     "iopub.status.busy": "2024-10-24T01:54:10.115641Z",
     "iopub.status.idle": "2024-10-24T01:54:10.122106Z",
     "shell.execute_reply": "2024-10-24T01:54:10.121081Z"
    },
    "papermill": {
     "duration": 0.019285,
     "end_time": "2024-10-24T01:54:10.124135",
     "exception": false,
     "start_time": "2024-10-24T01:54:10.104850",
     "status": "completed"
    },
    "tags": []
   },
   "outputs": [
    {
     "name": "stdout",
     "output_type": "stream",
     "text": [
      "Train data:\n",
      "(37423, 50, 38)\n",
      "(37423, 50) \n",
      "\n",
      "Eval data:\n",
      "(9355, 50, 38)\n",
      "(9355, 50) \n",
      "\n",
      "Test data:\n",
      "(12121, 50, 38)\n",
      "(12121, 50)\n"
     ]
    }
   ],
   "source": [
    "print(\"Train data:\")\n",
    "print(shaped_train_data.shape)\n",
    "print(shaped_train_tar.shape, \"\\n\")\n",
    "print(\"Eval data:\")\n",
    "print(shaped_val_data.shape)\n",
    "print(shaped_val_tar.shape, \"\\n\")\n",
    "print(\"Test data:\")\n",
    "print(shaped_test_data.shape)\n",
    "print(shaped_test_tar.shape)"
   ]
  },
  {
   "cell_type": "code",
   "execution_count": 10,
   "id": "8c3baa82",
   "metadata": {
    "execution": {
     "iopub.execute_input": "2024-10-24T01:54:10.146077Z",
     "iopub.status.busy": "2024-10-24T01:54:10.145399Z",
     "iopub.status.idle": "2024-10-24T01:54:10.160600Z",
     "shell.execute_reply": "2024-10-24T01:54:10.159635Z"
    },
    "papermill": {
     "duration": 0.028391,
     "end_time": "2024-10-24T01:54:10.162501",
     "exception": false,
     "start_time": "2024-10-24T01:54:10.134110",
     "status": "completed"
    },
    "tags": []
   },
   "outputs": [
    {
     "name": "stdout",
     "output_type": "stream",
     "text": [
      "[3.00001283 2.99998397 3.00000321]\n"
     ]
    }
   ],
   "source": [
    "# Calculate class weights\n",
    "unique, counts = np.unique(shaped_train_tar, return_counts=True)\n",
    "weights = counts.sum()/counts\n",
    "print(weights)"
   ]
  },
  {
   "cell_type": "markdown",
   "id": "a0074378",
   "metadata": {
    "papermill": {
     "duration": 0.009582,
     "end_time": "2024-10-24T01:54:10.181898",
     "exception": false,
     "start_time": "2024-10-24T01:54:10.172316",
     "status": "completed"
    },
    "tags": []
   },
   "source": [
    "### One hot encoding"
   ]
  },
  {
   "cell_type": "code",
   "execution_count": 11,
   "id": "db0e5cdd",
   "metadata": {
    "execution": {
     "iopub.execute_input": "2024-10-24T01:54:10.202433Z",
     "iopub.status.busy": "2024-10-24T01:54:10.201919Z",
     "iopub.status.idle": "2024-10-24T01:54:27.180712Z",
     "shell.execute_reply": "2024-10-24T01:54:27.179244Z"
    },
    "papermill": {
     "duration": 16.992259,
     "end_time": "2024-10-24T01:54:27.183691",
     "exception": false,
     "start_time": "2024-10-24T01:54:10.191432",
     "status": "completed"
    },
    "tags": []
   },
   "outputs": [],
   "source": [
    "import keras"
   ]
  },
  {
   "cell_type": "code",
   "execution_count": 12,
   "id": "70feb7e3",
   "metadata": {
    "execution": {
     "iopub.execute_input": "2024-10-24T01:54:27.210516Z",
     "iopub.status.busy": "2024-10-24T01:54:27.209951Z",
     "iopub.status.idle": "2024-10-24T01:54:27.260015Z",
     "shell.execute_reply": "2024-10-24T01:54:27.259077Z"
    },
    "papermill": {
     "duration": 0.064674,
     "end_time": "2024-10-24T01:54:27.262436",
     "exception": false,
     "start_time": "2024-10-24T01:54:27.197762",
     "status": "completed"
    },
    "tags": []
   },
   "outputs": [],
   "source": [
    "shaped_train_target = keras.utils.to_categorical(shaped_train_tar)\n",
    "shaped_val_target = keras.utils.to_categorical(shaped_val_tar)\n",
    "shaped_test_target = keras.utils.to_categorical(shaped_test_tar)"
   ]
  },
  {
   "cell_type": "code",
   "execution_count": 13,
   "id": "60e1faca",
   "metadata": {
    "execution": {
     "iopub.execute_input": "2024-10-24T01:54:27.284453Z",
     "iopub.status.busy": "2024-10-24T01:54:27.283670Z",
     "iopub.status.idle": "2024-10-24T01:54:27.290272Z",
     "shell.execute_reply": "2024-10-24T01:54:27.288970Z"
    },
    "papermill": {
     "duration": 0.019611,
     "end_time": "2024-10-24T01:54:27.292245",
     "exception": false,
     "start_time": "2024-10-24T01:54:27.272634",
     "status": "completed"
    },
    "tags": []
   },
   "outputs": [
    {
     "name": "stdout",
     "output_type": "stream",
     "text": [
      "One hot encoded targets:\n",
      "(37423, 50, 3)\n",
      "(9355, 50, 3)\n",
      "(12121, 50, 3)\n"
     ]
    }
   ],
   "source": [
    "print(\"One hot encoded targets:\")\n",
    "print(shaped_train_target.shape)\n",
    "print(shaped_val_target.shape)\n",
    "print(shaped_test_target.shape)"
   ]
  },
  {
   "cell_type": "markdown",
   "id": "bcd93060",
   "metadata": {
    "papermill": {
     "duration": 0.00958,
     "end_time": "2024-10-24T01:54:27.311505",
     "exception": false,
     "start_time": "2024-10-24T01:54:27.301925",
     "status": "completed"
    },
    "tags": []
   },
   "source": [
    "## 2. Build and run model"
   ]
  },
  {
   "cell_type": "markdown",
   "id": "bfac0ffa",
   "metadata": {
    "papermill": {
     "duration": 0.009458,
     "end_time": "2024-10-24T01:54:27.330614",
     "exception": false,
     "start_time": "2024-10-24T01:54:27.321156",
     "status": "completed"
    },
    "tags": []
   },
   "source": [
    "### Home-made loss function"
   ]
  },
  {
   "cell_type": "code",
   "execution_count": 14,
   "id": "29d2892e",
   "metadata": {
    "execution": {
     "iopub.execute_input": "2024-10-24T01:54:27.351793Z",
     "iopub.status.busy": "2024-10-24T01:54:27.350953Z",
     "iopub.status.idle": "2024-10-24T01:54:27.435144Z",
     "shell.execute_reply": "2024-10-24T01:54:27.434259Z"
    },
    "papermill": {
     "duration": 0.096931,
     "end_time": "2024-10-24T01:54:27.437130",
     "exception": false,
     "start_time": "2024-10-24T01:54:27.340199",
     "status": "completed"
    },
    "tags": []
   },
   "outputs": [],
   "source": [
    "# Suppress TensorFlow warnings\n",
    "import os\n",
    "os.environ['TF_CPP_MIN_LOG_LEVEL'] = '3'\n",
    "\n",
    "from tensorflow import keras\n",
    "import tensorflow as tf\n",
    "from sklearn.model_selection import KFold\n",
    "from keras.models import Sequential\n",
    "from keras.layers import Dense, Input, Dropout, Conv1D, MaxPooling1D, BatchNormalization, LSTM\n",
    "from keras.optimizers import Adam\n",
    "from keras.callbacks import EarlyStopping\n",
    "from sklearn.model_selection import KFold\n",
    "from sklearn.metrics import precision_score, recall_score, f1_score, accuracy_score\n",
    "from tensorflow.keras import backend as K\n",
    "from sklearn.utils.class_weight import compute_class_weight\n",
    "from sklearn.metrics import roc_curve\n"
   ]
  },
  {
   "cell_type": "code",
   "execution_count": 15,
   "id": "0f78ceb2",
   "metadata": {
    "execution": {
     "iopub.execute_input": "2024-10-24T01:54:27.459465Z",
     "iopub.status.busy": "2024-10-24T01:54:27.459132Z",
     "iopub.status.idle": "2024-10-24T01:54:27.465147Z",
     "shell.execute_reply": "2024-10-24T01:54:27.464297Z"
    },
    "papermill": {
     "duration": 0.018551,
     "end_time": "2024-10-24T01:54:27.467069",
     "exception": false,
     "start_time": "2024-10-24T01:54:27.448518",
     "status": "completed"
    },
    "tags": []
   },
   "outputs": [],
   "source": [
    "def weighted_categorical_crossentropy(weights):\n",
    "    \n",
    "    weights = K.variable(weights)\n",
    "\n",
    "    def loss(y_true, y_pred):\n",
    "        \"\"\"Calculate weighted categorical crossentropy loss.\"\"\"\n",
    "        # Clip predictions to avoid log(0)\n",
    "        y_pred = K.clip(y_pred, K.epsilon(), 1 - K.epsilon())\n",
    "        \n",
    "        # Calculate unweighted categorical crossentropy\n",
    "        cce = y_true * K.log(y_pred)\n",
    "        \n",
    "        # Multiply with weights for each class\n",
    "        weighted_cce = cce * weights\n",
    "        \n",
    "        # Take mean across timesteps and batch dimensions\n",
    "        return -K.mean(K.sum(weighted_cce, axis=-1))  # sum across classes, mean across batch and timesteps\n",
    "\n",
    "    return loss"
   ]
  },
  {
   "cell_type": "markdown",
   "id": "3603e29d",
   "metadata": {
    "papermill": {
     "duration": 0.009431,
     "end_time": "2024-10-24T01:54:27.486121",
     "exception": false,
     "start_time": "2024-10-24T01:54:27.476690",
     "status": "completed"
    },
    "tags": []
   },
   "source": [
    "### Build and train the model"
   ]
  },
  {
   "cell_type": "code",
   "execution_count": 16,
   "id": "1881420c",
   "metadata": {
    "execution": {
     "iopub.execute_input": "2024-10-24T01:54:27.506677Z",
     "iopub.status.busy": "2024-10-24T01:54:27.506372Z",
     "iopub.status.idle": "2024-10-24T01:54:27.513265Z",
     "shell.execute_reply": "2024-10-24T01:54:27.512410Z"
    },
    "papermill": {
     "duration": 0.019386,
     "end_time": "2024-10-24T01:54:27.515174",
     "exception": false,
     "start_time": "2024-10-24T01:54:27.495788",
     "status": "completed"
    },
    "tags": []
   },
   "outputs": [],
   "source": [
    "def find_optimal_threshold(test_target_classes, test_pred, num_classes=3):\n",
    "    thresholds = np.arange(0.1, 0.9, 0.01)  # Range of thresholds to search\n",
    "    best_thresholds = []\n",
    "    best_f1_scores = []\n",
    "    \n",
    "    # Loop through each class to find the best threshold for maximizing F1 score\n",
    "    for i in range(num_classes):\n",
    "        f1_scores = []\n",
    "        for threshold in thresholds:\n",
    "            # Binarize predictions using the threshold\n",
    "            binary_pred = (test_pred[:, i] >= threshold).astype(int)\n",
    "            binary_true = (test_target_classes == i).astype(int)\n",
    "\n",
    "            # Compute F1 score\n",
    "            f1 = f1_score(binary_true, binary_pred, zero_division=1)\n",
    "            f1_scores.append(f1)\n",
    "\n",
    "        # Get the best threshold for this class\n",
    "        best_idx = np.argmax(f1_scores)\n",
    "        best_thresholds.append(thresholds[best_idx])\n",
    "        best_f1_scores.append(f1_scores[best_idx])\n",
    "\n",
    "        print(f\"Class {i} - Best Threshold: {best_thresholds[-1]}, Best F1 Score: {best_f1_scores[-1]}\")\n",
    "    \n",
    "    return best_thresholds, best_f1_scores"
   ]
  },
  {
   "cell_type": "code",
   "execution_count": 17,
   "id": "09aa15a9",
   "metadata": {
    "execution": {
     "iopub.execute_input": "2024-10-24T01:54:27.535868Z",
     "iopub.status.busy": "2024-10-24T01:54:27.535265Z",
     "iopub.status.idle": "2024-10-24T01:54:27.549769Z",
     "shell.execute_reply": "2024-10-24T01:54:27.548909Z"
    },
    "papermill": {
     "duration": 0.026891,
     "end_time": "2024-10-24T01:54:27.551648",
     "exception": false,
     "start_time": "2024-10-24T01:54:27.524757",
     "status": "completed"
    },
    "tags": []
   },
   "outputs": [],
   "source": [
    "def build_cnn_model(input_shape):\n",
    "    model = Sequential()\n",
    "    model.add(Input(shape=input_shape))\n",
    "    \n",
    "    model.add(Conv1D(filters=64, kernel_size=3, activation='relu', padding=\"same\"))\n",
    "    model.add(Dropout(0.2))\n",
    "    \n",
    "    model.add(Dense(32, activation='relu'))\n",
    "    model.add(Dropout(0.3))\n",
    "    \n",
    "    model.add(Conv1D(filters=64, kernel_size=3, padding='same', activation='relu'))\n",
    "\n",
    "    # Ajouter des couches denses\n",
    "    model.add(Dense(32, activation='relu'))\n",
    "    \n",
    "    model.add(Dense(3, activation='softmax'))\n",
    "    \n",
    "    model.summary()\n",
    "    return model\n",
    "\n",
    "\n",
    "def train_cnn_model(X_train, Y_train,\n",
    "                    X_val, Y_val,\n",
    "                    class_weights):\n",
    "    \n",
    "    # Ensure data is in the correct numerical format\n",
    "    X_train = np.array(X_train, dtype=np.float32)\n",
    "    Y_train = np.array(Y_train, dtype=np.int32)\n",
    "    X_val = np.array(X_val, dtype=np.float32)\n",
    "    Y_val = np.array(Y_val, dtype=np.int32)\n",
    "\n",
    "    # Define the input shape for the model\n",
    "    input_shape = X_train.shape[1:]\n",
    "    \n",
    "    # Build and compile the model\n",
    "    model = build_cnn_model(input_shape)\n",
    "    model.compile(loss=weighted_categorical_crossentropy(class_weights), \n",
    "                  optimizer='adam', metrics=['accuracy', 'precision'])\n",
    "\n",
    "    # Define early stopping\n",
    "    early_stop = EarlyStopping(monitor='val_loss', patience=5, restore_best_weights=True)\n",
    "\n",
    "    # Train the model\n",
    "    history = model.fit(x=X_train, y=Y_train, batch_size=64,\n",
    "                        validation_data=(X_val, Y_val),\n",
    "                        epochs=20, callbacks=[early_stop])\n",
    "\n",
    "    # Evaluate the model on the validation set\n",
    "    test_pred = model.predict(X_val).reshape(-1, 3)\n",
    "    test_target_classes = np.argmax(Y_val.reshape(-1, 3), axis=1)\n",
    "\n",
    "    # Find optimal thresholds for each class\n",
    "    best_thresholds, _ = find_optimal_threshold(test_target_classes, test_pred)\n",
    "\n",
    "    # Apply the optimal thresholds to get final predictions\n",
    "    final_pred_classes = []\n",
    "    for i in range(len(best_thresholds)):\n",
    "        # Binarize predictions using the optimal thresholds\n",
    "        binary_pred = (test_pred[:, i] >= best_thresholds[i]).astype(int)\n",
    "        final_pred_classes.append(binary_pred)\n",
    "\n",
    "    # Combine final predictions for each class\n",
    "    final_pred_classes = np.array(final_pred_classes).T  # Shape: (num_samples, num_classes)\n",
    "    \n",
    "    # Get the predicted class based on the maximum value across the classes\n",
    "    final_pred_classes = np.argmax(final_pred_classes, axis=1)\n",
    "\n",
    "    # Calculate precision, accuracy, recall, and F1-score\n",
    "    precision = precision_score(test_target_classes, final_pred_classes, average='macro')\n",
    "    accuracy = accuracy_score(test_target_classes, final_pred_classes)\n",
    "    recall = recall_score(test_target_classes, final_pred_classes, average='macro')\n",
    "    f1 = f1_score(test_target_classes, final_pred_classes, average='macro')\n",
    "\n",
    "    # Save the metrics for this fold\n",
    "    metrics = {\n",
    "        'precision': precision,\n",
    "        'accuracy': accuracy,\n",
    "        'recall': recall,\n",
    "        'f1_score': f1\n",
    "    }\n",
    "    \n",
    "    return model, metrics"
   ]
  },
  {
   "cell_type": "code",
   "execution_count": 18,
   "id": "ba711f17",
   "metadata": {
    "execution": {
     "iopub.execute_input": "2024-10-24T01:54:27.571954Z",
     "iopub.status.busy": "2024-10-24T01:54:27.571668Z",
     "iopub.status.idle": "2024-10-24T01:55:28.554278Z",
     "shell.execute_reply": "2024-10-24T01:55:28.553045Z"
    },
    "papermill": {
     "duration": 60.995663,
     "end_time": "2024-10-24T01:55:28.556891",
     "exception": false,
     "start_time": "2024-10-24T01:54:27.561228",
     "status": "completed"
    },
    "tags": []
   },
   "outputs": [
    {
     "data": {
      "text/html": [
       "<pre style=\"white-space:pre;overflow-x:auto;line-height:normal;font-family:Menlo,'DejaVu Sans Mono',consolas,'Courier New',monospace\"><span style=\"font-weight: bold\">Model: \"sequential\"</span>\n",
       "</pre>\n"
      ],
      "text/plain": [
       "\u001b[1mModel: \"sequential\"\u001b[0m\n"
      ]
     },
     "metadata": {},
     "output_type": "display_data"
    },
    {
     "data": {
      "text/html": [
       "<pre style=\"white-space:pre;overflow-x:auto;line-height:normal;font-family:Menlo,'DejaVu Sans Mono',consolas,'Courier New',monospace\">┏━━━━━━━━━━━━━━━━━━━━━━━━━━━━━━━━━┳━━━━━━━━━━━━━━━━━━━━━━━━┳━━━━━━━━━━━━━━━┓\n",
       "┃<span style=\"font-weight: bold\"> Layer (type)                    </span>┃<span style=\"font-weight: bold\"> Output Shape           </span>┃<span style=\"font-weight: bold\">       Param # </span>┃\n",
       "┡━━━━━━━━━━━━━━━━━━━━━━━━━━━━━━━━━╇━━━━━━━━━━━━━━━━━━━━━━━━╇━━━━━━━━━━━━━━━┩\n",
       "│ conv1d (<span style=\"color: #0087ff; text-decoration-color: #0087ff\">Conv1D</span>)                 │ (<span style=\"color: #00d7ff; text-decoration-color: #00d7ff\">None</span>, <span style=\"color: #00af00; text-decoration-color: #00af00\">50</span>, <span style=\"color: #00af00; text-decoration-color: #00af00\">64</span>)         │         <span style=\"color: #00af00; text-decoration-color: #00af00\">7,360</span> │\n",
       "├─────────────────────────────────┼────────────────────────┼───────────────┤\n",
       "│ dropout (<span style=\"color: #0087ff; text-decoration-color: #0087ff\">Dropout</span>)               │ (<span style=\"color: #00d7ff; text-decoration-color: #00d7ff\">None</span>, <span style=\"color: #00af00; text-decoration-color: #00af00\">50</span>, <span style=\"color: #00af00; text-decoration-color: #00af00\">64</span>)         │             <span style=\"color: #00af00; text-decoration-color: #00af00\">0</span> │\n",
       "├─────────────────────────────────┼────────────────────────┼───────────────┤\n",
       "│ dense (<span style=\"color: #0087ff; text-decoration-color: #0087ff\">Dense</span>)                   │ (<span style=\"color: #00d7ff; text-decoration-color: #00d7ff\">None</span>, <span style=\"color: #00af00; text-decoration-color: #00af00\">50</span>, <span style=\"color: #00af00; text-decoration-color: #00af00\">32</span>)         │         <span style=\"color: #00af00; text-decoration-color: #00af00\">2,080</span> │\n",
       "├─────────────────────────────────┼────────────────────────┼───────────────┤\n",
       "│ dropout_1 (<span style=\"color: #0087ff; text-decoration-color: #0087ff\">Dropout</span>)             │ (<span style=\"color: #00d7ff; text-decoration-color: #00d7ff\">None</span>, <span style=\"color: #00af00; text-decoration-color: #00af00\">50</span>, <span style=\"color: #00af00; text-decoration-color: #00af00\">32</span>)         │             <span style=\"color: #00af00; text-decoration-color: #00af00\">0</span> │\n",
       "├─────────────────────────────────┼────────────────────────┼───────────────┤\n",
       "│ conv1d_1 (<span style=\"color: #0087ff; text-decoration-color: #0087ff\">Conv1D</span>)               │ (<span style=\"color: #00d7ff; text-decoration-color: #00d7ff\">None</span>, <span style=\"color: #00af00; text-decoration-color: #00af00\">50</span>, <span style=\"color: #00af00; text-decoration-color: #00af00\">64</span>)         │         <span style=\"color: #00af00; text-decoration-color: #00af00\">6,208</span> │\n",
       "├─────────────────────────────────┼────────────────────────┼───────────────┤\n",
       "│ dense_1 (<span style=\"color: #0087ff; text-decoration-color: #0087ff\">Dense</span>)                 │ (<span style=\"color: #00d7ff; text-decoration-color: #00d7ff\">None</span>, <span style=\"color: #00af00; text-decoration-color: #00af00\">50</span>, <span style=\"color: #00af00; text-decoration-color: #00af00\">32</span>)         │         <span style=\"color: #00af00; text-decoration-color: #00af00\">2,080</span> │\n",
       "├─────────────────────────────────┼────────────────────────┼───────────────┤\n",
       "│ dense_2 (<span style=\"color: #0087ff; text-decoration-color: #0087ff\">Dense</span>)                 │ (<span style=\"color: #00d7ff; text-decoration-color: #00d7ff\">None</span>, <span style=\"color: #00af00; text-decoration-color: #00af00\">50</span>, <span style=\"color: #00af00; text-decoration-color: #00af00\">3</span>)          │            <span style=\"color: #00af00; text-decoration-color: #00af00\">99</span> │\n",
       "└─────────────────────────────────┴────────────────────────┴───────────────┘\n",
       "</pre>\n"
      ],
      "text/plain": [
       "┏━━━━━━━━━━━━━━━━━━━━━━━━━━━━━━━━━┳━━━━━━━━━━━━━━━━━━━━━━━━┳━━━━━━━━━━━━━━━┓\n",
       "┃\u001b[1m \u001b[0m\u001b[1mLayer (type)                   \u001b[0m\u001b[1m \u001b[0m┃\u001b[1m \u001b[0m\u001b[1mOutput Shape          \u001b[0m\u001b[1m \u001b[0m┃\u001b[1m \u001b[0m\u001b[1m      Param #\u001b[0m\u001b[1m \u001b[0m┃\n",
       "┡━━━━━━━━━━━━━━━━━━━━━━━━━━━━━━━━━╇━━━━━━━━━━━━━━━━━━━━━━━━╇━━━━━━━━━━━━━━━┩\n",
       "│ conv1d (\u001b[38;5;33mConv1D\u001b[0m)                 │ (\u001b[38;5;45mNone\u001b[0m, \u001b[38;5;34m50\u001b[0m, \u001b[38;5;34m64\u001b[0m)         │         \u001b[38;5;34m7,360\u001b[0m │\n",
       "├─────────────────────────────────┼────────────────────────┼───────────────┤\n",
       "│ dropout (\u001b[38;5;33mDropout\u001b[0m)               │ (\u001b[38;5;45mNone\u001b[0m, \u001b[38;5;34m50\u001b[0m, \u001b[38;5;34m64\u001b[0m)         │             \u001b[38;5;34m0\u001b[0m │\n",
       "├─────────────────────────────────┼────────────────────────┼───────────────┤\n",
       "│ dense (\u001b[38;5;33mDense\u001b[0m)                   │ (\u001b[38;5;45mNone\u001b[0m, \u001b[38;5;34m50\u001b[0m, \u001b[38;5;34m32\u001b[0m)         │         \u001b[38;5;34m2,080\u001b[0m │\n",
       "├─────────────────────────────────┼────────────────────────┼───────────────┤\n",
       "│ dropout_1 (\u001b[38;5;33mDropout\u001b[0m)             │ (\u001b[38;5;45mNone\u001b[0m, \u001b[38;5;34m50\u001b[0m, \u001b[38;5;34m32\u001b[0m)         │             \u001b[38;5;34m0\u001b[0m │\n",
       "├─────────────────────────────────┼────────────────────────┼───────────────┤\n",
       "│ conv1d_1 (\u001b[38;5;33mConv1D\u001b[0m)               │ (\u001b[38;5;45mNone\u001b[0m, \u001b[38;5;34m50\u001b[0m, \u001b[38;5;34m64\u001b[0m)         │         \u001b[38;5;34m6,208\u001b[0m │\n",
       "├─────────────────────────────────┼────────────────────────┼───────────────┤\n",
       "│ dense_1 (\u001b[38;5;33mDense\u001b[0m)                 │ (\u001b[38;5;45mNone\u001b[0m, \u001b[38;5;34m50\u001b[0m, \u001b[38;5;34m32\u001b[0m)         │         \u001b[38;5;34m2,080\u001b[0m │\n",
       "├─────────────────────────────────┼────────────────────────┼───────────────┤\n",
       "│ dense_2 (\u001b[38;5;33mDense\u001b[0m)                 │ (\u001b[38;5;45mNone\u001b[0m, \u001b[38;5;34m50\u001b[0m, \u001b[38;5;34m3\u001b[0m)          │            \u001b[38;5;34m99\u001b[0m │\n",
       "└─────────────────────────────────┴────────────────────────┴───────────────┘\n"
      ]
     },
     "metadata": {},
     "output_type": "display_data"
    },
    {
     "data": {
      "text/html": [
       "<pre style=\"white-space:pre;overflow-x:auto;line-height:normal;font-family:Menlo,'DejaVu Sans Mono',consolas,'Courier New',monospace\"><span style=\"font-weight: bold\"> Total params: </span><span style=\"color: #00af00; text-decoration-color: #00af00\">17,827</span> (69.64 KB)\n",
       "</pre>\n"
      ],
      "text/plain": [
       "\u001b[1m Total params: \u001b[0m\u001b[38;5;34m17,827\u001b[0m (69.64 KB)\n"
      ]
     },
     "metadata": {},
     "output_type": "display_data"
    },
    {
     "data": {
      "text/html": [
       "<pre style=\"white-space:pre;overflow-x:auto;line-height:normal;font-family:Menlo,'DejaVu Sans Mono',consolas,'Courier New',monospace\"><span style=\"font-weight: bold\"> Trainable params: </span><span style=\"color: #00af00; text-decoration-color: #00af00\">17,827</span> (69.64 KB)\n",
       "</pre>\n"
      ],
      "text/plain": [
       "\u001b[1m Trainable params: \u001b[0m\u001b[38;5;34m17,827\u001b[0m (69.64 KB)\n"
      ]
     },
     "metadata": {},
     "output_type": "display_data"
    },
    {
     "data": {
      "text/html": [
       "<pre style=\"white-space:pre;overflow-x:auto;line-height:normal;font-family:Menlo,'DejaVu Sans Mono',consolas,'Courier New',monospace\"><span style=\"font-weight: bold\"> Non-trainable params: </span><span style=\"color: #00af00; text-decoration-color: #00af00\">0</span> (0.00 B)\n",
       "</pre>\n"
      ],
      "text/plain": [
       "\u001b[1m Non-trainable params: \u001b[0m\u001b[38;5;34m0\u001b[0m (0.00 B)\n"
      ]
     },
     "metadata": {},
     "output_type": "display_data"
    },
    {
     "name": "stdout",
     "output_type": "stream",
     "text": [
      "Epoch 1/20\n"
     ]
    },
    {
     "name": "stderr",
     "output_type": "stream",
     "text": [
      "WARNING: All log messages before absl::InitializeLog() is called are written to STDERR\n",
      "I0000 00:00:1729734870.934197      69 service.cc:145] XLA service 0x795980004ff0 initialized for platform CUDA (this does not guarantee that XLA will be used). Devices:\n",
      "I0000 00:00:1729734870.934257      69 service.cc:153]   StreamExecutor device (0): Tesla P100-PCIE-16GB, Compute Capability 6.0\n"
     ]
    },
    {
     "name": "stdout",
     "output_type": "stream",
     "text": [
      "\u001b[1m 59/585\u001b[0m \u001b[32m━━\u001b[0m\u001b[37m━━━━━━━━━━━━━━━━━━\u001b[0m \u001b[1m1s\u001b[0m 3ms/step - accuracy: 0.3377 - loss: 32.0242 - precision: 0.3377"
     ]
    },
    {
     "name": "stderr",
     "output_type": "stream",
     "text": [
      "I0000 00:00:1729734876.244893      69 device_compiler.h:188] Compiled cluster using XLA!  This line is logged at most once for the lifetime of the process.\n"
     ]
    },
    {
     "name": "stdout",
     "output_type": "stream",
     "text": [
      "\u001b[1m585/585\u001b[0m \u001b[32m━━━━━━━━━━━━━━━━━━━━\u001b[0m\u001b[37m\u001b[0m \u001b[1m13s\u001b[0m 11ms/step - accuracy: 0.3368 - loss: 32.0697 - precision: 0.3368 - val_accuracy: 0.3401 - val_loss: 31.9112 - val_precision: 0.3401\n",
      "Epoch 2/20\n",
      "\u001b[1m585/585\u001b[0m \u001b[32m━━━━━━━━━━━━━━━━━━━━\u001b[0m\u001b[37m\u001b[0m \u001b[1m2s\u001b[0m 3ms/step - accuracy: 0.3347 - loss: 32.1691 - precision: 0.3347 - val_accuracy: 0.3401 - val_loss: 31.9112 - val_precision: 0.3401\n",
      "Epoch 3/20\n",
      "\u001b[1m585/585\u001b[0m \u001b[32m━━━━━━━━━━━━━━━━━━━━\u001b[0m\u001b[37m\u001b[0m \u001b[1m2s\u001b[0m 3ms/step - accuracy: 0.3348 - loss: 32.1638 - precision: 0.3348 - val_accuracy: 0.3333 - val_loss: 32.2362 - val_precision: 0.3333\n",
      "Epoch 4/20\n",
      "\u001b[1m585/585\u001b[0m \u001b[32m━━━━━━━━━━━━━━━━━━━━\u001b[0m\u001b[37m\u001b[0m \u001b[1m2s\u001b[0m 3ms/step - accuracy: 0.3332 - loss: 32.2441 - precision: 0.3332 - val_accuracy: 0.3333 - val_loss: 32.2362 - val_precision: 0.3333\n",
      "Epoch 5/20\n",
      "\u001b[1m585/585\u001b[0m \u001b[32m━━━━━━━━━━━━━━━━━━━━\u001b[0m\u001b[37m\u001b[0m \u001b[1m2s\u001b[0m 3ms/step - accuracy: 0.3335 - loss: 32.2281 - precision: 0.3335 - val_accuracy: 0.3333 - val_loss: 32.2362 - val_precision: 0.3333\n",
      "Epoch 6/20\n",
      "\u001b[1m585/585\u001b[0m \u001b[32m━━━━━━━━━━━━━━━━━━━━\u001b[0m\u001b[37m\u001b[0m \u001b[1m2s\u001b[0m 3ms/step - accuracy: 0.3330 - loss: 32.2538 - precision: 0.3330 - val_accuracy: 0.3333 - val_loss: 32.2362 - val_precision: 0.3333\n",
      "\u001b[1m293/293\u001b[0m \u001b[32m━━━━━━━━━━━━━━━━━━━━\u001b[0m\u001b[37m\u001b[0m \u001b[1m1s\u001b[0m 2ms/step\n",
      "Class 0 - Best Threshold: 0.1, Best F1 Score: 0.09638445637296594\n",
      "Class 1 - Best Threshold: 0.1, Best F1 Score: 0.0\n",
      "Class 2 - Best Threshold: 0.1, Best F1 Score: 0.4999767458856828\n"
     ]
    },
    {
     "name": "stderr",
     "output_type": "stream",
     "text": [
      "/opt/conda/lib/python3.10/site-packages/sklearn/metrics/_classification.py:1344: UndefinedMetricWarning: Precision is ill-defined and being set to 0.0 in labels with no predicted samples. Use `zero_division` parameter to control this behavior.\n",
      "  _warn_prf(average, modifier, msg_start, len(result))\n"
     ]
    }
   ],
   "source": [
    "model, metrics = train_cnn_model(shaped_train_data, shaped_train_target,\n",
    "                                 shaped_val_data, shaped_val_target,\n",
    "                                 weights)"
   ]
  },
  {
   "cell_type": "code",
   "execution_count": 19,
   "id": "4f41a45a",
   "metadata": {
    "execution": {
     "iopub.execute_input": "2024-10-24T01:55:28.612598Z",
     "iopub.status.busy": "2024-10-24T01:55:28.611961Z",
     "iopub.status.idle": "2024-10-24T01:55:28.660469Z",
     "shell.execute_reply": "2024-10-24T01:55:28.659530Z"
    },
    "papermill": {
     "duration": 0.078329,
     "end_time": "2024-10-24T01:55:28.662381",
     "exception": false,
     "start_time": "2024-10-24T01:55:28.584052",
     "status": "completed"
    },
    "tags": []
   },
   "outputs": [],
   "source": [
    "model.save(\"model_CNN.keras\")"
   ]
  },
  {
   "cell_type": "markdown",
   "id": "5856c948",
   "metadata": {
    "papermill": {
     "duration": 0.026327,
     "end_time": "2024-10-24T01:55:28.715400",
     "exception": false,
     "start_time": "2024-10-24T01:55:28.689073",
     "status": "completed"
    },
    "tags": []
   },
   "source": [
    "### Plot the results"
   ]
  },
  {
   "cell_type": "code",
   "execution_count": 20,
   "id": "cf4d106f",
   "metadata": {
    "execution": {
     "iopub.execute_input": "2024-10-24T01:55:28.770007Z",
     "iopub.status.busy": "2024-10-24T01:55:28.769706Z",
     "iopub.status.idle": "2024-10-24T01:55:29.267957Z",
     "shell.execute_reply": "2024-10-24T01:55:29.267161Z"
    },
    "papermill": {
     "duration": 0.528305,
     "end_time": "2024-10-24T01:55:29.270172",
     "exception": false,
     "start_time": "2024-10-24T01:55:28.741867",
     "status": "completed"
    },
    "tags": []
   },
   "outputs": [],
   "source": [
    "import matplotlib.pyplot as plt\n",
    "import seaborn as sns\n",
    "import sklearn"
   ]
  },
  {
   "cell_type": "markdown",
   "id": "e3933589",
   "metadata": {
    "papermill": {
     "duration": 0.026263,
     "end_time": "2024-10-24T01:55:29.323260",
     "exception": false,
     "start_time": "2024-10-24T01:55:29.296997",
     "status": "completed"
    },
    "tags": []
   },
   "source": [
    "#### Confusion matrix"
   ]
  },
  {
   "cell_type": "code",
   "execution_count": 21,
   "id": "84988509",
   "metadata": {
    "execution": {
     "iopub.execute_input": "2024-10-24T01:55:29.377464Z",
     "iopub.status.busy": "2024-10-24T01:55:29.376913Z",
     "iopub.status.idle": "2024-10-24T01:55:29.385459Z",
     "shell.execute_reply": "2024-10-24T01:55:29.384477Z"
    },
    "papermill": {
     "duration": 0.037751,
     "end_time": "2024-10-24T01:55:29.387417",
     "exception": false,
     "start_time": "2024-10-24T01:55:29.349666",
     "status": "completed"
    },
    "tags": []
   },
   "outputs": [],
   "source": [
    "import numpy as np\n",
    "import seaborn as sns\n",
    "import matplotlib.pyplot as plt\n",
    "import sklearn.metrics\n",
    "\n",
    "def plot_confusion_matrix(model, x_test, y_test):\n",
    "    # Generate predictions\n",
    "    y_pred = model.predict(x_test)\n",
    "    y_pred_classes = np.argmax(y_pred, axis=-1)\n",
    "    y_test_classes = np.argmax(y_test, axis=-1)\n",
    "\n",
    "    # Flatten the predictions and true labels\n",
    "    y_pred_classes_flat = y_pred_classes.flatten()\n",
    "    y_test_classes_flat = y_test_classes.flatten()\n",
    "\n",
    "    # Compute the confusion matrix\n",
    "    confusion_mtx = sklearn.metrics.confusion_matrix(y_test_classes_flat, y_pred_classes_flat, normalize=\"true\")\n",
    "\n",
    "    # Set up the matplotlib figure\n",
    "    plt.figure(figsize=(8, 6))\n",
    "    sns.set(font_scale=1.2)\n",
    "    sns.set_style(\"whitegrid\")\n",
    "\n",
    "    # Create the heatmap\n",
    "    heatmap = sns.heatmap(confusion_mtx, annot=True, fmt=\".2f\", cmap=\"Blues\", square=True)\n",
    "\n",
    "    # Customize the axes and titles\n",
    "    plt.xlabel('Predicted Label')\n",
    "    plt.ylabel('True Label')\n",
    "\n",
    "    # Show the plot\n",
    "    plt.tight_layout()\n",
    "    plt.show()\n"
   ]
  },
  {
   "cell_type": "code",
   "execution_count": 22,
   "id": "a6359885",
   "metadata": {
    "execution": {
     "iopub.execute_input": "2024-10-24T01:55:29.442972Z",
     "iopub.status.busy": "2024-10-24T01:55:29.442666Z",
     "iopub.status.idle": "2024-10-24T01:55:31.099264Z",
     "shell.execute_reply": "2024-10-24T01:55:31.098260Z"
    },
    "papermill": {
     "duration": 1.688337,
     "end_time": "2024-10-24T01:55:31.102078",
     "exception": false,
     "start_time": "2024-10-24T01:55:29.413741",
     "status": "completed"
    },
    "tags": []
   },
   "outputs": [
    {
     "name": "stdout",
     "output_type": "stream",
     "text": [
      "\u001b[1m379/379\u001b[0m \u001b[32m━━━━━━━━━━━━━━━━━━━━\u001b[0m\u001b[37m\u001b[0m \u001b[1m1s\u001b[0m 2ms/step\n"
     ]
    },
    {
     "data": {
      "image/png": "[encoded data removed]",
      "text/plain": [
       "<Figure size 800x600 with 2 Axes>"
      ]
     },
     "metadata": {},
     "output_type": "display_data"
    }
   ],
   "source": [
    "plot_confusion_matrix(model, shaped_test_data, shaped_test_target)"
   ]
  },
  {
   "cell_type": "markdown",
   "id": "a9f3ce8d",
   "metadata": {
    "papermill": {
     "duration": 0.028819,
     "end_time": "2024-10-24T01:55:31.165232",
     "exception": false,
     "start_time": "2024-10-24T01:55:31.136413",
     "status": "completed"
    },
    "tags": []
   },
   "source": [
    "### K-fold validation"
   ]
  },
  {
   "cell_type": "code",
   "execution_count": 23,
   "id": "335ac845",
   "metadata": {
    "execution": {
     "iopub.execute_input": "2024-10-24T01:55:31.223644Z",
     "iopub.status.busy": "2024-10-24T01:55:31.222830Z",
     "iopub.status.idle": "2024-10-24T01:55:31.230878Z",
     "shell.execute_reply": "2024-10-24T01:55:31.229990Z"
    },
    "papermill": {
     "duration": 0.039425,
     "end_time": "2024-10-24T01:55:31.232875",
     "exception": false,
     "start_time": "2024-10-24T01:55:31.193450",
     "status": "completed"
    },
    "tags": []
   },
   "outputs": [],
   "source": [
    "def train_cnn_model_with_kfold(series, target, class_weights, k=3):\n",
    "    \n",
    "    # Ensure data is in the correct numerical format\n",
    "    series = np.array(series, dtype=np.float32)\n",
    "    target = np.array(target, dtype=np.int32)\n",
    "\n",
    "    # Initialize the KFold cross-validator\n",
    "    kf = KFold(n_splits=k, shuffle=True, random_state=42)\n",
    "\n",
    "    histories = []\n",
    "    fold_metrics = []\n",
    "\n",
    "    # Perform K-Fold cross-validation\n",
    "    for fold, (train_idx, test_idx) in enumerate(kf.split(series)):\n",
    "        print(f\"\\nTraining fold {fold + 1}/{k}...\")\n",
    "\n",
    "        # Split the data into train and validation sets\n",
    "        train_series, test_series = series[train_idx], series[test_idx]\n",
    "        train_target, test_target = target[train_idx], target[test_idx]\n",
    "\n",
    "        # Train the CNN model\n",
    "        model, metrics = train_cnn_model(train_series, train_target, test_series, test_target, class_weights)\n",
    "\n",
    "        # Save the history and model for this fold\n",
    "        histories.append(model.history)\n",
    "\n",
    "        # Save metrics for this fold\n",
    "        fold_metrics.append(metrics)\n",
    "\n",
    "    return histories, fold_metrics"
   ]
  },
  {
   "cell_type": "code",
   "execution_count": 24,
   "id": "bfeaf81d",
   "metadata": {
    "execution": {
     "iopub.execute_input": "2024-10-24T01:55:31.292482Z",
     "iopub.status.busy": "2024-10-24T01:55:31.291731Z",
     "iopub.status.idle": "2024-10-24T01:59:15.450262Z",
     "shell.execute_reply": "2024-10-24T01:59:15.448939Z"
    },
    "papermill": {
     "duration": 224.189854,
     "end_time": "2024-10-24T01:59:15.452271",
     "exception": false,
     "start_time": "2024-10-24T01:55:31.262417",
     "status": "completed"
    },
    "tags": []
   },
   "outputs": [
    {
     "name": "stdout",
     "output_type": "stream",
     "text": [
      "\n",
      "Training fold 1/3...\n"
     ]
    },
    {
     "data": {
      "text/html": [
       "<pre style=\"white-space:pre;overflow-x:auto;line-height:normal;font-family:Menlo,'DejaVu Sans Mono',consolas,'Courier New',monospace\"><span style=\"font-weight: bold\">Model: \"sequential_1\"</span>\n",
       "</pre>\n"
      ],
      "text/plain": [
       "\u001b[1mModel: \"sequential_1\"\u001b[0m\n"
      ]
     },
     "metadata": {},
     "output_type": "display_data"
    },
    {
     "data": {
      "text/html": [
       "<pre style=\"white-space:pre;overflow-x:auto;line-height:normal;font-family:Menlo,'DejaVu Sans Mono',consolas,'Courier New',monospace\">┏━━━━━━━━━━━━━━━━━━━━━━━━━━━━━━━━━┳━━━━━━━━━━━━━━━━━━━━━━━━┳━━━━━━━━━━━━━━━┓\n",
       "┃<span style=\"font-weight: bold\"> Layer (type)                    </span>┃<span style=\"font-weight: bold\"> Output Shape           </span>┃<span style=\"font-weight: bold\">       Param # </span>┃\n",
       "┡━━━━━━━━━━━━━━━━━━━━━━━━━━━━━━━━━╇━━━━━━━━━━━━━━━━━━━━━━━━╇━━━━━━━━━━━━━━━┩\n",
       "│ conv1d_2 (<span style=\"color: #0087ff; text-decoration-color: #0087ff\">Conv1D</span>)               │ (<span style=\"color: #00d7ff; text-decoration-color: #00d7ff\">None</span>, <span style=\"color: #00af00; text-decoration-color: #00af00\">50</span>, <span style=\"color: #00af00; text-decoration-color: #00af00\">64</span>)         │         <span style=\"color: #00af00; text-decoration-color: #00af00\">7,360</span> │\n",
       "├─────────────────────────────────┼────────────────────────┼───────────────┤\n",
       "│ dropout_2 (<span style=\"color: #0087ff; text-decoration-color: #0087ff\">Dropout</span>)             │ (<span style=\"color: #00d7ff; text-decoration-color: #00d7ff\">None</span>, <span style=\"color: #00af00; text-decoration-color: #00af00\">50</span>, <span style=\"color: #00af00; text-decoration-color: #00af00\">64</span>)         │             <span style=\"color: #00af00; text-decoration-color: #00af00\">0</span> │\n",
       "├─────────────────────────────────┼────────────────────────┼───────────────┤\n",
       "│ dense_3 (<span style=\"color: #0087ff; text-decoration-color: #0087ff\">Dense</span>)                 │ (<span style=\"color: #00d7ff; text-decoration-color: #00d7ff\">None</span>, <span style=\"color: #00af00; text-decoration-color: #00af00\">50</span>, <span style=\"color: #00af00; text-decoration-color: #00af00\">32</span>)         │         <span style=\"color: #00af00; text-decoration-color: #00af00\">2,080</span> │\n",
       "├─────────────────────────────────┼────────────────────────┼───────────────┤\n",
       "│ dropout_3 (<span style=\"color: #0087ff; text-decoration-color: #0087ff\">Dropout</span>)             │ (<span style=\"color: #00d7ff; text-decoration-color: #00d7ff\">None</span>, <span style=\"color: #00af00; text-decoration-color: #00af00\">50</span>, <span style=\"color: #00af00; text-decoration-color: #00af00\">32</span>)         │             <span style=\"color: #00af00; text-decoration-color: #00af00\">0</span> │\n",
       "├─────────────────────────────────┼────────────────────────┼───────────────┤\n",
       "│ conv1d_3 (<span style=\"color: #0087ff; text-decoration-color: #0087ff\">Conv1D</span>)               │ (<span style=\"color: #00d7ff; text-decoration-color: #00d7ff\">None</span>, <span style=\"color: #00af00; text-decoration-color: #00af00\">50</span>, <span style=\"color: #00af00; text-decoration-color: #00af00\">64</span>)         │         <span style=\"color: #00af00; text-decoration-color: #00af00\">6,208</span> │\n",
       "├─────────────────────────────────┼────────────────────────┼───────────────┤\n",
       "│ dense_4 (<span style=\"color: #0087ff; text-decoration-color: #0087ff\">Dense</span>)                 │ (<span style=\"color: #00d7ff; text-decoration-color: #00d7ff\">None</span>, <span style=\"color: #00af00; text-decoration-color: #00af00\">50</span>, <span style=\"color: #00af00; text-decoration-color: #00af00\">32</span>)         │         <span style=\"color: #00af00; text-decoration-color: #00af00\">2,080</span> │\n",
       "├─────────────────────────────────┼────────────────────────┼───────────────┤\n",
       "│ dense_5 (<span style=\"color: #0087ff; text-decoration-color: #0087ff\">Dense</span>)                 │ (<span style=\"color: #00d7ff; text-decoration-color: #00d7ff\">None</span>, <span style=\"color: #00af00; text-decoration-color: #00af00\">50</span>, <span style=\"color: #00af00; text-decoration-color: #00af00\">3</span>)          │            <span style=\"color: #00af00; text-decoration-color: #00af00\">99</span> │\n",
       "└─────────────────────────────────┴────────────────────────┴───────────────┘\n",
       "</pre>\n"
      ],
      "text/plain": [
       "┏━━━━━━━━━━━━━━━━━━━━━━━━━━━━━━━━━┳━━━━━━━━━━━━━━━━━━━━━━━━┳━━━━━━━━━━━━━━━┓\n",
       "┃\u001b[1m \u001b[0m\u001b[1mLayer (type)                   \u001b[0m\u001b[1m \u001b[0m┃\u001b[1m \u001b[0m\u001b[1mOutput Shape          \u001b[0m\u001b[1m \u001b[0m┃\u001b[1m \u001b[0m\u001b[1m      Param #\u001b[0m\u001b[1m \u001b[0m┃\n",
       "┡━━━━━━━━━━━━━━━━━━━━━━━━━━━━━━━━━╇━━━━━━━━━━━━━━━━━━━━━━━━╇━━━━━━━━━━━━━━━┩\n",
       "│ conv1d_2 (\u001b[38;5;33mConv1D\u001b[0m)               │ (\u001b[38;5;45mNone\u001b[0m, \u001b[38;5;34m50\u001b[0m, \u001b[38;5;34m64\u001b[0m)         │         \u001b[38;5;34m7,360\u001b[0m │\n",
       "├─────────────────────────────────┼────────────────────────┼───────────────┤\n",
       "│ dropout_2 (\u001b[38;5;33mDropout\u001b[0m)             │ (\u001b[38;5;45mNone\u001b[0m, \u001b[38;5;34m50\u001b[0m, \u001b[38;5;34m64\u001b[0m)         │             \u001b[38;5;34m0\u001b[0m │\n",
       "├─────────────────────────────────┼────────────────────────┼───────────────┤\n",
       "│ dense_3 (\u001b[38;5;33mDense\u001b[0m)                 │ (\u001b[38;5;45mNone\u001b[0m, \u001b[38;5;34m50\u001b[0m, \u001b[38;5;34m32\u001b[0m)         │         \u001b[38;5;34m2,080\u001b[0m │\n",
       "├─────────────────────────────────┼────────────────────────┼───────────────┤\n",
       "│ dropout_3 (\u001b[38;5;33mDropout\u001b[0m)             │ (\u001b[38;5;45mNone\u001b[0m, \u001b[38;5;34m50\u001b[0m, \u001b[38;5;34m32\u001b[0m)         │             \u001b[38;5;34m0\u001b[0m │\n",
       "├─────────────────────────────────┼────────────────────────┼───────────────┤\n",
       "│ conv1d_3 (\u001b[38;5;33mConv1D\u001b[0m)               │ (\u001b[38;5;45mNone\u001b[0m, \u001b[38;5;34m50\u001b[0m, \u001b[38;5;34m64\u001b[0m)         │         \u001b[38;5;34m6,208\u001b[0m │\n",
       "├─────────────────────────────────┼────────────────────────┼───────────────┤\n",
       "│ dense_4 (\u001b[38;5;33mDense\u001b[0m)                 │ (\u001b[38;5;45mNone\u001b[0m, \u001b[38;5;34m50\u001b[0m, \u001b[38;5;34m32\u001b[0m)         │         \u001b[38;5;34m2,080\u001b[0m │\n",
       "├─────────────────────────────────┼────────────────────────┼───────────────┤\n",
       "│ dense_5 (\u001b[38;5;33mDense\u001b[0m)                 │ (\u001b[38;5;45mNone\u001b[0m, \u001b[38;5;34m50\u001b[0m, \u001b[38;5;34m3\u001b[0m)          │            \u001b[38;5;34m99\u001b[0m │\n",
       "└─────────────────────────────────┴────────────────────────┴───────────────┘\n"
      ]
     },
     "metadata": {},
     "output_type": "display_data"
    },
    {
     "data": {
      "text/html": [
       "<pre style=\"white-space:pre;overflow-x:auto;line-height:normal;font-family:Menlo,'DejaVu Sans Mono',consolas,'Courier New',monospace\"><span style=\"font-weight: bold\"> Total params: </span><span style=\"color: #00af00; text-decoration-color: #00af00\">17,827</span> (69.64 KB)\n",
       "</pre>\n"
      ],
      "text/plain": [
       "\u001b[1m Total params: \u001b[0m\u001b[38;5;34m17,827\u001b[0m (69.64 KB)\n"
      ]
     },
     "metadata": {},
     "output_type": "display_data"
    },
    {
     "data": {
      "text/html": [
       "<pre style=\"white-space:pre;overflow-x:auto;line-height:normal;font-family:Menlo,'DejaVu Sans Mono',consolas,'Courier New',monospace\"><span style=\"font-weight: bold\"> Trainable params: </span><span style=\"color: #00af00; text-decoration-color: #00af00\">17,827</span> (69.64 KB)\n",
       "</pre>\n"
      ],
      "text/plain": [
       "\u001b[1m Trainable params: \u001b[0m\u001b[38;5;34m17,827\u001b[0m (69.64 KB)\n"
      ]
     },
     "metadata": {},
     "output_type": "display_data"
    },
    {
     "data": {
      "text/html": [
       "<pre style=\"white-space:pre;overflow-x:auto;line-height:normal;font-family:Menlo,'DejaVu Sans Mono',consolas,'Courier New',monospace\"><span style=\"font-weight: bold\"> Non-trainable params: </span><span style=\"color: #00af00; text-decoration-color: #00af00\">0</span> (0.00 B)\n",
       "</pre>\n"
      ],
      "text/plain": [
       "\u001b[1m Non-trainable params: \u001b[0m\u001b[38;5;34m0\u001b[0m (0.00 B)\n"
      ]
     },
     "metadata": {},
     "output_type": "display_data"
    },
    {
     "name": "stdout",
     "output_type": "stream",
     "text": [
      "Epoch 1/20\n",
      "\u001b[1m390/390\u001b[0m \u001b[32m━━━━━━━━━━━━━━━━━━━━\u001b[0m\u001b[37m\u001b[0m \u001b[1m11s\u001b[0m 15ms/step - accuracy: 0.3332 - loss: 32.2431 - precision: 0.3332 - val_accuracy: 0.3346 - val_loss: 32.1755 - val_precision: 0.3346\n",
      "Epoch 2/20\n",
      "\u001b[1m390/390\u001b[0m \u001b[32m━━━━━━━━━━━━━━━━━━━━\u001b[0m\u001b[37m\u001b[0m \u001b[1m1s\u001b[0m 3ms/step - accuracy: 0.3330 - loss: 32.2512 - precision: 0.3330 - val_accuracy: 0.3303 - val_loss: 32.3806 - val_precision: 0.3303\n",
      "Epoch 3/20\n",
      "\u001b[1m390/390\u001b[0m \u001b[32m━━━━━━━━━━━━━━━━━━━━\u001b[0m\u001b[37m\u001b[0m \u001b[1m1s\u001b[0m 3ms/step - accuracy: 0.3301 - loss: 32.3914 - precision: 0.3301 - val_accuracy: 0.3331 - val_loss: 32.2483 - val_precision: 0.3331\n",
      "Epoch 4/20\n",
      "\u001b[1m390/390\u001b[0m \u001b[32m━━━━━━━━━━━━━━━━━━━━\u001b[0m\u001b[37m\u001b[0m \u001b[1m1s\u001b[0m 3ms/step - accuracy: 0.3328 - loss: 32.2600 - precision: 0.3328 - val_accuracy: 0.3331 - val_loss: 32.2483 - val_precision: 0.3331\n",
      "Epoch 5/20\n",
      "\u001b[1m390/390\u001b[0m \u001b[32m━━━━━━━━━━━━━━━━━━━━\u001b[0m\u001b[37m\u001b[0m \u001b[1m1s\u001b[0m 3ms/step - accuracy: 0.3322 - loss: 32.2898 - precision: 0.3322 - val_accuracy: 0.3331 - val_loss: 32.2483 - val_precision: 0.3331\n",
      "Epoch 6/20\n",
      "\u001b[1m390/390\u001b[0m \u001b[32m━━━━━━━━━━━━━━━━━━━━\u001b[0m\u001b[37m\u001b[0m \u001b[1m1s\u001b[0m 3ms/step - accuracy: 0.3332 - loss: 32.2403 - precision: 0.3332 - val_accuracy: 0.3331 - val_loss: 32.2483 - val_precision: 0.3331\n",
      "\u001b[1m390/390\u001b[0m \u001b[32m━━━━━━━━━━━━━━━━━━━━\u001b[0m\u001b[37m\u001b[0m \u001b[1m1s\u001b[0m 2ms/step\n",
      "Class 0 - Best Threshold: 0.1, Best F1 Score: 0.4045366371246731\n",
      "Class 1 - Best Threshold: 0.1, Best F1 Score: 0.010069588896032676\n",
      "Class 2 - Best Threshold: 0.1, Best F1 Score: 0.39709553160202254\n",
      "\n",
      "Training fold 2/3...\n"
     ]
    },
    {
     "data": {
      "text/html": [
       "<pre style=\"white-space:pre;overflow-x:auto;line-height:normal;font-family:Menlo,'DejaVu Sans Mono',consolas,'Courier New',monospace\"><span style=\"font-weight: bold\">Model: \"sequential_2\"</span>\n",
       "</pre>\n"
      ],
      "text/plain": [
       "\u001b[1mModel: \"sequential_2\"\u001b[0m\n"
      ]
     },
     "metadata": {},
     "output_type": "display_data"
    },
    {
     "data": {
      "text/html": [
       "<pre style=\"white-space:pre;overflow-x:auto;line-height:normal;font-family:Menlo,'DejaVu Sans Mono',consolas,'Courier New',monospace\">┏━━━━━━━━━━━━━━━━━━━━━━━━━━━━━━━━━┳━━━━━━━━━━━━━━━━━━━━━━━━┳━━━━━━━━━━━━━━━┓\n",
       "┃<span style=\"font-weight: bold\"> Layer (type)                    </span>┃<span style=\"font-weight: bold\"> Output Shape           </span>┃<span style=\"font-weight: bold\">       Param # </span>┃\n",
       "┡━━━━━━━━━━━━━━━━━━━━━━━━━━━━━━━━━╇━━━━━━━━━━━━━━━━━━━━━━━━╇━━━━━━━━━━━━━━━┩\n",
       "│ conv1d_4 (<span style=\"color: #0087ff; text-decoration-color: #0087ff\">Conv1D</span>)               │ (<span style=\"color: #00d7ff; text-decoration-color: #00d7ff\">None</span>, <span style=\"color: #00af00; text-decoration-color: #00af00\">50</span>, <span style=\"color: #00af00; text-decoration-color: #00af00\">64</span>)         │         <span style=\"color: #00af00; text-decoration-color: #00af00\">7,360</span> │\n",
       "├─────────────────────────────────┼────────────────────────┼───────────────┤\n",
       "│ dropout_4 (<span style=\"color: #0087ff; text-decoration-color: #0087ff\">Dropout</span>)             │ (<span style=\"color: #00d7ff; text-decoration-color: #00d7ff\">None</span>, <span style=\"color: #00af00; text-decoration-color: #00af00\">50</span>, <span style=\"color: #00af00; text-decoration-color: #00af00\">64</span>)         │             <span style=\"color: #00af00; text-decoration-color: #00af00\">0</span> │\n",
       "├─────────────────────────────────┼────────────────────────┼───────────────┤\n",
       "│ dense_6 (<span style=\"color: #0087ff; text-decoration-color: #0087ff\">Dense</span>)                 │ (<span style=\"color: #00d7ff; text-decoration-color: #00d7ff\">None</span>, <span style=\"color: #00af00; text-decoration-color: #00af00\">50</span>, <span style=\"color: #00af00; text-decoration-color: #00af00\">32</span>)         │         <span style=\"color: #00af00; text-decoration-color: #00af00\">2,080</span> │\n",
       "├─────────────────────────────────┼────────────────────────┼───────────────┤\n",
       "│ dropout_5 (<span style=\"color: #0087ff; text-decoration-color: #0087ff\">Dropout</span>)             │ (<span style=\"color: #00d7ff; text-decoration-color: #00d7ff\">None</span>, <span style=\"color: #00af00; text-decoration-color: #00af00\">50</span>, <span style=\"color: #00af00; text-decoration-color: #00af00\">32</span>)         │             <span style=\"color: #00af00; text-decoration-color: #00af00\">0</span> │\n",
       "├─────────────────────────────────┼────────────────────────┼───────────────┤\n",
       "│ conv1d_5 (<span style=\"color: #0087ff; text-decoration-color: #0087ff\">Conv1D</span>)               │ (<span style=\"color: #00d7ff; text-decoration-color: #00d7ff\">None</span>, <span style=\"color: #00af00; text-decoration-color: #00af00\">50</span>, <span style=\"color: #00af00; text-decoration-color: #00af00\">64</span>)         │         <span style=\"color: #00af00; text-decoration-color: #00af00\">6,208</span> │\n",
       "├─────────────────────────────────┼────────────────────────┼───────────────┤\n",
       "│ dense_7 (<span style=\"color: #0087ff; text-decoration-color: #0087ff\">Dense</span>)                 │ (<span style=\"color: #00d7ff; text-decoration-color: #00d7ff\">None</span>, <span style=\"color: #00af00; text-decoration-color: #00af00\">50</span>, <span style=\"color: #00af00; text-decoration-color: #00af00\">32</span>)         │         <span style=\"color: #00af00; text-decoration-color: #00af00\">2,080</span> │\n",
       "├─────────────────────────────────┼────────────────────────┼───────────────┤\n",
       "│ dense_8 (<span style=\"color: #0087ff; text-decoration-color: #0087ff\">Dense</span>)                 │ (<span style=\"color: #00d7ff; text-decoration-color: #00d7ff\">None</span>, <span style=\"color: #00af00; text-decoration-color: #00af00\">50</span>, <span style=\"color: #00af00; text-decoration-color: #00af00\">3</span>)          │            <span style=\"color: #00af00; text-decoration-color: #00af00\">99</span> │\n",
       "└─────────────────────────────────┴────────────────────────┴───────────────┘\n",
       "</pre>\n"
      ],
      "text/plain": [
       "┏━━━━━━━━━━━━━━━━━━━━━━━━━━━━━━━━━┳━━━━━━━━━━━━━━━━━━━━━━━━┳━━━━━━━━━━━━━━━┓\n",
       "┃\u001b[1m \u001b[0m\u001b[1mLayer (type)                   \u001b[0m\u001b[1m \u001b[0m┃\u001b[1m \u001b[0m\u001b[1mOutput Shape          \u001b[0m\u001b[1m \u001b[0m┃\u001b[1m \u001b[0m\u001b[1m      Param #\u001b[0m\u001b[1m \u001b[0m┃\n",
       "┡━━━━━━━━━━━━━━━━━━━━━━━━━━━━━━━━━╇━━━━━━━━━━━━━━━━━━━━━━━━╇━━━━━━━━━━━━━━━┩\n",
       "│ conv1d_4 (\u001b[38;5;33mConv1D\u001b[0m)               │ (\u001b[38;5;45mNone\u001b[0m, \u001b[38;5;34m50\u001b[0m, \u001b[38;5;34m64\u001b[0m)         │         \u001b[38;5;34m7,360\u001b[0m │\n",
       "├─────────────────────────────────┼────────────────────────┼───────────────┤\n",
       "│ dropout_4 (\u001b[38;5;33mDropout\u001b[0m)             │ (\u001b[38;5;45mNone\u001b[0m, \u001b[38;5;34m50\u001b[0m, \u001b[38;5;34m64\u001b[0m)         │             \u001b[38;5;34m0\u001b[0m │\n",
       "├─────────────────────────────────┼────────────────────────┼───────────────┤\n",
       "│ dense_6 (\u001b[38;5;33mDense\u001b[0m)                 │ (\u001b[38;5;45mNone\u001b[0m, \u001b[38;5;34m50\u001b[0m, \u001b[38;5;34m32\u001b[0m)         │         \u001b[38;5;34m2,080\u001b[0m │\n",
       "├─────────────────────────────────┼────────────────────────┼───────────────┤\n",
       "│ dropout_5 (\u001b[38;5;33mDropout\u001b[0m)             │ (\u001b[38;5;45mNone\u001b[0m, \u001b[38;5;34m50\u001b[0m, \u001b[38;5;34m32\u001b[0m)         │             \u001b[38;5;34m0\u001b[0m │\n",
       "├─────────────────────────────────┼────────────────────────┼───────────────┤\n",
       "│ conv1d_5 (\u001b[38;5;33mConv1D\u001b[0m)               │ (\u001b[38;5;45mNone\u001b[0m, \u001b[38;5;34m50\u001b[0m, \u001b[38;5;34m64\u001b[0m)         │         \u001b[38;5;34m6,208\u001b[0m │\n",
       "├─────────────────────────────────┼────────────────────────┼───────────────┤\n",
       "│ dense_7 (\u001b[38;5;33mDense\u001b[0m)                 │ (\u001b[38;5;45mNone\u001b[0m, \u001b[38;5;34m50\u001b[0m, \u001b[38;5;34m32\u001b[0m)         │         \u001b[38;5;34m2,080\u001b[0m │\n",
       "├─────────────────────────────────┼────────────────────────┼───────────────┤\n",
       "│ dense_8 (\u001b[38;5;33mDense\u001b[0m)                 │ (\u001b[38;5;45mNone\u001b[0m, \u001b[38;5;34m50\u001b[0m, \u001b[38;5;34m3\u001b[0m)          │            \u001b[38;5;34m99\u001b[0m │\n",
       "└─────────────────────────────────┴────────────────────────┴───────────────┘\n"
      ]
     },
     "metadata": {},
     "output_type": "display_data"
    },
    {
     "data": {
      "text/html": [
       "<pre style=\"white-space:pre;overflow-x:auto;line-height:normal;font-family:Menlo,'DejaVu Sans Mono',consolas,'Courier New',monospace\"><span style=\"font-weight: bold\"> Total params: </span><span style=\"color: #00af00; text-decoration-color: #00af00\">17,827</span> (69.64 KB)\n",
       "</pre>\n"
      ],
      "text/plain": [
       "\u001b[1m Total params: \u001b[0m\u001b[38;5;34m17,827\u001b[0m (69.64 KB)\n"
      ]
     },
     "metadata": {},
     "output_type": "display_data"
    },
    {
     "data": {
      "text/html": [
       "<pre style=\"white-space:pre;overflow-x:auto;line-height:normal;font-family:Menlo,'DejaVu Sans Mono',consolas,'Courier New',monospace\"><span style=\"font-weight: bold\"> Trainable params: </span><span style=\"color: #00af00; text-decoration-color: #00af00\">17,827</span> (69.64 KB)\n",
       "</pre>\n"
      ],
      "text/plain": [
       "\u001b[1m Trainable params: \u001b[0m\u001b[38;5;34m17,827\u001b[0m (69.64 KB)\n"
      ]
     },
     "metadata": {},
     "output_type": "display_data"
    },
    {
     "data": {
      "text/html": [
       "<pre style=\"white-space:pre;overflow-x:auto;line-height:normal;font-family:Menlo,'DejaVu Sans Mono',consolas,'Courier New',monospace\"><span style=\"font-weight: bold\"> Non-trainable params: </span><span style=\"color: #00af00; text-decoration-color: #00af00\">0</span> (0.00 B)\n",
       "</pre>\n"
      ],
      "text/plain": [
       "\u001b[1m Non-trainable params: \u001b[0m\u001b[38;5;34m0\u001b[0m (0.00 B)\n"
      ]
     },
     "metadata": {},
     "output_type": "display_data"
    },
    {
     "name": "stdout",
     "output_type": "stream",
     "text": [
      "Epoch 1/20\n",
      "\u001b[1m390/390\u001b[0m \u001b[32m━━━━━━━━━━━━━━━━━━━━\u001b[0m\u001b[37m\u001b[0m \u001b[1m10s\u001b[0m 15ms/step - accuracy: 0.3395 - loss: 31.9352 - precision: 0.3395 - val_accuracy: 0.3331 - val_loss: 32.2453 - val_precision: 0.3331\n",
      "Epoch 2/20\n",
      "\u001b[1m390/390\u001b[0m \u001b[32m━━━━━━━━━━━━━━━━━━━━\u001b[0m\u001b[37m\u001b[0m \u001b[1m1s\u001b[0m 3ms/step - accuracy: 0.3345 - loss: 32.1792 - precision: 0.3345 - val_accuracy: 0.3331 - val_loss: 32.2453 - val_precision: 0.3331\n",
      "Epoch 3/20\n",
      "\u001b[1m390/390\u001b[0m \u001b[32m━━━━━━━━━━━━━━━━━━━━\u001b[0m\u001b[37m\u001b[0m \u001b[1m1s\u001b[0m 3ms/step - accuracy: 0.3347 - loss: 32.1679 - precision: 0.3347 - val_accuracy: 0.3346 - val_loss: 32.1750 - val_precision: 0.3346\n",
      "Epoch 4/20\n",
      "\u001b[1m390/390\u001b[0m \u001b[32m━━━━━━━━━━━━━━━━━━━━\u001b[0m\u001b[37m\u001b[0m \u001b[1m1s\u001b[0m 3ms/step - accuracy: 0.3361 - loss: 32.1010 - precision: 0.3361 - val_accuracy: 0.3331 - val_loss: 32.2453 - val_precision: 0.3331\n",
      "Epoch 5/20\n",
      "\u001b[1m390/390\u001b[0m \u001b[32m━━━━━━━━━━━━━━━━━━━━\u001b[0m\u001b[37m\u001b[0m \u001b[1m1s\u001b[0m 3ms/step - accuracy: 0.3336 - loss: 32.2211 - precision: 0.3336 - val_accuracy: 0.3331 - val_loss: 32.2453 - val_precision: 0.3331\n",
      "Epoch 6/20\n",
      "\u001b[1m390/390\u001b[0m \u001b[32m━━━━━━━━━━━━━━━━━━━━\u001b[0m\u001b[37m\u001b[0m \u001b[1m1s\u001b[0m 3ms/step - accuracy: 0.3333 - loss: 32.2394 - precision: 0.3333 - val_accuracy: 0.3331 - val_loss: 32.2453 - val_precision: 0.3331\n",
      "Epoch 7/20\n",
      "\u001b[1m390/390\u001b[0m \u001b[32m━━━━━━━━━━━━━━━━━━━━\u001b[0m\u001b[37m\u001b[0m \u001b[1m1s\u001b[0m 3ms/step - accuracy: 0.3332 - loss: 32.2431 - precision: 0.3332 - val_accuracy: 0.3331 - val_loss: 32.2453 - val_precision: 0.3331\n",
      "Epoch 8/20\n",
      "\u001b[1m390/390\u001b[0m \u001b[32m━━━━━━━━━━━━━━━━━━━━\u001b[0m\u001b[37m\u001b[0m \u001b[1m1s\u001b[0m 3ms/step - accuracy: 0.3323 - loss: 32.2865 - precision: 0.3323 - val_accuracy: 0.3331 - val_loss: 32.2453 - val_precision: 0.3331\n",
      "\u001b[1m390/390\u001b[0m \u001b[32m━━━━━━━━━━━━━━━━━━━━\u001b[0m\u001b[37m\u001b[0m \u001b[1m1s\u001b[0m 2ms/step\n",
      "Class 0 - Best Threshold: 0.1, Best F1 Score: 0.0002306516871209864\n",
      "Class 1 - Best Threshold: 0.1, Best F1 Score: 0.49957051264239233\n",
      "Class 2 - Best Threshold: 0.1, Best F1 Score: 0.018074994209762576\n",
      "\n",
      "Training fold 3/3...\n"
     ]
    },
    {
     "data": {
      "text/html": [
       "<pre style=\"white-space:pre;overflow-x:auto;line-height:normal;font-family:Menlo,'DejaVu Sans Mono',consolas,'Courier New',monospace\"><span style=\"font-weight: bold\">Model: \"sequential_3\"</span>\n",
       "</pre>\n"
      ],
      "text/plain": [
       "\u001b[1mModel: \"sequential_3\"\u001b[0m\n"
      ]
     },
     "metadata": {},
     "output_type": "display_data"
    },
    {
     "data": {
      "text/html": [
       "<pre style=\"white-space:pre;overflow-x:auto;line-height:normal;font-family:Menlo,'DejaVu Sans Mono',consolas,'Courier New',monospace\">┏━━━━━━━━━━━━━━━━━━━━━━━━━━━━━━━━━┳━━━━━━━━━━━━━━━━━━━━━━━━┳━━━━━━━━━━━━━━━┓\n",
       "┃<span style=\"font-weight: bold\"> Layer (type)                    </span>┃<span style=\"font-weight: bold\"> Output Shape           </span>┃<span style=\"font-weight: bold\">       Param # </span>┃\n",
       "┡━━━━━━━━━━━━━━━━━━━━━━━━━━━━━━━━━╇━━━━━━━━━━━━━━━━━━━━━━━━╇━━━━━━━━━━━━━━━┩\n",
       "│ conv1d_6 (<span style=\"color: #0087ff; text-decoration-color: #0087ff\">Conv1D</span>)               │ (<span style=\"color: #00d7ff; text-decoration-color: #00d7ff\">None</span>, <span style=\"color: #00af00; text-decoration-color: #00af00\">50</span>, <span style=\"color: #00af00; text-decoration-color: #00af00\">64</span>)         │         <span style=\"color: #00af00; text-decoration-color: #00af00\">7,360</span> │\n",
       "├─────────────────────────────────┼────────────────────────┼───────────────┤\n",
       "│ dropout_6 (<span style=\"color: #0087ff; text-decoration-color: #0087ff\">Dropout</span>)             │ (<span style=\"color: #00d7ff; text-decoration-color: #00d7ff\">None</span>, <span style=\"color: #00af00; text-decoration-color: #00af00\">50</span>, <span style=\"color: #00af00; text-decoration-color: #00af00\">64</span>)         │             <span style=\"color: #00af00; text-decoration-color: #00af00\">0</span> │\n",
       "├─────────────────────────────────┼────────────────────────┼───────────────┤\n",
       "│ dense_9 (<span style=\"color: #0087ff; text-decoration-color: #0087ff\">Dense</span>)                 │ (<span style=\"color: #00d7ff; text-decoration-color: #00d7ff\">None</span>, <span style=\"color: #00af00; text-decoration-color: #00af00\">50</span>, <span style=\"color: #00af00; text-decoration-color: #00af00\">32</span>)         │         <span style=\"color: #00af00; text-decoration-color: #00af00\">2,080</span> │\n",
       "├─────────────────────────────────┼────────────────────────┼───────────────┤\n",
       "│ dropout_7 (<span style=\"color: #0087ff; text-decoration-color: #0087ff\">Dropout</span>)             │ (<span style=\"color: #00d7ff; text-decoration-color: #00d7ff\">None</span>, <span style=\"color: #00af00; text-decoration-color: #00af00\">50</span>, <span style=\"color: #00af00; text-decoration-color: #00af00\">32</span>)         │             <span style=\"color: #00af00; text-decoration-color: #00af00\">0</span> │\n",
       "├─────────────────────────────────┼────────────────────────┼───────────────┤\n",
       "│ conv1d_7 (<span style=\"color: #0087ff; text-decoration-color: #0087ff\">Conv1D</span>)               │ (<span style=\"color: #00d7ff; text-decoration-color: #00d7ff\">None</span>, <span style=\"color: #00af00; text-decoration-color: #00af00\">50</span>, <span style=\"color: #00af00; text-decoration-color: #00af00\">64</span>)         │         <span style=\"color: #00af00; text-decoration-color: #00af00\">6,208</span> │\n",
       "├─────────────────────────────────┼────────────────────────┼───────────────┤\n",
       "│ dense_10 (<span style=\"color: #0087ff; text-decoration-color: #0087ff\">Dense</span>)                │ (<span style=\"color: #00d7ff; text-decoration-color: #00d7ff\">None</span>, <span style=\"color: #00af00; text-decoration-color: #00af00\">50</span>, <span style=\"color: #00af00; text-decoration-color: #00af00\">32</span>)         │         <span style=\"color: #00af00; text-decoration-color: #00af00\">2,080</span> │\n",
       "├─────────────────────────────────┼────────────────────────┼───────────────┤\n",
       "│ dense_11 (<span style=\"color: #0087ff; text-decoration-color: #0087ff\">Dense</span>)                │ (<span style=\"color: #00d7ff; text-decoration-color: #00d7ff\">None</span>, <span style=\"color: #00af00; text-decoration-color: #00af00\">50</span>, <span style=\"color: #00af00; text-decoration-color: #00af00\">3</span>)          │            <span style=\"color: #00af00; text-decoration-color: #00af00\">99</span> │\n",
       "└─────────────────────────────────┴────────────────────────┴───────────────┘\n",
       "</pre>\n"
      ],
      "text/plain": [
       "┏━━━━━━━━━━━━━━━━━━━━━━━━━━━━━━━━━┳━━━━━━━━━━━━━━━━━━━━━━━━┳━━━━━━━━━━━━━━━┓\n",
       "┃\u001b[1m \u001b[0m\u001b[1mLayer (type)                   \u001b[0m\u001b[1m \u001b[0m┃\u001b[1m \u001b[0m\u001b[1mOutput Shape          \u001b[0m\u001b[1m \u001b[0m┃\u001b[1m \u001b[0m\u001b[1m      Param #\u001b[0m\u001b[1m \u001b[0m┃\n",
       "┡━━━━━━━━━━━━━━━━━━━━━━━━━━━━━━━━━╇━━━━━━━━━━━━━━━━━━━━━━━━╇━━━━━━━━━━━━━━━┩\n",
       "│ conv1d_6 (\u001b[38;5;33mConv1D\u001b[0m)               │ (\u001b[38;5;45mNone\u001b[0m, \u001b[38;5;34m50\u001b[0m, \u001b[38;5;34m64\u001b[0m)         │         \u001b[38;5;34m7,360\u001b[0m │\n",
       "├─────────────────────────────────┼────────────────────────┼───────────────┤\n",
       "│ dropout_6 (\u001b[38;5;33mDropout\u001b[0m)             │ (\u001b[38;5;45mNone\u001b[0m, \u001b[38;5;34m50\u001b[0m, \u001b[38;5;34m64\u001b[0m)         │             \u001b[38;5;34m0\u001b[0m │\n",
       "├─────────────────────────────────┼────────────────────────┼───────────────┤\n",
       "│ dense_9 (\u001b[38;5;33mDense\u001b[0m)                 │ (\u001b[38;5;45mNone\u001b[0m, \u001b[38;5;34m50\u001b[0m, \u001b[38;5;34m32\u001b[0m)         │         \u001b[38;5;34m2,080\u001b[0m │\n",
       "├─────────────────────────────────┼────────────────────────┼───────────────┤\n",
       "│ dropout_7 (\u001b[38;5;33mDropout\u001b[0m)             │ (\u001b[38;5;45mNone\u001b[0m, \u001b[38;5;34m50\u001b[0m, \u001b[38;5;34m32\u001b[0m)         │             \u001b[38;5;34m0\u001b[0m │\n",
       "├─────────────────────────────────┼────────────────────────┼───────────────┤\n",
       "│ conv1d_7 (\u001b[38;5;33mConv1D\u001b[0m)               │ (\u001b[38;5;45mNone\u001b[0m, \u001b[38;5;34m50\u001b[0m, \u001b[38;5;34m64\u001b[0m)         │         \u001b[38;5;34m6,208\u001b[0m │\n",
       "├─────────────────────────────────┼────────────────────────┼───────────────┤\n",
       "│ dense_10 (\u001b[38;5;33mDense\u001b[0m)                │ (\u001b[38;5;45mNone\u001b[0m, \u001b[38;5;34m50\u001b[0m, \u001b[38;5;34m32\u001b[0m)         │         \u001b[38;5;34m2,080\u001b[0m │\n",
       "├─────────────────────────────────┼────────────────────────┼───────────────┤\n",
       "│ dense_11 (\u001b[38;5;33mDense\u001b[0m)                │ (\u001b[38;5;45mNone\u001b[0m, \u001b[38;5;34m50\u001b[0m, \u001b[38;5;34m3\u001b[0m)          │            \u001b[38;5;34m99\u001b[0m │\n",
       "└─────────────────────────────────┴────────────────────────┴───────────────┘\n"
      ]
     },
     "metadata": {},
     "output_type": "display_data"
    },
    {
     "data": {
      "text/html": [
       "<pre style=\"white-space:pre;overflow-x:auto;line-height:normal;font-family:Menlo,'DejaVu Sans Mono',consolas,'Courier New',monospace\"><span style=\"font-weight: bold\"> Total params: </span><span style=\"color: #00af00; text-decoration-color: #00af00\">17,827</span> (69.64 KB)\n",
       "</pre>\n"
      ],
      "text/plain": [
       "\u001b[1m Total params: \u001b[0m\u001b[38;5;34m17,827\u001b[0m (69.64 KB)\n"
      ]
     },
     "metadata": {},
     "output_type": "display_data"
    },
    {
     "data": {
      "text/html": [
       "<pre style=\"white-space:pre;overflow-x:auto;line-height:normal;font-family:Menlo,'DejaVu Sans Mono',consolas,'Courier New',monospace\"><span style=\"font-weight: bold\"> Trainable params: </span><span style=\"color: #00af00; text-decoration-color: #00af00\">17,827</span> (69.64 KB)\n",
       "</pre>\n"
      ],
      "text/plain": [
       "\u001b[1m Trainable params: \u001b[0m\u001b[38;5;34m17,827\u001b[0m (69.64 KB)\n"
      ]
     },
     "metadata": {},
     "output_type": "display_data"
    },
    {
     "data": {
      "text/html": [
       "<pre style=\"white-space:pre;overflow-x:auto;line-height:normal;font-family:Menlo,'DejaVu Sans Mono',consolas,'Courier New',monospace\"><span style=\"font-weight: bold\"> Non-trainable params: </span><span style=\"color: #00af00; text-decoration-color: #00af00\">0</span> (0.00 B)\n",
       "</pre>\n"
      ],
      "text/plain": [
       "\u001b[1m Non-trainable params: \u001b[0m\u001b[38;5;34m0\u001b[0m (0.00 B)\n"
      ]
     },
     "metadata": {},
     "output_type": "display_data"
    },
    {
     "name": "stdout",
     "output_type": "stream",
     "text": [
      "Epoch 1/20\n",
      "\u001b[1m390/390\u001b[0m \u001b[32m━━━━━━━━━━━━━━━━━━━━\u001b[0m\u001b[37m\u001b[0m \u001b[1m10s\u001b[0m 13ms/step - accuracy: 0.3338 - loss: 32.2139 - precision: 0.3338 - val_accuracy: 0.3337 - val_loss: 32.2174 - val_precision: 0.3337\n",
      "Epoch 2/20\n",
      "\u001b[1m390/390\u001b[0m \u001b[32m━━━━━━━━━━━━━━━━━━━━\u001b[0m\u001b[37m\u001b[0m \u001b[1m1s\u001b[0m 3ms/step - accuracy: 0.3336 - loss: 32.2249 - precision: 0.3336 - val_accuracy: 0.3337 - val_loss: 32.2174 - val_precision: 0.3337\n",
      "Epoch 3/20\n",
      "\u001b[1m390/390\u001b[0m \u001b[32m━━━━━━━━━━━━━━━━━━━━\u001b[0m\u001b[37m\u001b[0m \u001b[1m1s\u001b[0m 3ms/step - accuracy: 0.3331 - loss: 32.2470 - precision: 0.3331 - val_accuracy: 0.3337 - val_loss: 32.2174 - val_precision: 0.3337\n",
      "Epoch 4/20\n",
      "\u001b[1m390/390\u001b[0m \u001b[32m━━━━━━━━━━━━━━━━━━━━\u001b[0m\u001b[37m\u001b[0m \u001b[1m1s\u001b[0m 3ms/step - accuracy: 0.3331 - loss: 32.2464 - precision: 0.3331 - val_accuracy: 0.3337 - val_loss: 32.2174 - val_precision: 0.3337\n",
      "Epoch 5/20\n",
      "\u001b[1m390/390\u001b[0m \u001b[32m━━━━━━━━━━━━━━━━━━━━\u001b[0m\u001b[37m\u001b[0m \u001b[1m1s\u001b[0m 3ms/step - accuracy: 0.3329 - loss: 32.2559 - precision: 0.3329 - val_accuracy: 0.3337 - val_loss: 32.2174 - val_precision: 0.3337\n",
      "Epoch 6/20\n",
      "\u001b[1m390/390\u001b[0m \u001b[32m━━━━━━━━━━━━━━━━━━━━\u001b[0m\u001b[37m\u001b[0m \u001b[1m1s\u001b[0m 3ms/step - accuracy: 0.3329 - loss: 32.2581 - precision: 0.3329 - val_accuracy: 0.3337 - val_loss: 32.2174 - val_precision: 0.3337\n",
      "\u001b[1m390/390\u001b[0m \u001b[32m━━━━━━━━━━━━━━━━━━━━\u001b[0m\u001b[37m\u001b[0m \u001b[1m1s\u001b[0m 2ms/step\n",
      "Class 0 - Best Threshold: 0.1, Best F1 Score: 0.0\n",
      "Class 1 - Best Threshold: 0.1, Best F1 Score: 0.001134953688118574\n",
      "Class 2 - Best Threshold: 0.1, Best F1 Score: 0.5003493623085573\n"
     ]
    },
    {
     "name": "stderr",
     "output_type": "stream",
     "text": [
      "/opt/conda/lib/python3.10/site-packages/sklearn/metrics/_classification.py:1344: UndefinedMetricWarning: Precision is ill-defined and being set to 0.0 in labels with no predicted samples. Use `zero_division` parameter to control this behavior.\n",
      "  _warn_prf(average, modifier, msg_start, len(result))\n"
     ]
    }
   ],
   "source": [
    "histories, fold_metrics = train_cnn_model_with_kfold(shaped_train_data, shaped_train_target, weights)"
   ]
  },
  {
   "cell_type": "markdown",
   "id": "acb0b973",
   "metadata": {
    "papermill": {
     "duration": 0.066426,
     "end_time": "2024-10-24T01:59:15.586453",
     "exception": false,
     "start_time": "2024-10-24T01:59:15.520027",
     "status": "completed"
    },
    "tags": []
   },
   "source": [
    "#### Metrics"
   ]
  },
  {
   "cell_type": "code",
   "execution_count": 25,
   "id": "a7343632",
   "metadata": {
    "execution": {
     "iopub.execute_input": "2024-10-24T01:59:15.760651Z",
     "iopub.status.busy": "2024-10-24T01:59:15.759727Z",
     "iopub.status.idle": "2024-10-24T01:59:15.769299Z",
     "shell.execute_reply": "2024-10-24T01:59:15.768392Z"
    },
    "papermill": {
     "duration": 0.080382,
     "end_time": "2024-10-24T01:59:15.771276",
     "exception": false,
     "start_time": "2024-10-24T01:59:15.690894",
     "status": "completed"
    },
    "tags": []
   },
   "outputs": [],
   "source": [
    "def print_fold_metrics_summary(fold_metrics):\n",
    "    # Convert fold_metrics (list of dicts) into a DataFrame\n",
    "    metrics_df = pd.DataFrame(fold_metrics)\n",
    "    \n",
    "    # Calculate mean and standard error for each metric\n",
    "    summary_df = pd.DataFrame({\n",
    "        'Metric': ['accuracy', 'precision', 'recall', 'f1_score'],\n",
    "        'Mean': [\n",
    "            metrics_df['accuracy'].mean(),\n",
    "            metrics_df['precision'].mean(),\n",
    "            metrics_df['recall'].mean(),\n",
    "            metrics_df['f1_score'].mean()\n",
    "        ],\n",
    "        'Standard Error': [\n",
    "            metrics_df['accuracy'].std() / np.sqrt(len(metrics_df)),\n",
    "            metrics_df['precision'].std() / np.sqrt(len(metrics_df)),\n",
    "            metrics_df['recall'].std() / np.sqrt(len(metrics_df)),\n",
    "            metrics_df['f1_score'].std() / np.sqrt(len(metrics_df))\n",
    "        ]\n",
    "    })\n",
    "\n",
    "    # Print the summary table\n",
    "    print(summary_df.to_string(index=False))\n",
    "\n",
    "\n",
    "def print_overall_metrics(metrics):\n",
    "    # Specify the desired order of metrics\n",
    "    metric_order = ['accuracy', 'precision', 'recall', 'f1_score']\n",
    "    # Create a DataFrame from the metrics dictionary\n",
    "    metrics_df = pd.DataFrame.from_dict(metrics, orient='index', columns=['Value'])\n",
    "    # Reindex the DataFrame to ensure the desired order\n",
    "    metrics_df = metrics_df.reindex(metric_order)\n",
    "    # Print the metrics table\n",
    "    print(metrics_df.to_string(index=True, header=False))"
   ]
  },
  {
   "cell_type": "code",
   "execution_count": 26,
   "id": "0007cd1c",
   "metadata": {
    "execution": {
     "iopub.execute_input": "2024-10-24T01:59:15.907545Z",
     "iopub.status.busy": "2024-10-24T01:59:15.906927Z",
     "iopub.status.idle": "2024-10-24T01:59:15.919546Z",
     "shell.execute_reply": "2024-10-24T01:59:15.918538Z"
    },
    "papermill": {
     "duration": 0.083742,
     "end_time": "2024-10-24T01:59:15.921470",
     "exception": false,
     "start_time": "2024-10-24T01:59:15.837728",
     "status": "completed"
    },
    "tags": []
   },
   "outputs": [
    {
     "name": "stdout",
     "output_type": "stream",
     "text": [
      "   Metric     Mean  Standard Error\n",
      " accuracy 0.334301        0.000290\n",
      "precision 0.303660        0.048646\n",
      "   recall 0.334319        0.000559\n",
      " f1_score 0.203451        0.033595\n"
     ]
    }
   ],
   "source": [
    "print_fold_metrics_summary(fold_metrics)"
   ]
  },
  {
   "cell_type": "code",
   "execution_count": 27,
   "id": "0e4dd0ac",
   "metadata": {
    "execution": {
     "iopub.execute_input": "2024-10-24T01:59:16.056761Z",
     "iopub.status.busy": "2024-10-24T01:59:16.055994Z",
     "iopub.status.idle": "2024-10-24T01:59:16.062396Z",
     "shell.execute_reply": "2024-10-24T01:59:16.061560Z"
    },
    "papermill": {
     "duration": 0.075995,
     "end_time": "2024-10-24T01:59:16.064411",
     "exception": false,
     "start_time": "2024-10-24T01:59:15.988416",
     "status": "completed"
    },
    "tags": []
   },
   "outputs": [
    {
     "name": "stdout",
     "output_type": "stream",
     "text": [
      "accuracy   0.340053\n",
      "precision  0.244355\n",
      "recall     0.340055\n",
      "f1_score   0.198787\n"
     ]
    }
   ],
   "source": [
    "print_overall_metrics(metrics)"
   ]
  }
 ],
 "metadata": {
  "kaggle": {
   "accelerator": "gpu",
   "dataSources": [
    {
     "databundleVersionId": 6589269,
     "sourceId": 53666,
     "sourceType": "competition"
    },
    {
     "datasetId": 5914455,
     "sourceId": 9701847,
     "sourceType": "datasetVersion"
    },
    {
     "sourceId": 202502869,
     "sourceType": "kernelVersion"
    },
    {
     "sourceId": 202821354,
     "sourceType": "kernelVersion"
    },
    {
     "sourceId": 202870475,
     "sourceType": "kernelVersion"
    }
   ],
   "dockerImageVersionId": 30787,
   "isGpuEnabled": true,
   "isInternetEnabled": false,
   "language": "python",
   "sourceType": "notebook"
  },
  "kernelspec": {
   "display_name": "Python 3",
   "language": "python",
   "name": "python3"
  },
  "language_info": {
   "codemirror_mode": {
    "name": "ipython",
    "version": 3
   },
   "file_extension": ".py",
   "mimetype": "text/x-python",
   "name": "python",
   "nbconvert_exporter": "python",
   "pygments_lexer": "ipython3",
   "version": "3.10.14"
  },
  "papermill": {
   "default_parameters": {},
   "duration": 338.292795,
   "end_time": "2024-10-24T01:59:19.388217",
   "environment_variables": {},
   "exception": null,
   "input_path": "__notebook__.ipynb",
   "output_path": "__notebook__.ipynb",
   "parameters": {},
   "start_time": "2024-10-24T01:53:41.095422",
   "version": "2.6.0"
  }
 },
 "nbformat": 4,
 "nbformat_minor": 5
}
