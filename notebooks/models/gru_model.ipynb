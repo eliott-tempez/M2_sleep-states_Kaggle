{
 "cells": [
  {
   "cell_type": "markdown",
   "id": "b3bc80ad",
   "metadata": {
    "papermill": {
     "duration": 0.011331,
     "end_time": "2024-10-23T23:48:54.490126",
     "exception": false,
     "start_time": "2024-10-23T23:48:54.478795",
     "status": "completed"
    },
    "tags": []
   },
   "source": [
    "# GRU model"
   ]
  },
  {
   "cell_type": "markdown",
   "id": "0e7844cd",
   "metadata": {
    "papermill": {
     "duration": 0.010328,
     "end_time": "2024-10-23T23:48:54.512192",
     "exception": false,
     "start_time": "2024-10-23T23:48:54.501864",
     "status": "completed"
    },
    "tags": []
   },
   "source": [
    "## 1. Import data"
   ]
  },
  {
   "cell_type": "code",
   "execution_count": 2,
   "id": "a3f336f6",
   "metadata": {
    "execution": {
     "iopub.execute_input": "2024-10-23T23:49:27.616758Z",
     "iopub.status.busy": "2024-10-23T23:49:27.616073Z",
     "iopub.status.idle": "2024-10-23T23:49:28.405072Z",
     "shell.execute_reply": "2024-10-23T23:49:28.404258Z"
    },
    "papermill": {
     "duration": 0.802711,
     "end_time": "2024-10-23T23:49:28.407485",
     "exception": false,
     "start_time": "2024-10-23T23:49:27.604774",
     "status": "completed"
    },
    "tags": []
   },
   "outputs": [],
   "source": [
    "import pandas as pd\n",
    "import sys\n",
    "import numpy as np\n",
    "\n",
    "sys.path.append('/kaggle/input/utility-scripts')\n",
    "from features import add_features"
   ]
  },
  {
   "cell_type": "code",
   "execution_count": 3,
   "id": "50c99b38",
   "metadata": {
    "execution": {
     "iopub.execute_input": "2024-10-23T23:49:28.429489Z",
     "iopub.status.busy": "2024-10-23T23:49:28.429052Z",
     "iopub.status.idle": "2024-10-23T23:49:30.450770Z",
     "shell.execute_reply": "2024-10-23T23:49:30.449685Z"
    },
    "papermill": {
     "duration": 2.035421,
     "end_time": "2024-10-23T23:49:30.453519",
     "exception": false,
     "start_time": "2024-10-23T23:49:28.418098",
     "status": "completed"
    },
    "tags": []
   },
   "outputs": [],
   "source": [
    "# Import datasets\n",
    "train_series = pd.read_csv(\"/kaggle/input/input-data/filtered_train_series_continuous.csv\")\n",
    "test_series = pd.read_csv(\"/kaggle/input/input-data/filtered_test_series_continuous.csv\")"
   ]
  },
  {
   "cell_type": "code",
   "execution_count": 4,
   "id": "d92d8bfa",
   "metadata": {
    "execution": {
     "iopub.execute_input": "2024-10-23T23:49:30.476169Z",
     "iopub.status.busy": "2024-10-23T23:49:30.475537Z",
     "iopub.status.idle": "2024-10-23T23:49:43.465561Z",
     "shell.execute_reply": "2024-10-23T23:49:43.464467Z"
    },
    "papermill": {
     "duration": 13.003603,
     "end_time": "2024-10-23T23:49:43.468066",
     "exception": false,
     "start_time": "2024-10-23T23:49:30.464463",
     "status": "completed"
    },
    "tags": []
   },
   "outputs": [],
   "source": [
    "# Add features\n",
    "train_series = add_features(train_series)\n",
    "test_series = add_features(test_series)"
   ]
  },
  {
   "cell_type": "code",
   "execution_count": 5,
   "id": "ea6b126e",
   "metadata": {
    "execution": {
     "iopub.execute_input": "2024-10-23T23:49:43.489795Z",
     "iopub.status.busy": "2024-10-23T23:49:43.489473Z",
     "iopub.status.idle": "2024-10-23T23:49:43.494425Z",
     "shell.execute_reply": "2024-10-23T23:49:43.493456Z"
    },
    "papermill": {
     "duration": 0.018209,
     "end_time": "2024-10-23T23:49:43.496679",
     "exception": false,
     "start_time": "2024-10-23T23:49:43.478470",
     "status": "completed"
    },
    "tags": []
   },
   "outputs": [
    {
     "name": "stdout",
     "output_type": "stream",
     "text": [
      "(787158, 40)\n",
      "(204125, 40)\n"
     ]
    }
   ],
   "source": [
    "print(train_series.shape)\n",
    "print(test_series.shape)"
   ]
  },
  {
   "cell_type": "code",
   "execution_count": 6,
   "id": "c5080671",
   "metadata": {
    "execution": {
     "iopub.execute_input": "2024-10-23T23:49:43.518372Z",
     "iopub.status.busy": "2024-10-23T23:49:43.517993Z",
     "iopub.status.idle": "2024-10-23T23:49:43.839624Z",
     "shell.execute_reply": "2024-10-23T23:49:43.838563Z"
    },
    "papermill": {
     "duration": 0.33483,
     "end_time": "2024-10-23T23:49:43.841801",
     "exception": false,
     "start_time": "2024-10-23T23:49:43.506971",
     "status": "completed"
    },
    "tags": []
   },
   "outputs": [
    {
     "name": "stdout",
     "output_type": "stream",
     "text": [
      "(786942, 40)\n",
      "(204072, 40)\n"
     ]
    }
   ],
   "source": [
    "# Delete NAs\n",
    "train_series = train_series.dropna()\n",
    "test_series = test_series.dropna()\n",
    "print(train_series.shape)\n",
    "print(test_series.shape)"
   ]
  },
  {
   "cell_type": "markdown",
   "id": "4c044349",
   "metadata": {
    "papermill": {
     "duration": 0.009899,
     "end_time": "2024-10-23T23:49:43.862246",
     "exception": false,
     "start_time": "2024-10-23T23:49:43.852347",
     "status": "completed"
    },
    "tags": []
   },
   "source": [
    "### Reshape the training data into 3D with SMOTE\n",
    "\n",
    "So that it includes time windows (50 = ~7h)"
   ]
  },
  {
   "cell_type": "code",
   "execution_count": 7,
   "id": "88ba5e06",
   "metadata": {
    "execution": {
     "iopub.execute_input": "2024-10-23T23:49:43.884181Z",
     "iopub.status.busy": "2024-10-23T23:49:43.883800Z",
     "iopub.status.idle": "2024-10-23T23:49:45.541345Z",
     "shell.execute_reply": "2024-10-23T23:49:45.540494Z"
    },
    "papermill": {
     "duration": 1.671511,
     "end_time": "2024-10-23T23:49:45.543847",
     "exception": false,
     "start_time": "2024-10-23T23:49:43.872336",
     "status": "completed"
    },
    "tags": []
   },
   "outputs": [],
   "source": [
    "from imblearn.over_sampling import SMOTE\n",
    "from sklearn.model_selection import train_test_split"
   ]
  },
  {
   "cell_type": "code",
   "execution_count": 8,
   "id": "e0ef18a1",
   "metadata": {
    "execution": {
     "iopub.execute_input": "2024-10-23T23:49:45.566922Z",
     "iopub.status.busy": "2024-10-23T23:49:45.566469Z",
     "iopub.status.idle": "2024-10-23T23:49:45.577731Z",
     "shell.execute_reply": "2024-10-23T23:49:45.576820Z"
    },
    "papermill": {
     "duration": 0.025353,
     "end_time": "2024-10-23T23:49:45.579841",
     "exception": false,
     "start_time": "2024-10-23T23:49:45.554488",
     "status": "completed"
    },
    "tags": []
   },
   "outputs": [],
   "source": [
    "import pandas as pd\n",
    "import numpy as np\n",
    "from imblearn.over_sampling import SMOTE\n",
    "\n",
    "def convert_to_3d(df, timestep_length=50, resample=True):\n",
    "    # Ensure the DataFrame is sorted by series_id and step\n",
    "    df = df.sort_values(by=[\"series_id\", \"step\"])\n",
    "        \n",
    "    # Extract the events\n",
    "    events = df[\"event\"]\n",
    "    # Remove the 'series_id' and 'events' column from the features\n",
    "    features = df.drop(columns=[\"series_id\", \"event\"])\n",
    "    \n",
    "    # SMOTE \n",
    "    smote = SMOTE(random_state=42)\n",
    "    smote_series, smote_event = smote.fit_resample(features, events)\n",
    "    \n",
    "    if resample:\n",
    "        # Split into train and eval\n",
    "        X_train, X_val, Y_train, Y_val = train_test_split(smote_series, smote_event,\n",
    "                                                         test_size=0.2, stratify=smote_event,\n",
    "                                                         random_state=42)\n",
    "        # Get the number of rows \n",
    "        num_rows_train = len(Y_train)\n",
    "        num_rows_val = len(Y_val)\n",
    "        # Truncate to the largest multiple of timestep_length\n",
    "        num_rows_to_keep_train = num_rows_train - (num_rows_train % timestep_length)\n",
    "        num_rows_to_keep_val = num_rows_val - (num_rows_val % timestep_length)\n",
    "\n",
    "        # Reshape the events array\n",
    "        reshaped_event_train = Y_train[:num_rows_to_keep_train].values.reshape(-1, timestep_length)\n",
    "        reshaped_event_val = Y_val[:num_rows_to_keep_val].values.reshape(-1, timestep_length)\n",
    "        # Reshape the dataframe into a 3D numpy array: (n_series, timesteps, features)\n",
    "        reshaped_data_train = X_train[:num_rows_to_keep_train].values.reshape(-1, timestep_length, X_train.shape[1])\n",
    "        reshaped_data_val = X_val[:num_rows_to_keep_val].values.reshape(-1, timestep_length, X_val.shape[1])\n",
    "        return reshaped_data_train, reshaped_data_val, reshaped_event_train, reshaped_event_val\n",
    "    \n",
    "    # Get the number of rows in the SMOTE resampled events\n",
    "    num_rows = len(smote_event)\n",
    "    # Truncate to the largest multiple of timestep_length\n",
    "    num_rows_to_keep = num_rows - (num_rows % timestep_length)\n",
    "    \n",
    "    # Reshape the events array\n",
    "    reshaped_event = smote_event[:num_rows_to_keep].values.reshape(-1, timestep_length)\n",
    "    # Reshape the dataframe into a 3D numpy array: (n_series, timesteps, features)\n",
    "    reshaped_data = smote_series[:num_rows_to_keep].values.reshape(-1, timestep_length, smote_series.shape[1])\n",
    "    \n",
    "    return reshaped_data, reshaped_event"
   ]
  },
  {
   "cell_type": "code",
   "execution_count": 9,
   "id": "16169ec7",
   "metadata": {
    "execution": {
     "iopub.execute_input": "2024-10-23T23:49:45.602283Z",
     "iopub.status.busy": "2024-10-23T23:49:45.601753Z",
     "iopub.status.idle": "2024-10-23T23:49:52.396291Z",
     "shell.execute_reply": "2024-10-23T23:49:52.395358Z"
    },
    "papermill": {
     "duration": 6.808202,
     "end_time": "2024-10-23T23:49:52.398510",
     "exception": false,
     "start_time": "2024-10-23T23:49:45.590308",
     "status": "completed"
    },
    "tags": []
   },
   "outputs": [],
   "source": [
    "shaped_train_data, shaped_val_data, shaped_train_tar, shaped_val_tar = convert_to_3d(train_series)\n",
    "shaped_test_data, shaped_test_tar = convert_to_3d(test_series, resample=False)"
   ]
  },
  {
   "cell_type": "code",
   "execution_count": 10,
   "id": "e429bad0",
   "metadata": {
    "execution": {
     "iopub.execute_input": "2024-10-23T23:49:52.420861Z",
     "iopub.status.busy": "2024-10-23T23:49:52.420524Z",
     "iopub.status.idle": "2024-10-23T23:49:52.426719Z",
     "shell.execute_reply": "2024-10-23T23:49:52.425875Z"
    },
    "papermill": {
     "duration": 0.019818,
     "end_time": "2024-10-23T23:49:52.429006",
     "exception": false,
     "start_time": "2024-10-23T23:49:52.409188",
     "status": "completed"
    },
    "tags": []
   },
   "outputs": [
    {
     "name": "stdout",
     "output_type": "stream",
     "text": [
      "Train data:\n",
      "(37423, 50, 38)\n",
      "(37423, 50) \n",
      "\n",
      "Eval data:\n",
      "(9355, 50, 38)\n",
      "(9355, 50) \n",
      "\n",
      "Test data:\n",
      "(12121, 50, 38)\n",
      "(12121, 50)\n"
     ]
    }
   ],
   "source": [
    "print(\"Train data:\")\n",
    "print(shaped_train_data.shape)\n",
    "print(shaped_train_tar.shape, \"\\n\")\n",
    "print(\"Eval data:\")\n",
    "print(shaped_val_data.shape)\n",
    "print(shaped_val_tar.shape, \"\\n\")\n",
    "print(\"Test data:\")\n",
    "print(shaped_test_data.shape)\n",
    "print(shaped_test_tar.shape)"
   ]
  },
  {
   "cell_type": "code",
   "execution_count": 11,
   "id": "b6c72709",
   "metadata": {
    "execution": {
     "iopub.execute_input": "2024-10-23T23:49:52.450786Z",
     "iopub.status.busy": "2024-10-23T23:49:52.450502Z",
     "iopub.status.idle": "2024-10-23T23:49:52.466020Z",
     "shell.execute_reply": "2024-10-23T23:49:52.464825Z"
    },
    "papermill": {
     "duration": 0.028567,
     "end_time": "2024-10-23T23:49:52.468037",
     "exception": false,
     "start_time": "2024-10-23T23:49:52.439470",
     "status": "completed"
    },
    "tags": []
   },
   "outputs": [
    {
     "name": "stdout",
     "output_type": "stream",
     "text": [
      "[3.00001283 2.99998397 3.00000321]\n"
     ]
    }
   ],
   "source": [
    "# Calculate class weights\n",
    "unique, counts = np.unique(shaped_train_tar, return_counts=True)\n",
    "weights = counts.sum()/counts\n",
    "print(weights)"
   ]
  },
  {
   "cell_type": "markdown",
   "id": "82660074",
   "metadata": {
    "papermill": {
     "duration": 0.009931,
     "end_time": "2024-10-23T23:49:52.488450",
     "exception": false,
     "start_time": "2024-10-23T23:49:52.478519",
     "status": "completed"
    },
    "tags": []
   },
   "source": [
    "### One hot encoding"
   ]
  },
  {
   "cell_type": "code",
   "execution_count": 12,
   "id": "7723d030",
   "metadata": {
    "execution": {
     "iopub.execute_input": "2024-10-23T23:49:52.509995Z",
     "iopub.status.busy": "2024-10-23T23:49:52.509693Z",
     "iopub.status.idle": "2024-10-23T23:50:04.772134Z",
     "shell.execute_reply": "2024-10-23T23:50:04.771350Z"
    },
    "papermill": {
     "duration": 12.275829,
     "end_time": "2024-10-23T23:50:04.774464",
     "exception": false,
     "start_time": "2024-10-23T23:49:52.498635",
     "status": "completed"
    },
    "tags": []
   },
   "outputs": [],
   "source": [
    "import keras"
   ]
  },
  {
   "cell_type": "code",
   "execution_count": 13,
   "id": "498f0756",
   "metadata": {
    "execution": {
     "iopub.execute_input": "2024-10-23T23:50:04.797006Z",
     "iopub.status.busy": "2024-10-23T23:50:04.796481Z",
     "iopub.status.idle": "2024-10-23T23:50:04.846829Z",
     "shell.execute_reply": "2024-10-23T23:50:04.846016Z"
    },
    "papermill": {
     "duration": 0.063974,
     "end_time": "2024-10-23T23:50:04.849112",
     "exception": false,
     "start_time": "2024-10-23T23:50:04.785138",
     "status": "completed"
    },
    "tags": []
   },
   "outputs": [],
   "source": [
    "shaped_train_target = keras.utils.to_categorical(shaped_train_tar)\n",
    "shaped_val_target = keras.utils.to_categorical(shaped_val_tar)\n",
    "shaped_test_target = keras.utils.to_categorical(shaped_test_tar)"
   ]
  },
  {
   "cell_type": "code",
   "execution_count": 14,
   "id": "95563685",
   "metadata": {
    "execution": {
     "iopub.execute_input": "2024-10-23T23:50:04.871150Z",
     "iopub.status.busy": "2024-10-23T23:50:04.870829Z",
     "iopub.status.idle": "2024-10-23T23:50:04.876064Z",
     "shell.execute_reply": "2024-10-23T23:50:04.875054Z"
    },
    "papermill": {
     "duration": 0.018491,
     "end_time": "2024-10-23T23:50:04.878187",
     "exception": false,
     "start_time": "2024-10-23T23:50:04.859696",
     "status": "completed"
    },
    "tags": []
   },
   "outputs": [
    {
     "name": "stdout",
     "output_type": "stream",
     "text": [
      "One hot encoded targets:\n",
      "(37423, 50, 3)\n",
      "(9355, 50, 3)\n",
      "(12121, 50, 3)\n"
     ]
    }
   ],
   "source": [
    "print(\"One hot encoded targets:\")\n",
    "print(shaped_train_target.shape)\n",
    "print(shaped_val_target.shape)\n",
    "print(shaped_test_target.shape)"
   ]
  },
  {
   "cell_type": "markdown",
   "id": "a8fa5c74",
   "metadata": {
    "papermill": {
     "duration": 0.010074,
     "end_time": "2024-10-23T23:50:04.898613",
     "exception": false,
     "start_time": "2024-10-23T23:50:04.888539",
     "status": "completed"
    },
    "tags": []
   },
   "source": [
    "## 2. Build and run model"
   ]
  },
  {
   "cell_type": "code",
   "execution_count": 15,
   "id": "bdfe9100",
   "metadata": {
    "execution": {
     "iopub.execute_input": "2024-10-23T23:50:04.920294Z",
     "iopub.status.busy": "2024-10-23T23:50:04.919965Z",
     "iopub.status.idle": "2024-10-23T23:50:04.986228Z",
     "shell.execute_reply": "2024-10-23T23:50:04.985443Z"
    },
    "papermill": {
     "duration": 0.079361,
     "end_time": "2024-10-23T23:50:04.988286",
     "exception": false,
     "start_time": "2024-10-23T23:50:04.908925",
     "status": "completed"
    },
    "tags": []
   },
   "outputs": [],
   "source": [
    "# Suppress TensorFlow warnings\n",
    "import os\n",
    "os.environ['TF_CPP_MIN_LOG_LEVEL'] = '3'\n",
    "\n",
    "from tensorflow import keras\n",
    "import tensorflow as tf\n",
    "from sklearn.model_selection import KFold\n",
    "from keras.models import Sequential\n",
    "from keras.layers import GRU, Dense, Input, Bidirectional, Dropout, Conv1D, MaxPooling1D, BatchNormalization\n",
    "from keras.optimizers import Adam\n",
    "from keras.callbacks import EarlyStopping\n",
    "from sklearn.model_selection import KFold\n",
    "from sklearn.metrics import precision_score, recall_score, f1_score, accuracy_score\n",
    "from tensorflow.keras import backend as K\n",
    "from sklearn.utils.class_weight import compute_class_weight\n",
    "from sklearn.metrics import roc_curve\n"
   ]
  },
  {
   "cell_type": "markdown",
   "id": "23342abe",
   "metadata": {
    "papermill": {
     "duration": 0.010066,
     "end_time": "2024-10-23T23:50:05.008730",
     "exception": false,
     "start_time": "2024-10-23T23:50:04.998664",
     "status": "completed"
    },
    "tags": []
   },
   "source": [
    "### Home-made loss function"
   ]
  },
  {
   "cell_type": "code",
   "execution_count": 16,
   "id": "51e3c42a",
   "metadata": {
    "execution": {
     "iopub.execute_input": "2024-10-23T23:50:05.030507Z",
     "iopub.status.busy": "2024-10-23T23:50:05.030155Z",
     "iopub.status.idle": "2024-10-23T23:50:05.036343Z",
     "shell.execute_reply": "2024-10-23T23:50:05.035442Z"
    },
    "papermill": {
     "duration": 0.019153,
     "end_time": "2024-10-23T23:50:05.038157",
     "exception": false,
     "start_time": "2024-10-23T23:50:05.019004",
     "status": "completed"
    },
    "tags": []
   },
   "outputs": [],
   "source": [
    "def weighted_categorical_crossentropy(weights):\n",
    "    \n",
    "    weights = K.variable(weights)\n",
    "\n",
    "    def loss(y_true, y_pred):\n",
    "        \"\"\"Calculate weighted categorical crossentropy loss.\"\"\"\n",
    "        # Clip predictions to avoid log(0)\n",
    "        y_pred = K.clip(y_pred, K.epsilon(), 1 - K.epsilon())\n",
    "        \n",
    "        # Calculate unweighted categorical crossentropy\n",
    "        cce = y_true * K.log(y_pred)\n",
    "        \n",
    "        # Multiply with weights for each class\n",
    "        weighted_cce = cce * weights\n",
    "        \n",
    "        # Take mean across timesteps and batch dimensions\n",
    "        return -K.mean(K.sum(weighted_cce, axis=-1))  # sum across classes, mean across batch and timesteps\n",
    "\n",
    "    return loss"
   ]
  },
  {
   "cell_type": "markdown",
   "id": "e729d31f",
   "metadata": {
    "papermill": {
     "duration": 0.010989,
     "end_time": "2024-10-23T23:50:05.059399",
     "exception": false,
     "start_time": "2024-10-23T23:50:05.048410",
     "status": "completed"
    },
    "tags": []
   },
   "source": [
    "### Build and train the model"
   ]
  },
  {
   "cell_type": "code",
   "execution_count": 17,
   "id": "a7e9c1ca",
   "metadata": {
    "execution": {
     "iopub.execute_input": "2024-10-23T23:50:05.081052Z",
     "iopub.status.busy": "2024-10-23T23:50:05.080752Z",
     "iopub.status.idle": "2024-10-23T23:50:05.088111Z",
     "shell.execute_reply": "2024-10-23T23:50:05.087276Z"
    },
    "papermill": {
     "duration": 0.020358,
     "end_time": "2024-10-23T23:50:05.089972",
     "exception": false,
     "start_time": "2024-10-23T23:50:05.069614",
     "status": "completed"
    },
    "tags": []
   },
   "outputs": [],
   "source": [
    "def find_optimal_threshold(test_target_classes, test_pred, num_classes=3):\n",
    "    thresholds = np.arange(0.1, 0.9, 0.01)  # Range of thresholds to search\n",
    "    best_thresholds = []\n",
    "    best_f1_scores = []\n",
    "    \n",
    "    # Loop through each class to find the best threshold for maximizing F1 score\n",
    "    for i in range(num_classes):\n",
    "        f1_scores = []\n",
    "        for threshold in thresholds:\n",
    "            # Binarize predictions using the threshold\n",
    "            binary_pred = (test_pred[:, i] >= threshold).astype(int)\n",
    "            binary_true = (test_target_classes == i).astype(int)\n",
    "\n",
    "            # Compute F1 score\n",
    "            f1 = f1_score(binary_true, binary_pred, zero_division=1)\n",
    "            f1_scores.append(f1)\n",
    "\n",
    "        # Get the best threshold for this class\n",
    "        best_idx = np.argmax(f1_scores)\n",
    "        best_thresholds.append(thresholds[best_idx])\n",
    "        best_f1_scores.append(f1_scores[best_idx])\n",
    "\n",
    "        print(f\"Class {i} - Best Threshold: {best_thresholds[-1]}, Best F1 Score: {best_f1_scores[-1]}\")\n",
    "    \n",
    "    return best_thresholds, best_f1_scores"
   ]
  },
  {
   "cell_type": "code",
   "execution_count": 18,
   "id": "a61c3a78",
   "metadata": {
    "execution": {
     "iopub.execute_input": "2024-10-23T23:50:05.111568Z",
     "iopub.status.busy": "2024-10-23T23:50:05.111272Z",
     "iopub.status.idle": "2024-10-23T23:50:05.126836Z",
     "shell.execute_reply": "2024-10-23T23:50:05.126018Z"
    },
    "papermill": {
     "duration": 0.028383,
     "end_time": "2024-10-23T23:50:05.128660",
     "exception": false,
     "start_time": "2024-10-23T23:50:05.100277",
     "status": "completed"
    },
    "tags": []
   },
   "outputs": [],
   "source": [
    "def build_gru_model(input_shape):\n",
    "    model = Sequential()\n",
    "    model.add(Input(shape=input_shape))\n",
    "    model.add(Bidirectional(GRU(units=128, return_sequences=True)))\n",
    "    model.add(Dropout(0.3))\n",
    "    model.add(Bidirectional(GRU(units=64, return_sequences=True)))\n",
    "    model.add(Dropout(0.3))\n",
    "    model.add(Bidirectional(GRU(units=32, return_sequences=True)))\n",
    "    model.add(Dropout(0.3))\n",
    "    model.add(Dense(units=3, activation='softmax'))\n",
    "    \n",
    "    return model\n",
    "\n",
    "\n",
    "def train_gru_model(X_train, Y_train,\n",
    "                    X_val, Y_val,\n",
    "                    class_weights):\n",
    "    \n",
    "    # Ensure data is in the correct numerical format\n",
    "    X_train = np.array(X_train, dtype=np.float32)\n",
    "    Y_train = np.array(Y_train, dtype=np.int32)\n",
    "    X_val = np.array(X_val, dtype=np.float32)\n",
    "    Y_val = np.array(Y_val, dtype=np.int32)\n",
    "\n",
    "    # Define the input shape for the GRU model\n",
    "    input_shape = X_train.shape[1:]\n",
    "    \n",
    "    # Build and compile the GRU model\n",
    "    model = build_gru_model(input_shape)\n",
    "    model.compile(loss=weighted_categorical_crossentropy(class_weights), \n",
    "                  optimizer='adam', metrics=['accuracy', 'precision'])\n",
    "\n",
    "    # Define early stopping\n",
    "    early_stop = EarlyStopping(monitor='val_loss', patience=5, restore_best_weights=True)\n",
    "\n",
    "    # Train the model\n",
    "    history = model.fit(x=X_train, y=Y_train, batch_size=64,\n",
    "                        validation_data=(X_val, Y_val),\n",
    "                        epochs=20, callbacks=[early_stop])\n",
    "\n",
    "    # Evaluate the model on the validation set\n",
    "    test_pred = model.predict(X_val).reshape(-1, 3)\n",
    "    test_target_classes = np.argmax(Y_val.reshape(-1, 3), axis=1)\n",
    "\n",
    "    # Find optimal thresholds for each class\n",
    "    best_thresholds, _ = find_optimal_threshold(test_target_classes, test_pred)\n",
    "\n",
    "    # Apply the optimal thresholds to get final predictions\n",
    "    final_pred_classes = []\n",
    "    for i in range(len(best_thresholds)):\n",
    "        # Binarize predictions using the optimal thresholds\n",
    "        binary_pred = (test_pred[:, i] >= best_thresholds[i]).astype(int)\n",
    "        final_pred_classes.append(binary_pred)\n",
    "\n",
    "    # Combine final predictions for each class\n",
    "    final_pred_classes = np.array(final_pred_classes).T  # Shape: (num_samples, num_classes)\n",
    "    \n",
    "    # Get the predicted class based on the maximum value across the classes\n",
    "    final_pred_classes = np.argmax(final_pred_classes, axis=1)\n",
    "\n",
    "    # Calculate precision, accuracy, recall, and F1-score\n",
    "    precision = precision_score(test_target_classes, final_pred_classes, average='macro')\n",
    "    accuracy = accuracy_score(test_target_classes, final_pred_classes)\n",
    "    recall = recall_score(test_target_classes, final_pred_classes, average='macro')\n",
    "    f1 = f1_score(test_target_classes, final_pred_classes, average='macro')\n",
    "\n",
    "    # Save the metrics for this fold\n",
    "    metrics = {\n",
    "        'precision': precision,\n",
    "        'accuracy': accuracy,\n",
    "        'recall': recall,\n",
    "        'f1_score': f1\n",
    "    }\n",
    "    \n",
    "    return model, metrics"
   ]
  },
  {
   "cell_type": "code",
   "execution_count": 19,
   "id": "edf554a4",
   "metadata": {
    "execution": {
     "iopub.execute_input": "2024-10-23T23:50:05.150477Z",
     "iopub.status.busy": "2024-10-23T23:50:05.150118Z",
     "iopub.status.idle": "2024-10-23T23:54:47.382263Z",
     "shell.execute_reply": "2024-10-23T23:54:47.381221Z"
    },
    "papermill": {
     "duration": 282.352223,
     "end_time": "2024-10-23T23:54:47.491006",
     "exception": false,
     "start_time": "2024-10-23T23:50:05.138783",
     "status": "completed"
    },
    "tags": []
   },
   "outputs": [
    {
     "name": "stdout",
     "output_type": "stream",
     "text": [
      "Epoch 1/20\n",
      "\u001b[1m585/585\u001b[0m \u001b[32m━━━━━━━━━━━━━━━━━━━━\u001b[0m\u001b[37m\u001b[0m \u001b[1m23s\u001b[0m 26ms/step - accuracy: 0.4339 - loss: 3.2375 - precision: 0.4813 - val_accuracy: 0.5115 - val_loss: 2.9709 - val_precision: 0.5691\n",
      "Epoch 2/20\n",
      "\u001b[1m585/585\u001b[0m \u001b[32m━━━━━━━━━━━━━━━━━━━━\u001b[0m\u001b[37m\u001b[0m \u001b[1m14s\u001b[0m 25ms/step - accuracy: 0.4956 - loss: 3.0442 - precision: 0.5547 - val_accuracy: 0.5233 - val_loss: 2.9584 - val_precision: 0.5977\n",
      "Epoch 3/20\n",
      "\u001b[1m585/585\u001b[0m \u001b[32m━━━━━━━━━━━━━━━━━━━━\u001b[0m\u001b[37m\u001b[0m \u001b[1m14s\u001b[0m 24ms/step - accuracy: 0.4976 - loss: 3.0351 - precision: 0.5612 - val_accuracy: 0.5271 - val_loss: 2.9145 - val_precision: 0.5927\n",
      "Epoch 4/20\n",
      "\u001b[1m585/585\u001b[0m \u001b[32m━━━━━━━━━━━━━━━━━━━━\u001b[0m\u001b[37m\u001b[0m \u001b[1m14s\u001b[0m 24ms/step - accuracy: 0.5016 - loss: 3.0344 - precision: 0.5595 - val_accuracy: 0.5187 - val_loss: 2.9670 - val_precision: 0.5901\n",
      "Epoch 5/20\n",
      "\u001b[1m585/585\u001b[0m \u001b[32m━━━━━━━━━━━━━━━━━━━━\u001b[0m\u001b[37m\u001b[0m \u001b[1m14s\u001b[0m 25ms/step - accuracy: 0.4955 - loss: 3.0422 - precision: 0.5623 - val_accuracy: 0.5269 - val_loss: 2.9150 - val_precision: 0.6117\n",
      "Epoch 6/20\n",
      "\u001b[1m585/585\u001b[0m \u001b[32m━━━━━━━━━━━━━━━━━━━━\u001b[0m\u001b[37m\u001b[0m \u001b[1m14s\u001b[0m 24ms/step - accuracy: 0.5114 - loss: 2.9887 - precision: 0.5709 - val_accuracy: 0.5059 - val_loss: 2.9668 - val_precision: 0.6055\n",
      "Epoch 7/20\n",
      "\u001b[1m585/585\u001b[0m \u001b[32m━━━━━━━━━━━━━━━━━━━━\u001b[0m\u001b[37m\u001b[0m \u001b[1m14s\u001b[0m 25ms/step - accuracy: 0.5064 - loss: 2.9939 - precision: 0.5720 - val_accuracy: 0.5294 - val_loss: 2.8779 - val_precision: 0.6031\n",
      "Epoch 8/20\n",
      "\u001b[1m585/585\u001b[0m \u001b[32m━━━━━━━━━━━━━━━━━━━━\u001b[0m\u001b[37m\u001b[0m \u001b[1m14s\u001b[0m 24ms/step - accuracy: 0.5250 - loss: 2.9110 - precision: 0.5913 - val_accuracy: 0.5385 - val_loss: 2.8001 - val_precision: 0.6420\n",
      "Epoch 9/20\n",
      "\u001b[1m585/585\u001b[0m \u001b[32m━━━━━━━━━━━━━━━━━━━━\u001b[0m\u001b[37m\u001b[0m \u001b[1m14s\u001b[0m 25ms/step - accuracy: 0.5351 - loss: 2.8453 - precision: 0.6103 - val_accuracy: 0.5443 - val_loss: 2.7795 - val_precision: 0.6233\n",
      "Epoch 10/20\n",
      "\u001b[1m585/585\u001b[0m \u001b[32m━━━━━━━━━━━━━━━━━━━━\u001b[0m\u001b[37m\u001b[0m \u001b[1m14s\u001b[0m 24ms/step - accuracy: 0.5297 - loss: 2.8748 - precision: 0.5984 - val_accuracy: 0.5781 - val_loss: 2.6051 - val_precision: 0.6369\n",
      "Epoch 11/20\n",
      "\u001b[1m585/585\u001b[0m \u001b[32m━━━━━━━━━━━━━━━━━━━━\u001b[0m\u001b[37m\u001b[0m \u001b[1m14s\u001b[0m 25ms/step - accuracy: 0.5434 - loss: 2.8025 - precision: 0.6173 - val_accuracy: 0.5729 - val_loss: 2.5800 - val_precision: 0.6675\n",
      "Epoch 12/20\n",
      "\u001b[1m585/585\u001b[0m \u001b[32m━━━━━━━━━━━━━━━━━━━━\u001b[0m\u001b[37m\u001b[0m \u001b[1m14s\u001b[0m 24ms/step - accuracy: 0.5281 - loss: 2.8924 - precision: 0.5939 - val_accuracy: 0.5625 - val_loss: 2.7132 - val_precision: 0.6275\n",
      "Epoch 13/20\n",
      "\u001b[1m585/585\u001b[0m \u001b[32m━━━━━━━━━━━━━━━━━━━━\u001b[0m\u001b[37m\u001b[0m \u001b[1m14s\u001b[0m 24ms/step - accuracy: 0.5424 - loss: 2.8242 - precision: 0.6089 - val_accuracy: 0.5472 - val_loss: 2.7969 - val_precision: 0.6239\n",
      "Epoch 14/20\n",
      "\u001b[1m585/585\u001b[0m \u001b[32m━━━━━━━━━━━━━━━━━━━━\u001b[0m\u001b[37m\u001b[0m \u001b[1m14s\u001b[0m 24ms/step - accuracy: 0.5431 - loss: 2.8319 - precision: 0.6028 - val_accuracy: 0.5509 - val_loss: 2.7985 - val_precision: 0.6463\n",
      "Epoch 15/20\n",
      "\u001b[1m585/585\u001b[0m \u001b[32m━━━━━━━━━━━━━━━━━━━━\u001b[0m\u001b[37m\u001b[0m \u001b[1m14s\u001b[0m 24ms/step - accuracy: 0.5321 - loss: 2.8658 - precision: 0.6022 - val_accuracy: 0.5719 - val_loss: 2.6270 - val_precision: 0.6445\n",
      "Epoch 16/20\n",
      "\u001b[1m585/585\u001b[0m \u001b[32m━━━━━━━━━━━━━━━━━━━━\u001b[0m\u001b[37m\u001b[0m \u001b[1m14s\u001b[0m 25ms/step - accuracy: 0.5513 - loss: 2.7676 - precision: 0.6212 - val_accuracy: 0.5590 - val_loss: 2.6991 - val_precision: 0.6447\n",
      "\u001b[1m293/293\u001b[0m \u001b[32m━━━━━━━━━━━━━━━━━━━━\u001b[0m\u001b[37m\u001b[0m \u001b[1m3s\u001b[0m 8ms/step\n",
      "Class 0 - Best Threshold: 0.4299999999999998, Best F1 Score: 0.6868842605013193\n",
      "Class 1 - Best Threshold: 0.2899999999999999, Best F1 Score: 0.5640048978435321\n",
      "Class 2 - Best Threshold: 0.2899999999999999, Best F1 Score: 0.5846028211843741\n"
     ]
    }
   ],
   "source": [
    "model, metrics = train_gru_model(shaped_train_data, shaped_train_target,\n",
    "                                 shaped_val_data, shaped_val_target,\n",
    "                                 weights)"
   ]
  },
  {
   "cell_type": "code",
   "execution_count": 20,
   "id": "e24a40be",
   "metadata": {
    "execution": {
     "iopub.execute_input": "2024-10-23T23:54:48.039045Z",
     "iopub.status.busy": "2024-10-23T23:54:48.038652Z",
     "iopub.status.idle": "2024-10-23T23:54:48.119445Z",
     "shell.execute_reply": "2024-10-23T23:54:48.118496Z"
    },
    "papermill": {
     "duration": 0.354536,
     "end_time": "2024-10-23T23:54:48.121626",
     "exception": false,
     "start_time": "2024-10-23T23:54:47.767090",
     "status": "completed"
    },
    "tags": []
   },
   "outputs": [],
   "source": [
    "model.save(\"model_GRU.keras\")"
   ]
  },
  {
   "cell_type": "markdown",
   "id": "7ce7e751",
   "metadata": {
    "papermill": {
     "duration": 0.316391,
     "end_time": "2024-10-23T23:54:48.712274",
     "exception": false,
     "start_time": "2024-10-23T23:54:48.395883",
     "status": "completed"
    },
    "tags": []
   },
   "source": [
    "### Plot the results"
   ]
  },
  {
   "cell_type": "code",
   "execution_count": 21,
   "id": "ce8b617d",
   "metadata": {
    "execution": {
     "iopub.execute_input": "2024-10-23T23:54:49.287442Z",
     "iopub.status.busy": "2024-10-23T23:54:49.286767Z",
     "iopub.status.idle": "2024-10-23T23:54:49.683103Z",
     "shell.execute_reply": "2024-10-23T23:54:49.682350Z"
    },
    "papermill": {
     "duration": 0.67917,
     "end_time": "2024-10-23T23:54:49.685307",
     "exception": false,
     "start_time": "2024-10-23T23:54:49.006137",
     "status": "completed"
    },
    "tags": []
   },
   "outputs": [],
   "source": [
    "import matplotlib.pyplot as plt\n",
    "import seaborn as sns\n",
    "import sklearn"
   ]
  },
  {
   "cell_type": "markdown",
   "id": "ec11bd5d",
   "metadata": {
    "papermill": {
     "duration": 0.269496,
     "end_time": "2024-10-23T23:54:50.222147",
     "exception": false,
     "start_time": "2024-10-23T23:54:49.952651",
     "status": "completed"
    },
    "tags": []
   },
   "source": [
    "#### Confusion matrix"
   ]
  },
  {
   "cell_type": "code",
   "execution_count": 22,
   "id": "e1d97b89",
   "metadata": {
    "execution": {
     "iopub.execute_input": "2024-10-23T23:54:50.764037Z",
     "iopub.status.busy": "2024-10-23T23:54:50.763442Z",
     "iopub.status.idle": "2024-10-23T23:54:50.772477Z",
     "shell.execute_reply": "2024-10-23T23:54:50.771716Z"
    },
    "papermill": {
     "duration": 0.28051,
     "end_time": "2024-10-23T23:54:50.774304",
     "exception": false,
     "start_time": "2024-10-23T23:54:50.493794",
     "status": "completed"
    },
    "tags": []
   },
   "outputs": [],
   "source": [
    "import numpy as np\n",
    "import seaborn as sns\n",
    "import matplotlib.pyplot as plt\n",
    "import sklearn.metrics\n",
    "\n",
    "def plot_confusion_matrix(model, x_test, y_test):\n",
    "    # Generate predictions\n",
    "    y_pred = model.predict(x_test)\n",
    "    y_pred_classes = np.argmax(y_pred, axis=-1)\n",
    "    y_test_classes = np.argmax(y_test, axis=-1)\n",
    "\n",
    "    # Flatten the predictions and true labels\n",
    "    y_pred_classes_flat = y_pred_classes.flatten()\n",
    "    y_test_classes_flat = y_test_classes.flatten()\n",
    "\n",
    "    # Compute the confusion matrix\n",
    "    confusion_mtx = sklearn.metrics.confusion_matrix(y_test_classes_flat, y_pred_classes_flat, normalize=\"true\")\n",
    "\n",
    "    # Set up the matplotlib figure\n",
    "    plt.figure(figsize=(8, 6))\n",
    "    sns.set(font_scale=1.2)\n",
    "    sns.set_style(\"whitegrid\")\n",
    "\n",
    "    # Create the heatmap\n",
    "    heatmap = sns.heatmap(confusion_mtx, annot=True, fmt=\".2f\", cmap=\"Blues\", square=True)\n",
    "\n",
    "    # Customize the axes and titles\n",
    "    plt.xlabel('Predicted Label')\n",
    "    plt.ylabel('True Label')\n",
    "\n",
    "    # Show the plot\n",
    "    plt.tight_layout()\n",
    "    plt.show()\n"
   ]
  },
  {
   "cell_type": "code",
   "execution_count": 23,
   "id": "481c923a",
   "metadata": {
    "execution": {
     "iopub.execute_input": "2024-10-23T23:54:51.325031Z",
     "iopub.status.busy": "2024-10-23T23:54:51.324652Z",
     "iopub.status.idle": "2024-10-23T23:54:54.538753Z",
     "shell.execute_reply": "2024-10-23T23:54:54.537566Z"
    },
    "papermill": {
     "duration": 3.492943,
     "end_time": "2024-10-23T23:54:54.541361",
     "exception": false,
     "start_time": "2024-10-23T23:54:51.048418",
     "status": "completed"
    },
    "tags": []
   },
   "outputs": [
    {
     "name": "stdout",
     "output_type": "stream",
     "text": [
      "\u001b[1m379/379\u001b[0m \u001b[32m━━━━━━━━━━━━━━━━━━━━\u001b[0m\u001b[37m\u001b[0m \u001b[1m2s\u001b[0m 6ms/step\n"
     ]
    },
    {
     "data": {
      "image/png": "[encoded data removed]",
      "text/plain": [
       "<Figure size 800x600 with 2 Axes>"
      ]
     },
     "metadata": {},
     "output_type": "display_data"
    }
   ],
   "source": [
    "plot_confusion_matrix(model, shaped_test_data, shaped_test_target)"
   ]
  },
  {
   "cell_type": "markdown",
   "id": "b2b16984",
   "metadata": {
    "papermill": {
     "duration": 0.288938,
     "end_time": "2024-10-23T23:54:55.133008",
     "exception": false,
     "start_time": "2024-10-23T23:54:54.844070",
     "status": "completed"
    },
    "tags": []
   },
   "source": [
    "### K-fold validation"
   ]
  },
  {
   "cell_type": "code",
   "execution_count": 24,
   "id": "9e5a9077",
   "metadata": {
    "execution": {
     "iopub.execute_input": "2024-10-23T23:54:55.741382Z",
     "iopub.status.busy": "2024-10-23T23:54:55.740977Z",
     "iopub.status.idle": "2024-10-23T23:54:55.749180Z",
     "shell.execute_reply": "2024-10-23T23:54:55.748261Z"
    },
    "papermill": {
     "duration": 0.29318,
     "end_time": "2024-10-23T23:54:55.751271",
     "exception": false,
     "start_time": "2024-10-23T23:54:55.458091",
     "status": "completed"
    },
    "tags": []
   },
   "outputs": [],
   "source": [
    "def train_gru_model_with_kfold(series, target, class_weights, k=3):\n",
    "    \n",
    "    # Ensure data is in the correct numerical format\n",
    "    series = np.array(series, dtype=np.float32)\n",
    "    target = np.array(target, dtype=np.int32)\n",
    "\n",
    "    # Initialize the KFold cross-validator\n",
    "    kf = KFold(n_splits=k, shuffle=True, random_state=42)\n",
    "\n",
    "    histories = []\n",
    "    fold_metrics = []\n",
    "\n",
    "    # Perform K-Fold cross-validation\n",
    "    for fold, (train_idx, test_idx) in enumerate(kf.split(series)):\n",
    "        print(f\"\\nTraining fold {fold + 1}/{k}...\")\n",
    "\n",
    "        # Split the data into train and validation sets\n",
    "        train_series, test_series = series[train_idx], series[test_idx]\n",
    "        train_target, test_target = target[train_idx], target[test_idx]\n",
    "\n",
    "        # Train the GRU model\n",
    "        model, metrics = train_gru_model(train_series, train_target, test_series, test_target, class_weights)\n",
    "\n",
    "        # Save the history and model for this fold\n",
    "        histories.append(model.history)\n",
    "\n",
    "        # Save metrics for this fold\n",
    "        fold_metrics.append(metrics)\n",
    "\n",
    "    return histories, fold_metrics"
   ]
  },
  {
   "cell_type": "code",
   "execution_count": 25,
   "id": "5bd3b916",
   "metadata": {
    "execution": {
     "iopub.execute_input": "2024-10-23T23:54:56.310643Z",
     "iopub.status.busy": "2024-10-23T23:54:56.310219Z",
     "iopub.status.idle": "2024-10-24T00:07:09.749452Z",
     "shell.execute_reply": "2024-10-24T00:07:09.748420Z"
    },
    "papermill": {
     "duration": 734.39579,
     "end_time": "2024-10-24T00:07:10.420967",
     "exception": false,
     "start_time": "2024-10-23T23:54:56.025177",
     "status": "completed"
    },
    "tags": []
   },
   "outputs": [
    {
     "name": "stdout",
     "output_type": "stream",
     "text": [
      "\n",
      "Training fold 1/3...\n",
      "Epoch 1/20\n",
      "\u001b[1m390/390\u001b[0m \u001b[32m━━━━━━━━━━━━━━━━━━━━\u001b[0m\u001b[37m\u001b[0m \u001b[1m15s\u001b[0m 29ms/step - accuracy: 0.4235 - loss: 3.2804 - precision: 0.4641 - val_accuracy: 0.4992 - val_loss: 3.0505 - val_precision: 0.5422\n",
      "Epoch 2/20\n",
      "\u001b[1m390/390\u001b[0m \u001b[32m━━━━━━━━━━━━━━━━━━━━\u001b[0m\u001b[37m\u001b[0m \u001b[1m10s\u001b[0m 27ms/step - accuracy: 0.4862 - loss: 3.0846 - precision: 0.5393 - val_accuracy: 0.5047 - val_loss: 2.9889 - val_precision: 0.5689\n",
      "Epoch 3/20\n",
      "\u001b[1m390/390\u001b[0m \u001b[32m━━━━━━━━━━━━━━━━━━━━\u001b[0m\u001b[37m\u001b[0m \u001b[1m11s\u001b[0m 27ms/step - accuracy: 0.4898 - loss: 3.0500 - precision: 0.5548 - val_accuracy: 0.5090 - val_loss: 2.9970 - val_precision: 0.5808\n",
      "Epoch 4/20\n",
      "\u001b[1m390/390\u001b[0m \u001b[32m━━━━━━━━━━━━━━━━━━━━\u001b[0m\u001b[37m\u001b[0m \u001b[1m10s\u001b[0m 27ms/step - accuracy: 0.4873 - loss: 3.0625 - precision: 0.5522 - val_accuracy: 0.5176 - val_loss: 2.9284 - val_precision: 0.5922\n",
      "Epoch 5/20\n",
      "\u001b[1m390/390\u001b[0m \u001b[32m━━━━━━━━━━━━━━━━━━━━\u001b[0m\u001b[37m\u001b[0m \u001b[1m10s\u001b[0m 27ms/step - accuracy: 0.5003 - loss: 3.0193 - precision: 0.5579 - val_accuracy: 0.5193 - val_loss: 2.9845 - val_precision: 0.5974\n",
      "Epoch 6/20\n",
      "\u001b[1m390/390\u001b[0m \u001b[32m━━━━━━━━━━━━━━━━━━━━\u001b[0m\u001b[37m\u001b[0m \u001b[1m10s\u001b[0m 27ms/step - accuracy: 0.4985 - loss: 3.0334 - precision: 0.5587 - val_accuracy: 0.5254 - val_loss: 2.9398 - val_precision: 0.5783\n",
      "Epoch 7/20\n",
      "\u001b[1m390/390\u001b[0m \u001b[32m━━━━━━━━━━━━━━━━━━━━\u001b[0m\u001b[37m\u001b[0m \u001b[1m10s\u001b[0m 27ms/step - accuracy: 0.5032 - loss: 3.0288 - precision: 0.5581 - val_accuracy: 0.5124 - val_loss: 2.9676 - val_precision: 0.5769\n",
      "Epoch 8/20\n",
      "\u001b[1m390/390\u001b[0m \u001b[32m━━━━━━━━━━━━━━━━━━━━\u001b[0m\u001b[37m\u001b[0m \u001b[1m10s\u001b[0m 27ms/step - accuracy: 0.5019 - loss: 3.0227 - precision: 0.5597 - val_accuracy: 0.5240 - val_loss: 2.9335 - val_precision: 0.6188\n",
      "Epoch 9/20\n",
      "\u001b[1m390/390\u001b[0m \u001b[32m━━━━━━━━━━━━━━━━━━━━\u001b[0m\u001b[37m\u001b[0m \u001b[1m11s\u001b[0m 27ms/step - accuracy: 0.4991 - loss: 3.0252 - precision: 0.5630 - val_accuracy: 0.5335 - val_loss: 2.8937 - val_precision: 0.6061\n",
      "Epoch 10/20\n",
      "\u001b[1m390/390\u001b[0m \u001b[32m━━━━━━━━━━━━━━━━━━━━\u001b[0m\u001b[37m\u001b[0m \u001b[1m10s\u001b[0m 27ms/step - accuracy: 0.5088 - loss: 2.9837 - precision: 0.5682 - val_accuracy: 0.5330 - val_loss: 2.9095 - val_precision: 0.5981\n",
      "Epoch 11/20\n",
      "\u001b[1m390/390\u001b[0m \u001b[32m━━━━━━━━━━━━━━━━━━━━\u001b[0m\u001b[37m\u001b[0m \u001b[1m10s\u001b[0m 27ms/step - accuracy: 0.5153 - loss: 2.9742 - precision: 0.5692 - val_accuracy: 0.5263 - val_loss: 2.9211 - val_precision: 0.6052\n",
      "Epoch 12/20\n",
      "\u001b[1m390/390\u001b[0m \u001b[32m━━━━━━━━━━━━━━━━━━━━\u001b[0m\u001b[37m\u001b[0m \u001b[1m11s\u001b[0m 27ms/step - accuracy: 0.5147 - loss: 2.9744 - precision: 0.5706 - val_accuracy: 0.5448 - val_loss: 2.8694 - val_precision: 0.6042\n",
      "Epoch 13/20\n",
      "\u001b[1m390/390\u001b[0m \u001b[32m━━━━━━━━━━━━━━━━━━━━\u001b[0m\u001b[37m\u001b[0m \u001b[1m10s\u001b[0m 27ms/step - accuracy: 0.5231 - loss: 2.9346 - precision: 0.5835 - val_accuracy: 0.5509 - val_loss: 2.8257 - val_precision: 0.6046\n",
      "Epoch 14/20\n",
      "\u001b[1m390/390\u001b[0m \u001b[32m━━━━━━━━━━━━━━━━━━━━\u001b[0m\u001b[37m\u001b[0m \u001b[1m10s\u001b[0m 27ms/step - accuracy: 0.5127 - loss: 2.9682 - precision: 0.5764 - val_accuracy: 0.5369 - val_loss: 2.8550 - val_precision: 0.6154\n",
      "Epoch 15/20\n",
      "\u001b[1m390/390\u001b[0m \u001b[32m━━━━━━━━━━━━━━━━━━━━\u001b[0m\u001b[37m\u001b[0m \u001b[1m11s\u001b[0m 27ms/step - accuracy: 0.5268 - loss: 2.9247 - precision: 0.5833 - val_accuracy: 0.5510 - val_loss: 2.7775 - val_precision: 0.6034\n",
      "Epoch 16/20\n",
      "\u001b[1m390/390\u001b[0m \u001b[32m━━━━━━━━━━━━━━━━━━━━\u001b[0m\u001b[37m\u001b[0m \u001b[1m10s\u001b[0m 27ms/step - accuracy: 0.5268 - loss: 2.9226 - precision: 0.5826 - val_accuracy: 0.5391 - val_loss: 2.8536 - val_precision: 0.6319\n",
      "Epoch 17/20\n",
      "\u001b[1m390/390\u001b[0m \u001b[32m━━━━━━━━━━━━━━━━━━━━\u001b[0m\u001b[37m\u001b[0m \u001b[1m10s\u001b[0m 27ms/step - accuracy: 0.5272 - loss: 2.9077 - precision: 0.5882 - val_accuracy: 0.5488 - val_loss: 2.7598 - val_precision: 0.6182\n",
      "Epoch 18/20\n",
      "\u001b[1m390/390\u001b[0m \u001b[32m━━━━━━━━━━━━━━━━━━━━\u001b[0m\u001b[37m\u001b[0m \u001b[1m11s\u001b[0m 27ms/step - accuracy: 0.5358 - loss: 2.8690 - precision: 0.5949 - val_accuracy: 0.5472 - val_loss: 2.7932 - val_precision: 0.6188\n",
      "Epoch 19/20\n",
      "\u001b[1m390/390\u001b[0m \u001b[32m━━━━━━━━━━━━━━━━━━━━\u001b[0m\u001b[37m\u001b[0m \u001b[1m10s\u001b[0m 27ms/step - accuracy: 0.5308 - loss: 2.8833 - precision: 0.5926 - val_accuracy: 0.5536 - val_loss: 2.7620 - val_precision: 0.6247\n",
      "Epoch 20/20\n",
      "\u001b[1m390/390\u001b[0m \u001b[32m━━━━━━━━━━━━━━━━━━━━\u001b[0m\u001b[37m\u001b[0m \u001b[1m10s\u001b[0m 27ms/step - accuracy: 0.5292 - loss: 2.8865 - precision: 0.6003 - val_accuracy: 0.5469 - val_loss: 2.7985 - val_precision: 0.6358\n",
      "\u001b[1m390/390\u001b[0m \u001b[32m━━━━━━━━━━━━━━━━━━━━\u001b[0m\u001b[37m\u001b[0m \u001b[1m3s\u001b[0m 7ms/step\n",
      "Class 0 - Best Threshold: 0.3999999999999998, Best F1 Score: 0.6536009586067794\n",
      "Class 1 - Best Threshold: 0.2599999999999999, Best F1 Score: 0.5354891105726932\n",
      "Class 2 - Best Threshold: 0.23999999999999994, Best F1 Score: 0.5751274135442295\n",
      "\n",
      "Training fold 2/3...\n",
      "Epoch 1/20\n",
      "\u001b[1m390/390\u001b[0m \u001b[32m━━━━━━━━━━━━━━━━━━━━\u001b[0m\u001b[37m\u001b[0m \u001b[1m16s\u001b[0m 30ms/step - accuracy: 0.4301 - loss: 3.2696 - precision: 0.4757 - val_accuracy: 0.5214 - val_loss: 2.9566 - val_precision: 0.5881\n",
      "Epoch 2/20\n",
      "\u001b[1m390/390\u001b[0m \u001b[32m━━━━━━━━━━━━━━━━━━━━\u001b[0m\u001b[37m\u001b[0m \u001b[1m10s\u001b[0m 27ms/step - accuracy: 0.4900 - loss: 3.0550 - precision: 0.5586 - val_accuracy: 0.5213 - val_loss: 2.9423 - val_precision: 0.5971\n",
      "Epoch 3/20\n",
      "\u001b[1m390/390\u001b[0m \u001b[32m━━━━━━━━━━━━━━━━━━━━\u001b[0m\u001b[37m\u001b[0m \u001b[1m10s\u001b[0m 26ms/step - accuracy: 0.4941 - loss: 3.0355 - precision: 0.5641 - val_accuracy: 0.5166 - val_loss: 2.9888 - val_precision: 0.5807\n",
      "Epoch 4/20\n",
      "\u001b[1m390/390\u001b[0m \u001b[32m━━━━━━━━━━━━━━━━━━━━\u001b[0m\u001b[37m\u001b[0m \u001b[1m11s\u001b[0m 27ms/step - accuracy: 0.4946 - loss: 3.0468 - precision: 0.5558 - val_accuracy: 0.5241 - val_loss: 2.9283 - val_precision: 0.6017\n",
      "Epoch 5/20\n",
      "\u001b[1m390/390\u001b[0m \u001b[32m━━━━━━━━━━━━━━━━━━━━\u001b[0m\u001b[37m\u001b[0m \u001b[1m10s\u001b[0m 26ms/step - accuracy: 0.5032 - loss: 3.0073 - precision: 0.5711 - val_accuracy: 0.5174 - val_loss: 2.9750 - val_precision: 0.5772\n",
      "Epoch 6/20\n",
      "\u001b[1m390/390\u001b[0m \u001b[32m━━━━━━━━━━━━━━━━━━━━\u001b[0m\u001b[37m\u001b[0m \u001b[1m10s\u001b[0m 26ms/step - accuracy: 0.5023 - loss: 2.9954 - precision: 0.5742 - val_accuracy: 0.5231 - val_loss: 2.9060 - val_precision: 0.5796\n",
      "Epoch 7/20\n",
      "\u001b[1m390/390\u001b[0m \u001b[32m━━━━━━━━━━━━━━━━━━━━\u001b[0m\u001b[37m\u001b[0m \u001b[1m10s\u001b[0m 27ms/step - accuracy: 0.5155 - loss: 2.9261 - precision: 0.5947 - val_accuracy: 0.5250 - val_loss: 2.9241 - val_precision: 0.5904\n",
      "Epoch 8/20\n",
      "\u001b[1m390/390\u001b[0m \u001b[32m━━━━━━━━━━━━━━━━━━━━\u001b[0m\u001b[37m\u001b[0m \u001b[1m10s\u001b[0m 27ms/step - accuracy: 0.5104 - loss: 2.9759 - precision: 0.5726 - val_accuracy: 0.5187 - val_loss: 2.9304 - val_precision: 0.5982\n",
      "Epoch 9/20\n",
      "\u001b[1m390/390\u001b[0m \u001b[32m━━━━━━━━━━━━━━━━━━━━\u001b[0m\u001b[37m\u001b[0m \u001b[1m10s\u001b[0m 27ms/step - accuracy: 0.5051 - loss: 3.0099 - precision: 0.5589 - val_accuracy: 0.5318 - val_loss: 2.8901 - val_precision: 0.5989\n",
      "Epoch 10/20\n",
      "\u001b[1m390/390\u001b[0m \u001b[32m━━━━━━━━━━━━━━━━━━━━\u001b[0m\u001b[37m\u001b[0m \u001b[1m10s\u001b[0m 27ms/step - accuracy: 0.5142 - loss: 2.9756 - precision: 0.5700 - val_accuracy: 0.5421 - val_loss: 2.8271 - val_precision: 0.6056\n",
      "Epoch 11/20\n",
      "\u001b[1m390/390\u001b[0m \u001b[32m━━━━━━━━━━━━━━━━━━━━\u001b[0m\u001b[37m\u001b[0m \u001b[1m10s\u001b[0m 27ms/step - accuracy: 0.5119 - loss: 2.9779 - precision: 0.5695 - val_accuracy: 0.5368 - val_loss: 2.8374 - val_precision: 0.6122\n",
      "Epoch 12/20\n",
      "\u001b[1m390/390\u001b[0m \u001b[32m━━━━━━━━━━━━━━━━━━━━\u001b[0m\u001b[37m\u001b[0m \u001b[1m10s\u001b[0m 26ms/step - accuracy: 0.5136 - loss: 2.9618 - precision: 0.5778 - val_accuracy: 0.5257 - val_loss: 2.9009 - val_precision: 0.6088\n",
      "Epoch 13/20\n",
      "\u001b[1m390/390\u001b[0m \u001b[32m━━━━━━━━━━━━━━━━━━━━\u001b[0m\u001b[37m\u001b[0m \u001b[1m10s\u001b[0m 27ms/step - accuracy: 0.5088 - loss: 2.9817 - precision: 0.5765 - val_accuracy: 0.5488 - val_loss: 2.8034 - val_precision: 0.6161\n",
      "Epoch 14/20\n",
      "\u001b[1m390/390\u001b[0m \u001b[32m━━━━━━━━━━━━━━━━━━━━\u001b[0m\u001b[37m\u001b[0m \u001b[1m10s\u001b[0m 27ms/step - accuracy: 0.5264 - loss: 2.9059 - precision: 0.5921 - val_accuracy: 0.5520 - val_loss: 2.7764 - val_precision: 0.6386\n",
      "Epoch 15/20\n",
      "\u001b[1m390/390\u001b[0m \u001b[32m━━━━━━━━━━━━━━━━━━━━\u001b[0m\u001b[37m\u001b[0m \u001b[1m10s\u001b[0m 27ms/step - accuracy: 0.5293 - loss: 2.8812 - precision: 0.5980 - val_accuracy: 0.5453 - val_loss: 2.8189 - val_precision: 0.6262\n",
      "Epoch 16/20\n",
      "\u001b[1m390/390\u001b[0m \u001b[32m━━━━━━━━━━━━━━━━━━━━\u001b[0m\u001b[37m\u001b[0m \u001b[1m11s\u001b[0m 27ms/step - accuracy: 0.5239 - loss: 2.9114 - precision: 0.5901 - val_accuracy: 0.5673 - val_loss: 2.6692 - val_precision: 0.6486\n",
      "Epoch 17/20\n",
      "\u001b[1m390/390\u001b[0m \u001b[32m━━━━━━━━━━━━━━━━━━━━\u001b[0m\u001b[37m\u001b[0m \u001b[1m10s\u001b[0m 27ms/step - accuracy: 0.5363 - loss: 2.8399 - precision: 0.6111 - val_accuracy: 0.5640 - val_loss: 2.6861 - val_precision: 0.6457\n",
      "Epoch 18/20\n",
      "\u001b[1m390/390\u001b[0m \u001b[32m━━━━━━━━━━━━━━━━━━━━\u001b[0m\u001b[37m\u001b[0m \u001b[1m10s\u001b[0m 27ms/step - accuracy: 0.5335 - loss: 2.8484 - precision: 0.6127 - val_accuracy: 0.5596 - val_loss: 2.7014 - val_precision: 0.6449\n",
      "Epoch 19/20\n",
      "\u001b[1m390/390\u001b[0m \u001b[32m━━━━━━━━━━━━━━━━━━━━\u001b[0m\u001b[37m\u001b[0m \u001b[1m11s\u001b[0m 27ms/step - accuracy: 0.5343 - loss: 2.8530 - precision: 0.6039 - val_accuracy: 0.5513 - val_loss: 2.7502 - val_precision: 0.6343\n",
      "Epoch 20/20\n",
      "\u001b[1m390/390\u001b[0m \u001b[32m━━━━━━━━━━━━━━━━━━━━\u001b[0m\u001b[37m\u001b[0m \u001b[1m10s\u001b[0m 27ms/step - accuracy: 0.5251 - loss: 2.8972 - precision: 0.5982 - val_accuracy: 0.5602 - val_loss: 2.7525 - val_precision: 0.6266\n",
      "\u001b[1m390/390\u001b[0m \u001b[32m━━━━━━━━━━━━━━━━━━━━\u001b[0m\u001b[37m\u001b[0m \u001b[1m3s\u001b[0m 7ms/step\n",
      "Class 0 - Best Threshold: 0.3899999999999999, Best F1 Score: 0.6752976078711179\n",
      "Class 1 - Best Threshold: 0.2599999999999999, Best F1 Score: 0.5497280748941731\n",
      "Class 2 - Best Threshold: 0.24999999999999992, Best F1 Score: 0.5812269568629231\n",
      "\n",
      "Training fold 3/3...\n",
      "Epoch 1/20\n",
      "\u001b[1m390/390\u001b[0m \u001b[32m━━━━━━━━━━━━━━━━━━━━\u001b[0m\u001b[37m\u001b[0m \u001b[1m16s\u001b[0m 29ms/step - accuracy: 0.4236 - loss: 3.2676 - precision: 0.4642 - val_accuracy: 0.4866 - val_loss: 3.0794 - val_precision: 0.5626\n",
      "Epoch 2/20\n",
      "\u001b[1m390/390\u001b[0m \u001b[32m━━━━━━━━━━━━━━━━━━━━\u001b[0m\u001b[37m\u001b[0m \u001b[1m10s\u001b[0m 27ms/step - accuracy: 0.4873 - loss: 3.0841 - precision: 0.5339 - val_accuracy: 0.4925 - val_loss: 3.0344 - val_precision: 0.5656\n",
      "Epoch 3/20\n",
      "\u001b[1m390/390\u001b[0m \u001b[32m━━━━━━━━━━━━━━━━━━━━\u001b[0m\u001b[37m\u001b[0m \u001b[1m11s\u001b[0m 27ms/step - accuracy: 0.4889 - loss: 3.0633 - precision: 0.5470 - val_accuracy: 0.4917 - val_loss: 3.0201 - val_precision: 0.5923\n",
      "Epoch 4/20\n",
      "\u001b[1m390/390\u001b[0m \u001b[32m━━━━━━━━━━━━━━━━━━━━\u001b[0m\u001b[37m\u001b[0m \u001b[1m10s\u001b[0m 27ms/step - accuracy: 0.4948 - loss: 3.0324 - precision: 0.5548 - val_accuracy: 0.5120 - val_loss: 2.9665 - val_precision: 0.5820\n",
      "Epoch 5/20\n",
      "\u001b[1m390/390\u001b[0m \u001b[32m━━━━━━━━━━━━━━━━━━━━\u001b[0m\u001b[37m\u001b[0m \u001b[1m11s\u001b[0m 27ms/step - accuracy: 0.5024 - loss: 3.0063 - precision: 0.5619 - val_accuracy: 0.5240 - val_loss: 2.8744 - val_precision: 0.5930\n",
      "Epoch 6/20\n",
      "\u001b[1m390/390\u001b[0m \u001b[32m━━━━━━━━━━━━━━━━━━━━\u001b[0m\u001b[37m\u001b[0m \u001b[1m11s\u001b[0m 27ms/step - accuracy: 0.5156 - loss: 2.9680 - precision: 0.5689 - val_accuracy: 0.5241 - val_loss: 2.9247 - val_precision: 0.5893\n",
      "Epoch 7/20\n",
      "\u001b[1m390/390\u001b[0m \u001b[32m━━━━━━━━━━━━━━━━━━━━\u001b[0m\u001b[37m\u001b[0m \u001b[1m11s\u001b[0m 27ms/step - accuracy: 0.5141 - loss: 2.9752 - precision: 0.5634 - val_accuracy: 0.5364 - val_loss: 2.8887 - val_precision: 0.5963\n",
      "Epoch 8/20\n",
      "\u001b[1m390/390\u001b[0m \u001b[32m━━━━━━━━━━━━━━━━━━━━\u001b[0m\u001b[37m\u001b[0m \u001b[1m11s\u001b[0m 27ms/step - accuracy: 0.5160 - loss: 2.9636 - precision: 0.5711 - val_accuracy: 0.5498 - val_loss: 2.7713 - val_precision: 0.5916\n",
      "Epoch 9/20\n",
      "\u001b[1m390/390\u001b[0m \u001b[32m━━━━━━━━━━━━━━━━━━━━\u001b[0m\u001b[37m\u001b[0m \u001b[1m11s\u001b[0m 27ms/step - accuracy: 0.5236 - loss: 2.9272 - precision: 0.5788 - val_accuracy: 0.5475 - val_loss: 2.7967 - val_precision: 0.5950\n",
      "Epoch 10/20\n",
      "\u001b[1m390/390\u001b[0m \u001b[32m━━━━━━━━━━━━━━━━━━━━\u001b[0m\u001b[37m\u001b[0m \u001b[1m11s\u001b[0m 27ms/step - accuracy: 0.5303 - loss: 2.9040 - precision: 0.5825 - val_accuracy: 0.5259 - val_loss: 2.9181 - val_precision: 0.6180\n",
      "Epoch 11/20\n",
      "\u001b[1m390/390\u001b[0m \u001b[32m━━━━━━━━━━━━━━━━━━━━\u001b[0m\u001b[37m\u001b[0m \u001b[1m11s\u001b[0m 27ms/step - accuracy: 0.5111 - loss: 2.9735 - precision: 0.5758 - val_accuracy: 0.5318 - val_loss: 2.8839 - val_precision: 0.5985\n",
      "Epoch 12/20\n",
      "\u001b[1m390/390\u001b[0m \u001b[32m━━━━━━━━━━━━━━━━━━━━\u001b[0m\u001b[37m\u001b[0m \u001b[1m11s\u001b[0m 27ms/step - accuracy: 0.5152 - loss: 2.9556 - precision: 0.5752 - val_accuracy: 0.5353 - val_loss: 2.8437 - val_precision: 0.6061\n",
      "Epoch 13/20\n",
      "\u001b[1m390/390\u001b[0m \u001b[32m━━━━━━━━━━━━━━━━━━━━\u001b[0m\u001b[37m\u001b[0m \u001b[1m11s\u001b[0m 27ms/step - accuracy: 0.5192 - loss: 2.9355 - precision: 0.5778 - val_accuracy: 0.5441 - val_loss: 2.8055 - val_precision: 0.6200\n",
      "\u001b[1m390/390\u001b[0m \u001b[32m━━━━━━━━━━━━━━━━━━━━\u001b[0m\u001b[37m\u001b[0m \u001b[1m3s\u001b[0m 7ms/step\n",
      "Class 0 - Best Threshold: 0.3699999999999999, Best F1 Score: 0.6542136140869559\n",
      "Class 1 - Best Threshold: 0.2599999999999999, Best F1 Score: 0.5305118246661621\n",
      "Class 2 - Best Threshold: 0.2699999999999999, Best F1 Score: 0.5776014424831317\n"
     ]
    }
   ],
   "source": [
    "histories, fold_metrics = train_gru_model_with_kfold(shaped_train_data, shaped_train_target, weights)"
   ]
  },
  {
   "cell_type": "markdown",
   "id": "f0c6e963",
   "metadata": {
    "papermill": {
     "duration": 0.899492,
     "end_time": "2024-10-24T00:07:12.283590",
     "exception": false,
     "start_time": "2024-10-24T00:07:11.384098",
     "status": "completed"
    },
    "tags": []
   },
   "source": [
    "#### Metrics"
   ]
  },
  {
   "cell_type": "code",
   "execution_count": 26,
   "id": "bece9172",
   "metadata": {
    "execution": {
     "iopub.execute_input": "2024-10-24T00:07:14.148694Z",
     "iopub.status.busy": "2024-10-24T00:07:14.148261Z",
     "iopub.status.idle": "2024-10-24T00:07:14.157999Z",
     "shell.execute_reply": "2024-10-24T00:07:14.157266Z"
    },
    "papermill": {
     "duration": 0.925431,
     "end_time": "2024-10-24T00:07:14.160175",
     "exception": false,
     "start_time": "2024-10-24T00:07:13.234744",
     "status": "completed"
    },
    "tags": []
   },
   "outputs": [],
   "source": [
    "def print_fold_metrics_summary(fold_metrics):\n",
    "    # Convert fold_metrics (list of dicts) into a DataFrame\n",
    "    metrics_df = pd.DataFrame(fold_metrics)\n",
    "    \n",
    "    # Calculate mean and standard error for each metric\n",
    "    summary_df = pd.DataFrame({\n",
    "        'Metric': ['accuracy', 'precision', 'recall', 'f1_score'],\n",
    "        'Mean': [\n",
    "            metrics_df['accuracy'].mean(),\n",
    "            metrics_df['precision'].mean(),\n",
    "            metrics_df['recall'].mean(),\n",
    "            metrics_df['f1_score'].mean()\n",
    "        ],\n",
    "        'Standard Error': [\n",
    "            metrics_df['accuracy'].std() / np.sqrt(len(metrics_df)),\n",
    "            metrics_df['precision'].std() / np.sqrt(len(metrics_df)),\n",
    "            metrics_df['recall'].std() / np.sqrt(len(metrics_df)),\n",
    "            metrics_df['f1_score'].std() / np.sqrt(len(metrics_df))\n",
    "        ]\n",
    "    })\n",
    "\n",
    "    # Print the summary table\n",
    "    print(summary_df.to_string(index=False))\n",
    "\n",
    "\n",
    "def print_overall_metrics(metrics):\n",
    "    # Specify the desired order of metrics\n",
    "    metric_order = ['accuracy', 'precision', 'recall', 'f1_score']\n",
    "    # Create a DataFrame from the metrics dictionary\n",
    "    metrics_df = pd.DataFrame.from_dict(metrics, orient='index', columns=['Value'])\n",
    "    # Reindex the DataFrame to ensure the desired order\n",
    "    metrics_df = metrics_df.reindex(metric_order)\n",
    "    # Print the metrics table\n",
    "    print(metrics_df.to_string(index=True, header=False))"
   ]
  },
  {
   "cell_type": "code",
   "execution_count": 27,
   "id": "83aaf58c",
   "metadata": {
    "execution": {
     "iopub.execute_input": "2024-10-24T00:07:15.999840Z",
     "iopub.status.busy": "2024-10-24T00:07:15.999415Z",
     "iopub.status.idle": "2024-10-24T00:07:16.011616Z",
     "shell.execute_reply": "2024-10-24T00:07:16.010458Z"
    },
    "papermill": {
     "duration": 0.909035,
     "end_time": "2024-10-24T00:07:16.013741",
     "exception": false,
     "start_time": "2024-10-24T00:07:15.104706",
     "status": "completed"
    },
    "tags": []
   },
   "outputs": [
    {
     "name": "stdout",
     "output_type": "stream",
     "text": [
      "   Metric     Mean  Standard Error\n",
      " accuracy 0.482288        0.005202\n",
      "precision 0.524740        0.018396\n",
      "   recall 0.482290        0.005223\n",
      " f1_score 0.393937        0.004908\n"
     ]
    }
   ],
   "source": [
    "print_fold_metrics_summary(fold_metrics)"
   ]
  },
  {
   "cell_type": "code",
   "execution_count": 28,
   "id": "438df388",
   "metadata": {
    "execution": {
     "iopub.execute_input": "2024-10-24T00:07:17.851284Z",
     "iopub.status.busy": "2024-10-24T00:07:17.850857Z",
     "iopub.status.idle": "2024-10-24T00:07:17.858146Z",
     "shell.execute_reply": "2024-10-24T00:07:17.857255Z"
    },
    "papermill": {
     "duration": 0.903229,
     "end_time": "2024-10-24T00:07:17.860555",
     "exception": false,
     "start_time": "2024-10-24T00:07:16.957326",
     "status": "completed"
    },
    "tags": []
   },
   "outputs": [
    {
     "name": "stdout",
     "output_type": "stream",
     "text": [
      "accuracy   0.520966\n",
      "precision  0.560689\n",
      "recall     0.520965\n",
      "f1_score   0.477497\n"
     ]
    }
   ],
   "source": [
    "print_overall_metrics(metrics)"
   ]
  }
 ],
 "metadata": {
  "kaggle": {
   "accelerator": "gpu",
   "dataSources": [
    {
     "databundleVersionId": 6589269,
     "sourceId": 53666,
     "sourceType": "competition"
    },
    {
     "datasetId": 5914455,
     "sourceId": 9701847,
     "sourceType": "datasetVersion"
    },
    {
     "sourceId": 202502869,
     "sourceType": "kernelVersion"
    },
    {
     "sourceId": 202821354,
     "sourceType": "kernelVersion"
    },
    {
     "sourceId": 202870475,
     "sourceType": "kernelVersion"
    }
   ],
   "dockerImageVersionId": 30786,
   "isGpuEnabled": true,
   "isInternetEnabled": false,
   "language": "python",
   "sourceType": "notebook"
  },
  "kernelspec": {
   "display_name": "Python 3",
   "language": "python",
   "name": "python3"
  },
  "language_info": {
   "codemirror_mode": {
    "name": "ipython",
    "version": 3
   },
   "file_extension": ".py",
   "mimetype": "text/x-python",
   "name": "python",
   "nbconvert_exporter": "python",
   "pygments_lexer": "ipython3",
   "version": "3.10.14"
  },
  "papermill": {
   "default_parameters": {},
   "duration": 1110.555196,
   "end_time": "2024-10-24T00:07:22.210195",
   "environment_variables": {},
   "exception": null,
   "input_path": "__notebook__.ipynb",
   "output_path": "__notebook__.ipynb",
   "parameters": {},
   "start_time": "2024-10-23T23:48:51.654999",
   "version": "2.6.0"
  }
 },
 "nbformat": 4,
 "nbformat_minor": 5
}
