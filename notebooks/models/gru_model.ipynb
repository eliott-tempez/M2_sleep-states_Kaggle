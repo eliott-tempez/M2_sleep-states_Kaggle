{
 "cells": [
  {
   "cell_type": "markdown",
   "id": "5bc7ac43",
   "metadata": {
    "papermill": {
     "duration": 0.015028,
     "end_time": "2024-10-23T21:35:22.175238",
     "exception": false,
     "start_time": "2024-10-23T21:35:22.160210",
     "status": "completed"
    },
    "tags": []
   },
   "source": [
    "# GRU model"
   ]
  },
  {
   "cell_type": "markdown",
   "id": "f13910f6",
   "metadata": {
    "papermill": {
     "duration": 0.009865,
     "end_time": "2024-10-23T21:35:22.196759",
     "exception": false,
     "start_time": "2024-10-23T21:35:22.186894",
     "status": "completed"
    },
    "tags": []
   },
   "source": [
    "## 1. Import data"
   ]
  },
  {
   "cell_type": "code",
   "execution_count": 2,
   "id": "ee9db67d",
   "metadata": {
    "execution": {
     "iopub.execute_input": "2024-10-23T21:35:54.861746Z",
     "iopub.status.busy": "2024-10-23T21:35:54.861383Z",
     "iopub.status.idle": "2024-10-23T21:35:55.631688Z",
     "shell.execute_reply": "2024-10-23T21:35:55.630879Z"
    },
    "papermill": {
     "duration": 0.784488,
     "end_time": "2024-10-23T21:35:55.634031",
     "exception": false,
     "start_time": "2024-10-23T21:35:54.849543",
     "status": "completed"
    },
    "tags": []
   },
   "outputs": [],
   "source": [
    "import pandas as pd\n",
    "import sys\n",
    "import numpy as np\n",
    "\n",
    "sys.path.append('/kaggle/input/utility-scripts')\n",
    "from features import add_features"
   ]
  },
  {
   "cell_type": "code",
   "execution_count": 3,
   "id": "23a60d26",
   "metadata": {
    "execution": {
     "iopub.execute_input": "2024-10-23T21:35:55.656675Z",
     "iopub.status.busy": "2024-10-23T21:35:55.656273Z",
     "iopub.status.idle": "2024-10-23T21:35:57.711295Z",
     "shell.execute_reply": "2024-10-23T21:35:57.710486Z"
    },
    "papermill": {
     "duration": 2.069036,
     "end_time": "2024-10-23T21:35:57.713835",
     "exception": false,
     "start_time": "2024-10-23T21:35:55.644799",
     "status": "completed"
    },
    "tags": []
   },
   "outputs": [],
   "source": [
    "# Import datasets\n",
    "train_series = pd.read_csv(\"/kaggle/input/input-data/filtered_train_series_continuous.csv\")\n",
    "test_series = pd.read_csv(\"/kaggle/input/input-data/filtered_test_series_continuous.csv\")"
   ]
  },
  {
   "cell_type": "code",
   "execution_count": 4,
   "id": "0b36cb97",
   "metadata": {
    "execution": {
     "iopub.execute_input": "2024-10-23T21:35:57.737439Z",
     "iopub.status.busy": "2024-10-23T21:35:57.736809Z",
     "iopub.status.idle": "2024-10-23T21:36:10.342634Z",
     "shell.execute_reply": "2024-10-23T21:36:10.341784Z"
    },
    "papermill": {
     "duration": 12.619873,
     "end_time": "2024-10-23T21:36:10.344922",
     "exception": false,
     "start_time": "2024-10-23T21:35:57.725049",
     "status": "completed"
    },
    "tags": []
   },
   "outputs": [],
   "source": [
    "# Add features\n",
    "train_series = add_features(train_series)\n",
    "test_series = add_features(test_series)"
   ]
  },
  {
   "cell_type": "code",
   "execution_count": 5,
   "id": "fc01eb36",
   "metadata": {
    "execution": {
     "iopub.execute_input": "2024-10-23T21:36:10.367616Z",
     "iopub.status.busy": "2024-10-23T21:36:10.367277Z",
     "iopub.status.idle": "2024-10-23T21:36:10.371991Z",
     "shell.execute_reply": "2024-10-23T21:36:10.371123Z"
    },
    "papermill": {
     "duration": 0.018753,
     "end_time": "2024-10-23T21:36:10.374416",
     "exception": false,
     "start_time": "2024-10-23T21:36:10.355663",
     "status": "completed"
    },
    "tags": []
   },
   "outputs": [
    {
     "name": "stdout",
     "output_type": "stream",
     "text": [
      "(787158, 40)\n",
      "(204125, 40)\n"
     ]
    }
   ],
   "source": [
    "print(train_series.shape)\n",
    "print(test_series.shape)"
   ]
  },
  {
   "cell_type": "code",
   "execution_count": 6,
   "id": "e73dee3b",
   "metadata": {
    "execution": {
     "iopub.execute_input": "2024-10-23T21:36:10.397087Z",
     "iopub.status.busy": "2024-10-23T21:36:10.396780Z",
     "iopub.status.idle": "2024-10-23T21:36:10.711193Z",
     "shell.execute_reply": "2024-10-23T21:36:10.710090Z"
    },
    "papermill": {
     "duration": 0.328435,
     "end_time": "2024-10-23T21:36:10.713432",
     "exception": false,
     "start_time": "2024-10-23T21:36:10.384997",
     "status": "completed"
    },
    "tags": []
   },
   "outputs": [
    {
     "name": "stdout",
     "output_type": "stream",
     "text": [
      "(786942, 40)\n",
      "(204072, 40)\n"
     ]
    }
   ],
   "source": [
    "# Delete NAs\n",
    "train_series = train_series.dropna()\n",
    "test_series = test_series.dropna()\n",
    "print(train_series.shape)\n",
    "print(test_series.shape)"
   ]
  },
  {
   "cell_type": "markdown",
   "id": "a96a47cb",
   "metadata": {
    "papermill": {
     "duration": 0.010379,
     "end_time": "2024-10-23T21:36:10.734571",
     "exception": false,
     "start_time": "2024-10-23T21:36:10.724192",
     "status": "completed"
    },
    "tags": []
   },
   "source": [
    "### Reshape the training data into 3D with SMOTE\n",
    "\n",
    "So that it includes time windows (50 = ~7h)"
   ]
  },
  {
   "cell_type": "code",
   "execution_count": 7,
   "id": "af952efc",
   "metadata": {
    "execution": {
     "iopub.execute_input": "2024-10-23T21:36:10.757369Z",
     "iopub.status.busy": "2024-10-23T21:36:10.756528Z",
     "iopub.status.idle": "2024-10-23T21:36:12.270552Z",
     "shell.execute_reply": "2024-10-23T21:36:12.269746Z"
    },
    "papermill": {
     "duration": 1.527932,
     "end_time": "2024-10-23T21:36:12.272789",
     "exception": false,
     "start_time": "2024-10-23T21:36:10.744857",
     "status": "completed"
    },
    "tags": []
   },
   "outputs": [],
   "source": [
    "from imblearn.over_sampling import SMOTE"
   ]
  },
  {
   "cell_type": "code",
   "execution_count": 8,
   "id": "5db74c32",
   "metadata": {
    "execution": {
     "iopub.execute_input": "2024-10-23T21:36:12.296233Z",
     "iopub.status.busy": "2024-10-23T21:36:12.295500Z",
     "iopub.status.idle": "2024-10-23T21:36:12.303450Z",
     "shell.execute_reply": "2024-10-23T21:36:12.302590Z"
    },
    "papermill": {
     "duration": 0.021683,
     "end_time": "2024-10-23T21:36:12.305447",
     "exception": false,
     "start_time": "2024-10-23T21:36:12.283764",
     "status": "completed"
    },
    "tags": []
   },
   "outputs": [],
   "source": [
    "import pandas as pd\n",
    "import numpy as np\n",
    "from imblearn.over_sampling import SMOTE\n",
    "\n",
    "def convert_to_3d(df, timestep_length=50):\n",
    "    # Ensure the DataFrame is sorted by series_id and step\n",
    "    df = df.sort_values(by=[\"series_id\", \"step\"])    \n",
    "    # Extract unique series IDs\n",
    "    ids = df[\"series_id\"].unique()\n",
    "        \n",
    "    # Extract the events\n",
    "    events = df[\"event\"]\n",
    "    # Remove the 'series_id' and 'events' column from the features\n",
    "    features = df.drop(columns=[\"series_id\", \"event\"])\n",
    "    \n",
    "    # SMOTE \n",
    "    smote = SMOTE(random_state=42)\n",
    "    smote_series, smote_event = smote.fit_resample(features, events)\n",
    "    \n",
    "    # Get the number of rows in the SMOTE resampled events\n",
    "    num_rows = len(smote_event)\n",
    "    # Truncate to the largest multiple of timestep_length\n",
    "    num_rows_to_keep = num_rows - (num_rows % timestep_length)\n",
    "    \n",
    "    # Reshape the events array\n",
    "    reshaped_event = smote_event[:num_rows_to_keep].values.reshape(-1, timestep_length)\n",
    "    # Reshape the dataframe into a 3D numpy array: (n_series, timesteps, features)\n",
    "    reshaped_data = smote_series[:num_rows_to_keep].values.reshape(-1, timestep_length, smote_series.shape[1])\n",
    "    \n",
    "    return reshaped_data, reshaped_event"
   ]
  },
  {
   "cell_type": "code",
   "execution_count": 9,
   "id": "aeda182e",
   "metadata": {
    "execution": {
     "iopub.execute_input": "2024-10-23T21:36:12.328424Z",
     "iopub.status.busy": "2024-10-23T21:36:12.328077Z",
     "iopub.status.idle": "2024-10-23T21:36:16.884560Z",
     "shell.execute_reply": "2024-10-23T21:36:16.883717Z"
    },
    "papermill": {
     "duration": 4.570508,
     "end_time": "2024-10-23T21:36:16.886926",
     "exception": false,
     "start_time": "2024-10-23T21:36:12.316418",
     "status": "completed"
    },
    "tags": []
   },
   "outputs": [],
   "source": [
    "shaped_train_data, shaped_train_tar = convert_to_3d(train_series)\n",
    "shaped_test_data, shaped_test_tar = convert_to_3d(test_series)"
   ]
  },
  {
   "cell_type": "code",
   "execution_count": 10,
   "id": "e2d1d468",
   "metadata": {
    "execution": {
     "iopub.execute_input": "2024-10-23T21:36:16.909605Z",
     "iopub.status.busy": "2024-10-23T21:36:16.909209Z",
     "iopub.status.idle": "2024-10-23T21:36:16.914744Z",
     "shell.execute_reply": "2024-10-23T21:36:16.913885Z"
    },
    "papermill": {
     "duration": 0.019215,
     "end_time": "2024-10-23T21:36:16.916773",
     "exception": false,
     "start_time": "2024-10-23T21:36:16.897558",
     "status": "completed"
    },
    "tags": []
   },
   "outputs": [
    {
     "name": "stdout",
     "output_type": "stream",
     "text": [
      "Train data:\n",
      "(46779, 50, 38)\n",
      "(46779, 50) \n",
      "\n",
      "Test data:\n",
      "(12121, 50, 38)\n",
      "(12121, 50)\n"
     ]
    }
   ],
   "source": [
    "print(\"Train data:\")\n",
    "print(shaped_train_data.shape)\n",
    "print(shaped_train_tar.shape, \"\\n\")\n",
    "print(\"Test data:\")\n",
    "print(shaped_test_data.shape)\n",
    "print(shaped_test_tar.shape)"
   ]
  },
  {
   "cell_type": "code",
   "execution_count": 11,
   "id": "1374b352",
   "metadata": {
    "execution": {
     "iopub.execute_input": "2024-10-23T21:36:16.939450Z",
     "iopub.status.busy": "2024-10-23T21:36:16.938698Z",
     "iopub.status.idle": "2024-10-23T21:36:16.956844Z",
     "shell.execute_reply": "2024-10-23T21:36:16.955797Z"
    },
    "papermill": {
     "duration": 0.031431,
     "end_time": "2024-10-23T21:36:16.958815",
     "exception": false,
     "start_time": "2024-10-23T21:36:16.927384",
     "status": "completed"
    },
    "tags": []
   },
   "outputs": [
    {
     "name": "stdout",
     "output_type": "stream",
     "text": [
      "[2.99997691 2.99997691 3.00004618]\n"
     ]
    }
   ],
   "source": [
    "# Calculate class weights\n",
    "unique, counts = np.unique(shaped_train_tar, return_counts=True)\n",
    "weights = counts.sum()/counts\n",
    "print(weights)"
   ]
  },
  {
   "cell_type": "markdown",
   "id": "c7573e39",
   "metadata": {
    "papermill": {
     "duration": 0.010454,
     "end_time": "2024-10-23T21:36:16.979968",
     "exception": false,
     "start_time": "2024-10-23T21:36:16.969514",
     "status": "completed"
    },
    "tags": []
   },
   "source": [
    "### One hot encoding"
   ]
  },
  {
   "cell_type": "code",
   "execution_count": 12,
   "id": "d4dcbb27",
   "metadata": {
    "execution": {
     "iopub.execute_input": "2024-10-23T21:36:17.003050Z",
     "iopub.status.busy": "2024-10-23T21:36:17.002241Z",
     "iopub.status.idle": "2024-10-23T21:36:28.679273Z",
     "shell.execute_reply": "2024-10-23T21:36:28.678477Z"
    },
    "papermill": {
     "duration": 11.691076,
     "end_time": "2024-10-23T21:36:28.681595",
     "exception": false,
     "start_time": "2024-10-23T21:36:16.990519",
     "status": "completed"
    },
    "tags": []
   },
   "outputs": [],
   "source": [
    "import keras"
   ]
  },
  {
   "cell_type": "code",
   "execution_count": 13,
   "id": "7205d4c1",
   "metadata": {
    "execution": {
     "iopub.execute_input": "2024-10-23T21:36:28.704990Z",
     "iopub.status.busy": "2024-10-23T21:36:28.704431Z",
     "iopub.status.idle": "2024-10-23T21:36:28.755679Z",
     "shell.execute_reply": "2024-10-23T21:36:28.754747Z"
    },
    "papermill": {
     "duration": 0.065486,
     "end_time": "2024-10-23T21:36:28.758032",
     "exception": false,
     "start_time": "2024-10-23T21:36:28.692546",
     "status": "completed"
    },
    "tags": []
   },
   "outputs": [],
   "source": [
    "shaped_train_target = keras.utils.to_categorical(shaped_train_tar)\n",
    "shaped_test_target = keras.utils.to_categorical(shaped_test_tar)"
   ]
  },
  {
   "cell_type": "code",
   "execution_count": 14,
   "id": "3e3c1da7",
   "metadata": {
    "execution": {
     "iopub.execute_input": "2024-10-23T21:36:28.781752Z",
     "iopub.status.busy": "2024-10-23T21:36:28.781038Z",
     "iopub.status.idle": "2024-10-23T21:36:28.786344Z",
     "shell.execute_reply": "2024-10-23T21:36:28.785392Z"
    },
    "papermill": {
     "duration": 0.019266,
     "end_time": "2024-10-23T21:36:28.788348",
     "exception": false,
     "start_time": "2024-10-23T21:36:28.769082",
     "status": "completed"
    },
    "tags": []
   },
   "outputs": [
    {
     "name": "stdout",
     "output_type": "stream",
     "text": [
      "One hot encoded targets:\n",
      "(46779, 50, 3)\n",
      "(12121, 50, 3)\n"
     ]
    }
   ],
   "source": [
    "print(\"One hot encoded targets:\")\n",
    "print(shaped_train_target.shape)\n",
    "print(shaped_test_target.shape)"
   ]
  },
  {
   "cell_type": "markdown",
   "id": "08b991f4",
   "metadata": {
    "papermill": {
     "duration": 0.010542,
     "end_time": "2024-10-23T21:36:28.809601",
     "exception": false,
     "start_time": "2024-10-23T21:36:28.799059",
     "status": "completed"
    },
    "tags": []
   },
   "source": [
    "## 2. Build and run model"
   ]
  },
  {
   "cell_type": "code",
   "execution_count": 15,
   "id": "05aec64b",
   "metadata": {
    "execution": {
     "iopub.execute_input": "2024-10-23T21:36:28.832453Z",
     "iopub.status.busy": "2024-10-23T21:36:28.832028Z",
     "iopub.status.idle": "2024-10-23T21:36:28.895811Z",
     "shell.execute_reply": "2024-10-23T21:36:28.895059Z"
    },
    "papermill": {
     "duration": 0.077726,
     "end_time": "2024-10-23T21:36:28.898004",
     "exception": false,
     "start_time": "2024-10-23T21:36:28.820278",
     "status": "completed"
    },
    "tags": []
   },
   "outputs": [],
   "source": [
    "# Suppress TensorFlow warnings\n",
    "import os\n",
    "os.environ['TF_CPP_MIN_LOG_LEVEL'] = '3'\n",
    "\n",
    "from tensorflow import keras\n",
    "import tensorflow as tf\n",
    "from sklearn.model_selection import KFold\n",
    "from keras.models import Sequential\n",
    "from keras.layers import GRU, Dense, Input, Bidirectional, Dropout\n",
    "from keras.optimizers import Adam\n",
    "from keras.callbacks import EarlyStopping\n",
    "from sklearn.model_selection import KFold\n",
    "from sklearn.metrics import precision_score, recall_score, f1_score, accuracy_score\n",
    "from tensorflow.keras import backend as K\n",
    "from sklearn.utils.class_weight import compute_class_weight\n",
    "from sklearn.metrics import roc_curve"
   ]
  },
  {
   "cell_type": "markdown",
   "id": "df4be3a4",
   "metadata": {
    "papermill": {
     "duration": 0.010627,
     "end_time": "2024-10-23T21:36:28.919737",
     "exception": false,
     "start_time": "2024-10-23T21:36:28.909110",
     "status": "completed"
    },
    "tags": []
   },
   "source": [
    "### Home-made loss function"
   ]
  },
  {
   "cell_type": "code",
   "execution_count": 16,
   "id": "d1c8aab2",
   "metadata": {
    "execution": {
     "iopub.execute_input": "2024-10-23T21:36:28.942502Z",
     "iopub.status.busy": "2024-10-23T21:36:28.942142Z",
     "iopub.status.idle": "2024-10-23T21:36:28.948378Z",
     "shell.execute_reply": "2024-10-23T21:36:28.947463Z"
    },
    "papermill": {
     "duration": 0.02016,
     "end_time": "2024-10-23T21:36:28.950437",
     "exception": false,
     "start_time": "2024-10-23T21:36:28.930277",
     "status": "completed"
    },
    "tags": []
   },
   "outputs": [],
   "source": [
    "def weighted_categorical_crossentropy(weights):\n",
    "    \n",
    "    weights = K.variable(weights)\n",
    "\n",
    "    def loss(y_true, y_pred):\n",
    "        \"\"\"Calculate weighted categorical crossentropy loss.\"\"\"\n",
    "        # Clip predictions to avoid log(0)\n",
    "        y_pred = K.clip(y_pred, K.epsilon(), 1 - K.epsilon())\n",
    "        \n",
    "        # Calculate unweighted categorical crossentropy\n",
    "        cce = y_true * K.log(y_pred)\n",
    "        \n",
    "        # Multiply with weights for each class\n",
    "        weighted_cce = cce * weights\n",
    "        \n",
    "        # Take mean across timesteps and batch dimensions\n",
    "        return -K.mean(K.sum(weighted_cce, axis=-1))  # sum across classes, mean across batch and timesteps\n",
    "\n",
    "    return loss"
   ]
  },
  {
   "cell_type": "markdown",
   "id": "74a888c7",
   "metadata": {
    "papermill": {
     "duration": 0.010581,
     "end_time": "2024-10-23T21:36:28.971532",
     "exception": false,
     "start_time": "2024-10-23T21:36:28.960951",
     "status": "completed"
    },
    "tags": []
   },
   "source": [
    "### Build and train the model"
   ]
  },
  {
   "cell_type": "code",
   "execution_count": 17,
   "id": "6a241f3e",
   "metadata": {
    "execution": {
     "iopub.execute_input": "2024-10-23T21:36:28.994442Z",
     "iopub.status.busy": "2024-10-23T21:36:28.993779Z",
     "iopub.status.idle": "2024-10-23T21:36:29.000989Z",
     "shell.execute_reply": "2024-10-23T21:36:29.000179Z"
    },
    "papermill": {
     "duration": 0.020632,
     "end_time": "2024-10-23T21:36:29.002837",
     "exception": false,
     "start_time": "2024-10-23T21:36:28.982205",
     "status": "completed"
    },
    "tags": []
   },
   "outputs": [],
   "source": [
    "def find_optimal_threshold(test_target_classes, test_pred, num_classes=3):\n",
    "    thresholds = np.arange(0.1, 0.9, 0.01)  # Range of thresholds to search\n",
    "    best_thresholds = []\n",
    "    best_f1_scores = []\n",
    "    \n",
    "    # Loop through each class to find the best threshold for maximizing F1 score\n",
    "    for i in range(num_classes):\n",
    "        f1_scores = []\n",
    "        for threshold in thresholds:\n",
    "            # Binarize predictions using the threshold\n",
    "            binary_pred = (test_pred[:, i] >= threshold).astype(int)\n",
    "            binary_true = (test_target_classes == i).astype(int)\n",
    "\n",
    "            # Compute F1 score\n",
    "            f1 = f1_score(binary_true, binary_pred, zero_division=1)\n",
    "            f1_scores.append(f1)\n",
    "\n",
    "        # Get the best threshold for this class\n",
    "        best_idx = np.argmax(f1_scores)\n",
    "        best_thresholds.append(thresholds[best_idx])\n",
    "        best_f1_scores.append(f1_scores[best_idx])\n",
    "\n",
    "        print(f\"Class {i} - Best Threshold: {best_thresholds[-1]}, Best F1 Score: {best_f1_scores[-1]}\")\n",
    "    \n",
    "    return best_thresholds, best_f1_scores"
   ]
  },
  {
   "cell_type": "code",
   "execution_count": 18,
   "id": "cd48c9c5",
   "metadata": {
    "execution": {
     "iopub.execute_input": "2024-10-23T21:36:29.025532Z",
     "iopub.status.busy": "2024-10-23T21:36:29.025169Z",
     "iopub.status.idle": "2024-10-23T21:36:29.039052Z",
     "shell.execute_reply": "2024-10-23T21:36:29.038193Z"
    },
    "papermill": {
     "duration": 0.027242,
     "end_time": "2024-10-23T21:36:29.040964",
     "exception": false,
     "start_time": "2024-10-23T21:36:29.013722",
     "status": "completed"
    },
    "tags": []
   },
   "outputs": [],
   "source": [
    "def build_gru_model(input_shape):\n",
    "    model = Sequential()\n",
    "    model.add(Input(shape=input_shape))\n",
    "    model.add(Bidirectional(GRU(units=64, return_sequences=True)))\n",
    "    model.add(Bidirectional(GRU(units=32, return_sequences=True)))\n",
    "    model.add(Dense(units=3, activation='softmax'))\n",
    "    \n",
    "    return model\n",
    "\n",
    "\n",
    "def train_gru_model(train_series, train_target,\n",
    "                    test_series, test_target,\n",
    "                   class_weights):\n",
    "    \n",
    "    # Ensure data is in the correct numerical format\n",
    "    train_series = np.array(train_series, dtype=np.float32)\n",
    "    train_target = np.array(train_target, dtype=np.int32)\n",
    "    test_series = np.array(test_series, dtype=np.float32)\n",
    "    test_target = np.array(test_target, dtype=np.int32)\n",
    "\n",
    "    # Define the input shape for the GRU model\n",
    "    input_shape = train_series.shape[1:]\n",
    "    \n",
    "    # Build and compile the GRU model\n",
    "    model = build_gru_model(input_shape)\n",
    "    model.compile(loss=weighted_categorical_crossentropy(class_weights), \n",
    "                  optimizer='adam', metrics=['accuracy', 'precision'])\n",
    "\n",
    "    # Define early stopping\n",
    "    early_stop = EarlyStopping(monitor='val_loss', patience=5, restore_best_weights=True)\n",
    "\n",
    "    # Train the model\n",
    "    history = model.fit(x=train_series, y=train_target, batch_size=32,\n",
    "                        validation_data=(test_series, test_target), \n",
    "                        epochs=20, callbacks=[early_stop])\n",
    "\n",
    "    # Evaluate the model on the validation set\n",
    "    test_pred = model.predict(test_series).reshape(-1, 3)\n",
    "    test_target_classes = np.argmax(test_target.reshape(-1, 3), axis=1)\n",
    "\n",
    "    # Find optimal thresholds for each class\n",
    "    best_thresholds, _ = find_optimal_threshold(test_target_classes, test_pred)\n",
    "\n",
    "    # Apply the optimal thresholds to get final predictions\n",
    "    final_pred_classes = []\n",
    "    for i in range(len(best_thresholds)):\n",
    "        # Binarize predictions using the optimal thresholds\n",
    "        binary_pred = (test_pred[:, i] >= best_thresholds[i]).astype(int)\n",
    "        final_pred_classes.append(binary_pred)\n",
    "\n",
    "    # Combine final predictions for each class\n",
    "    final_pred_classes = np.array(final_pred_classes).T  # Shape: (num_samples, num_classes)\n",
    "    \n",
    "    # Get the predicted class based on the maximum value across the classes\n",
    "    final_pred_classes = np.argmax(final_pred_classes, axis=1)\n",
    "\n",
    "    # Calculate precision, accuracy, recall, and F1-score\n",
    "    precision = precision_score(test_target_classes, final_pred_classes, average='macro')\n",
    "    accuracy = accuracy_score(test_target_classes, final_pred_classes)\n",
    "    recall = recall_score(test_target_classes, final_pred_classes, average='macro')\n",
    "    f1 = f1_score(test_target_classes, final_pred_classes, average='macro')\n",
    "\n",
    "    # Save the metrics for this fold\n",
    "    metrics = {\n",
    "        'precision': precision,\n",
    "        'accuracy': accuracy,\n",
    "        'recall': recall,\n",
    "        'f1_score': f1\n",
    "    }\n",
    "    \n",
    "    return model, metrics"
   ]
  },
  {
   "cell_type": "code",
   "execution_count": 19,
   "id": "58af9c73",
   "metadata": {
    "execution": {
     "iopub.execute_input": "2024-10-23T21:36:29.063559Z",
     "iopub.status.busy": "2024-10-23T21:36:29.063209Z",
     "iopub.status.idle": "2024-10-23T21:41:14.229777Z",
     "shell.execute_reply": "2024-10-23T21:41:14.228625Z"
    },
    "papermill": {
     "duration": 285.180196,
     "end_time": "2024-10-23T21:41:14.231798",
     "exception": false,
     "start_time": "2024-10-23T21:36:29.051602",
     "status": "completed"
    },
    "tags": []
   },
   "outputs": [
    {
     "name": "stdout",
     "output_type": "stream",
     "text": [
      "Epoch 1/20\n",
      "\u001b[1m1462/1462\u001b[0m \u001b[32m━━━━━━━━━━━━━━━━━━━━\u001b[0m\u001b[37m\u001b[0m \u001b[1m27s\u001b[0m 15ms/step - accuracy: 0.8826 - loss: 0.9306 - precision: 0.9033 - val_accuracy: 0.9338 - val_loss: 0.5239 - val_precision: 0.9342\n",
      "Epoch 2/20\n",
      "\u001b[1m1462/1462\u001b[0m \u001b[32m━━━━━━━━━━━━━━━━━━━━\u001b[0m\u001b[37m\u001b[0m \u001b[1m21s\u001b[0m 14ms/step - accuracy: 0.9529 - loss: 0.4019 - precision: 0.9531 - val_accuracy: 0.9423 - val_loss: 0.4519 - val_precision: 0.9425\n",
      "Epoch 3/20\n",
      "\u001b[1m1462/1462\u001b[0m \u001b[32m━━━━━━━━━━━━━━━━━━━━\u001b[0m\u001b[37m\u001b[0m \u001b[1m21s\u001b[0m 14ms/step - accuracy: 0.9589 - loss: 0.3583 - precision: 0.9591 - val_accuracy: 0.9464 - val_loss: 0.4293 - val_precision: 0.9465\n",
      "Epoch 4/20\n",
      "\u001b[1m1462/1462\u001b[0m \u001b[32m━━━━━━━━━━━━━━━━━━━━\u001b[0m\u001b[37m\u001b[0m \u001b[1m21s\u001b[0m 14ms/step - accuracy: 0.9592 - loss: 0.3559 - precision: 0.9593 - val_accuracy: 0.9356 - val_loss: 0.5036 - val_precision: 0.9357\n",
      "Epoch 5/20\n",
      "\u001b[1m1462/1462\u001b[0m \u001b[32m━━━━━━━━━━━━━━━━━━━━\u001b[0m\u001b[37m\u001b[0m \u001b[1m41s\u001b[0m 14ms/step - accuracy: 0.9608 - loss: 0.3372 - precision: 0.9609 - val_accuracy: 0.9447 - val_loss: 0.4370 - val_precision: 0.9449\n",
      "Epoch 6/20\n",
      "\u001b[1m1462/1462\u001b[0m \u001b[32m━━━━━━━━━━━━━━━━━━━━\u001b[0m\u001b[37m\u001b[0m \u001b[1m21s\u001b[0m 14ms/step - accuracy: 0.9626 - loss: 0.3256 - precision: 0.9627 - val_accuracy: 0.9346 - val_loss: 0.4997 - val_precision: 0.9347\n",
      "Epoch 7/20\n",
      "\u001b[1m1462/1462\u001b[0m \u001b[32m━━━━━━━━━━━━━━━━━━━━\u001b[0m\u001b[37m\u001b[0m \u001b[1m21s\u001b[0m 14ms/step - accuracy: 0.9613 - loss: 0.3265 - precision: 0.9614 - val_accuracy: 0.9415 - val_loss: 0.4564 - val_precision: 0.9416\n",
      "Epoch 8/20\n",
      "\u001b[1m1462/1462\u001b[0m \u001b[32m━━━━━━━━━━━━━━━━━━━━\u001b[0m\u001b[37m\u001b[0m \u001b[1m21s\u001b[0m 14ms/step - accuracy: 0.9608 - loss: 0.3284 - precision: 0.9609 - val_accuracy: 0.9289 - val_loss: 0.5669 - val_precision: 0.9290\n",
      "\u001b[1m379/379\u001b[0m \u001b[32m━━━━━━━━━━━━━━━━━━━━\u001b[0m\u001b[37m\u001b[0m \u001b[1m2s\u001b[0m 5ms/step\n",
      "Class 0 - Best Threshold: 0.1, Best F1 Score: 0.9942369147906046\n",
      "Class 1 - Best Threshold: 0.7499999999999997, Best F1 Score: 0.9390138642966004\n",
      "Class 2 - Best Threshold: 0.24999999999999992, Best F1 Score: 0.9337805728870539\n"
     ]
    }
   ],
   "source": [
    "model, metrics = train_gru_model(shaped_train_data, shaped_train_target, \n",
    "                                 shaped_test_data, shaped_test_target,\n",
    "                                 weights)"
   ]
  },
  {
   "cell_type": "markdown",
   "id": "627124a6",
   "metadata": {
    "papermill": {
     "duration": 0.241876,
     "end_time": "2024-10-23T21:41:14.715571",
     "exception": false,
     "start_time": "2024-10-23T21:41:14.473695",
     "status": "completed"
    },
    "tags": []
   },
   "source": [
    "### K-fold validation"
   ]
  },
  {
   "cell_type": "code",
   "execution_count": 20,
   "id": "c36c1a8f",
   "metadata": {
    "execution": {
     "iopub.execute_input": "2024-10-23T21:41:15.203542Z",
     "iopub.status.busy": "2024-10-23T21:41:15.203014Z",
     "iopub.status.idle": "2024-10-23T21:41:15.211289Z",
     "shell.execute_reply": "2024-10-23T21:41:15.210424Z"
    },
    "papermill": {
     "duration": 0.254973,
     "end_time": "2024-10-23T21:41:15.213291",
     "exception": false,
     "start_time": "2024-10-23T21:41:14.958318",
     "status": "completed"
    },
    "tags": []
   },
   "outputs": [],
   "source": [
    "def train_gru_model_with_kfold(series, target, class_weights, k=3):\n",
    "    \n",
    "    # Ensure data is in the correct numerical format\n",
    "    series = np.array(series, dtype=np.float32)\n",
    "    target = np.array(target, dtype=np.int32)\n",
    "\n",
    "    # Initialize the KFold cross-validator\n",
    "    kf = KFold(n_splits=k, shuffle=True, random_state=42)\n",
    "\n",
    "    histories = []\n",
    "    fold_metrics = []\n",
    "\n",
    "    # Perform K-Fold cross-validation\n",
    "    for fold, (train_idx, test_idx) in enumerate(kf.split(series)):\n",
    "        print(f\"\\nTraining fold {fold + 1}/{k}...\")\n",
    "\n",
    "        # Split the data into train and validation sets\n",
    "        train_series, test_series = series[train_idx], series[test_idx]\n",
    "        train_target, test_target = target[train_idx], target[test_idx]\n",
    "\n",
    "        # Train the GRU model\n",
    "        model, metrics = train_gru_model(train_series, train_target, test_series, test_target, class_weights)\n",
    "\n",
    "        # Save the history and model for this fold\n",
    "        histories.append(model.history)\n",
    "\n",
    "        # Save metrics for this fold\n",
    "        fold_metrics.append(metrics)\n",
    "\n",
    "    return histories, fold_metrics"
   ]
  },
  {
   "cell_type": "code",
   "execution_count": 21,
   "id": "39ef4b99",
   "metadata": {
    "execution": {
     "iopub.execute_input": "2024-10-23T21:41:15.699575Z",
     "iopub.status.busy": "2024-10-23T21:41:15.698913Z",
     "iopub.status.idle": "2024-10-23T21:57:45.994772Z",
     "shell.execute_reply": "2024-10-23T21:57:45.993626Z"
    },
    "papermill": {
     "duration": 991.64783,
     "end_time": "2024-10-23T21:57:47.102574",
     "exception": false,
     "start_time": "2024-10-23T21:41:15.454744",
     "status": "completed"
    },
    "tags": []
   },
   "outputs": [
    {
     "name": "stdout",
     "output_type": "stream",
     "text": [
      "\n",
      "Training fold 1/3...\n",
      "Epoch 1/20\n",
      "\u001b[1m975/975\u001b[0m \u001b[32m━━━━━━━━━━━━━━━━━━━━\u001b[0m\u001b[37m\u001b[0m \u001b[1m19s\u001b[0m 16ms/step - accuracy: 0.8712 - loss: 1.0377 - precision: 0.8955 - val_accuracy: 0.9569 - val_loss: 0.3847 - val_precision: 0.9571\n",
      "Epoch 2/20\n",
      "\u001b[1m975/975\u001b[0m \u001b[32m━━━━━━━━━━━━━━━━━━━━\u001b[0m\u001b[37m\u001b[0m \u001b[1m15s\u001b[0m 16ms/step - accuracy: 0.9535 - loss: 0.4227 - precision: 0.9538 - val_accuracy: 0.9576 - val_loss: 0.3761 - val_precision: 0.9581\n",
      "Epoch 3/20\n",
      "\u001b[1m975/975\u001b[0m \u001b[32m━━━━━━━━━━━━━━━━━━━━\u001b[0m\u001b[37m\u001b[0m \u001b[1m15s\u001b[0m 15ms/step - accuracy: 0.9588 - loss: 0.3710 - precision: 0.9590 - val_accuracy: 0.9532 - val_loss: 0.4020 - val_precision: 0.9534\n",
      "Epoch 4/20\n",
      "\u001b[1m975/975\u001b[0m \u001b[32m━━━━━━━━━━━━━━━━━━━━\u001b[0m\u001b[37m\u001b[0m \u001b[1m15s\u001b[0m 15ms/step - accuracy: 0.9569 - loss: 0.3748 - precision: 0.9571 - val_accuracy: 0.9620 - val_loss: 0.3295 - val_precision: 0.9621\n",
      "Epoch 5/20\n",
      "\u001b[1m975/975\u001b[0m \u001b[32m━━━━━━━━━━━━━━━━━━━━\u001b[0m\u001b[37m\u001b[0m \u001b[1m15s\u001b[0m 15ms/step - accuracy: 0.9579 - loss: 0.3626 - precision: 0.9581 - val_accuracy: 0.9592 - val_loss: 0.3444 - val_precision: 0.9594\n",
      "Epoch 6/20\n",
      "\u001b[1m975/975\u001b[0m \u001b[32m━━━━━━━━━━━━━━━━━━━━\u001b[0m\u001b[37m\u001b[0m \u001b[1m15s\u001b[0m 16ms/step - accuracy: 0.9594 - loss: 0.3512 - precision: 0.9595 - val_accuracy: 0.9590 - val_loss: 0.3486 - val_precision: 0.9591\n",
      "Epoch 7/20\n",
      "\u001b[1m975/975\u001b[0m \u001b[32m━━━━━━━━━━━━━━━━━━━━\u001b[0m\u001b[37m\u001b[0m \u001b[1m15s\u001b[0m 15ms/step - accuracy: 0.9601 - loss: 0.3406 - precision: 0.9602 - val_accuracy: 0.9544 - val_loss: 0.3830 - val_precision: 0.9549\n",
      "Epoch 8/20\n",
      "\u001b[1m975/975\u001b[0m \u001b[32m━━━━━━━━━━━━━━━━━━━━\u001b[0m\u001b[37m\u001b[0m \u001b[1m15s\u001b[0m 16ms/step - accuracy: 0.9630 - loss: 0.3229 - precision: 0.9631 - val_accuracy: 0.9635 - val_loss: 0.3122 - val_precision: 0.9636\n",
      "Epoch 9/20\n",
      "\u001b[1m975/975\u001b[0m \u001b[32m━━━━━━━━━━━━━━━━━━━━\u001b[0m\u001b[37m\u001b[0m \u001b[1m15s\u001b[0m 15ms/step - accuracy: 0.9651 - loss: 0.3067 - precision: 0.9651 - val_accuracy: 0.9629 - val_loss: 0.3062 - val_precision: 0.9630\n",
      "Epoch 10/20\n",
      "\u001b[1m975/975\u001b[0m \u001b[32m━━━━━━━━━━━━━━━━━━━━\u001b[0m\u001b[37m\u001b[0m \u001b[1m15s\u001b[0m 16ms/step - accuracy: 0.9636 - loss: 0.3185 - precision: 0.9637 - val_accuracy: 0.9620 - val_loss: 0.3171 - val_precision: 0.9621\n",
      "Epoch 11/20\n",
      "\u001b[1m975/975\u001b[0m \u001b[32m━━━━━━━━━━━━━━━━━━━━\u001b[0m\u001b[37m\u001b[0m \u001b[1m15s\u001b[0m 15ms/step - accuracy: 0.9631 - loss: 0.3156 - precision: 0.9631 - val_accuracy: 0.9633 - val_loss: 0.3064 - val_precision: 0.9634\n",
      "Epoch 12/20\n",
      "\u001b[1m975/975\u001b[0m \u001b[32m━━━━━━━━━━━━━━━━━━━━\u001b[0m\u001b[37m\u001b[0m \u001b[1m15s\u001b[0m 16ms/step - accuracy: 0.9625 - loss: 0.3194 - precision: 0.9626 - val_accuracy: 0.9621 - val_loss: 0.3166 - val_precision: 0.9621\n",
      "Epoch 13/20\n",
      "\u001b[1m975/975\u001b[0m \u001b[32m━━━━━━━━━━━━━━━━━━━━\u001b[0m\u001b[37m\u001b[0m \u001b[1m15s\u001b[0m 15ms/step - accuracy: 0.9605 - loss: 0.3293 - precision: 0.9606 - val_accuracy: 0.9620 - val_loss: 0.3160 - val_precision: 0.9620\n",
      "Epoch 14/20\n",
      "\u001b[1m975/975\u001b[0m \u001b[32m━━━━━━━━━━━━━━━━━━━━\u001b[0m\u001b[37m\u001b[0m \u001b[1m15s\u001b[0m 15ms/step - accuracy: 0.9621 - loss: 0.3226 - precision: 0.9622 - val_accuracy: 0.9608 - val_loss: 0.3244 - val_precision: 0.9608\n",
      "\u001b[1m488/488\u001b[0m \u001b[32m━━━━━━━━━━━━━━━━━━━━\u001b[0m\u001b[37m\u001b[0m \u001b[1m3s\u001b[0m 5ms/step\n",
      "Class 0 - Best Threshold: 0.20999999999999996, Best F1 Score: 0.9950312435106001\n",
      "Class 1 - Best Threshold: 0.4999999999999998, Best F1 Score: 0.9461592954203493\n",
      "Class 2 - Best Threshold: 0.44999999999999984, Best F1 Score: 0.9471571572340572\n",
      "\n",
      "Training fold 2/3...\n",
      "Epoch 1/20\n",
      "\u001b[1m975/975\u001b[0m \u001b[32m━━━━━━━━━━━━━━━━━━━━\u001b[0m\u001b[37m\u001b[0m \u001b[1m18s\u001b[0m 16ms/step - accuracy: 0.8728 - loss: 1.0102 - precision: 0.8970 - val_accuracy: 0.9575 - val_loss: 0.3817 - val_precision: 0.9576\n",
      "Epoch 2/20\n",
      "\u001b[1m975/975\u001b[0m \u001b[32m━━━━━━━━━━━━━━━━━━━━\u001b[0m\u001b[37m\u001b[0m \u001b[1m15s\u001b[0m 16ms/step - accuracy: 0.9555 - loss: 0.3912 - precision: 0.9557 - val_accuracy: 0.9518 - val_loss: 0.4145 - val_precision: 0.9520\n",
      "Epoch 3/20\n",
      "\u001b[1m975/975\u001b[0m \u001b[32m━━━━━━━━━━━━━━━━━━━━\u001b[0m\u001b[37m\u001b[0m \u001b[1m15s\u001b[0m 15ms/step - accuracy: 0.9551 - loss: 0.3851 - precision: 0.9552 - val_accuracy: 0.9624 - val_loss: 0.3395 - val_precision: 0.9625\n",
      "Epoch 4/20\n",
      "\u001b[1m975/975\u001b[0m \u001b[32m━━━━━━━━━━━━━━━━━━━━\u001b[0m\u001b[37m\u001b[0m \u001b[1m15s\u001b[0m 16ms/step - accuracy: 0.9608 - loss: 0.3526 - precision: 0.9609 - val_accuracy: 0.9637 - val_loss: 0.3336 - val_precision: 0.9638\n",
      "Epoch 5/20\n",
      "\u001b[1m975/975\u001b[0m \u001b[32m━━━━━━━━━━━━━━━━━━━━\u001b[0m\u001b[37m\u001b[0m \u001b[1m15s\u001b[0m 15ms/step - accuracy: 0.9602 - loss: 0.3514 - precision: 0.9603 - val_accuracy: 0.9571 - val_loss: 0.3657 - val_precision: 0.9572\n",
      "Epoch 6/20\n",
      "\u001b[1m975/975\u001b[0m \u001b[32m━━━━━━━━━━━━━━━━━━━━\u001b[0m\u001b[37m\u001b[0m \u001b[1m15s\u001b[0m 16ms/step - accuracy: 0.9577 - loss: 0.3535 - precision: 0.9578 - val_accuracy: 0.9525 - val_loss: 0.3916 - val_precision: 0.9526\n",
      "Epoch 7/20\n",
      "\u001b[1m975/975\u001b[0m \u001b[32m━━━━━━━━━━━━━━━━━━━━\u001b[0m\u001b[37m\u001b[0m \u001b[1m15s\u001b[0m 15ms/step - accuracy: 0.9610 - loss: 0.3302 - precision: 0.9611 - val_accuracy: 0.9631 - val_loss: 0.3266 - val_precision: 0.9631\n",
      "Epoch 8/20\n",
      "\u001b[1m975/975\u001b[0m \u001b[32m━━━━━━━━━━━━━━━━━━━━\u001b[0m\u001b[37m\u001b[0m \u001b[1m15s\u001b[0m 15ms/step - accuracy: 0.9610 - loss: 0.3311 - precision: 0.9611 - val_accuracy: 0.9622 - val_loss: 0.3275 - val_precision: 0.9622\n",
      "Epoch 9/20\n",
      "\u001b[1m975/975\u001b[0m \u001b[32m━━━━━━━━━━━━━━━━━━━━\u001b[0m\u001b[37m\u001b[0m \u001b[1m15s\u001b[0m 16ms/step - accuracy: 0.9612 - loss: 0.3300 - precision: 0.9613 - val_accuracy: 0.9634 - val_loss: 0.3224 - val_precision: 0.9635\n",
      "Epoch 10/20\n",
      "\u001b[1m975/975\u001b[0m \u001b[32m━━━━━━━━━━━━━━━━━━━━\u001b[0m\u001b[37m\u001b[0m \u001b[1m15s\u001b[0m 15ms/step - accuracy: 0.9620 - loss: 0.3235 - precision: 0.9621 - val_accuracy: 0.9615 - val_loss: 0.3289 - val_precision: 0.9616\n",
      "Epoch 11/20\n",
      "\u001b[1m975/975\u001b[0m \u001b[32m━━━━━━━━━━━━━━━━━━━━\u001b[0m\u001b[37m\u001b[0m \u001b[1m15s\u001b[0m 16ms/step - accuracy: 0.9621 - loss: 0.3178 - precision: 0.9622 - val_accuracy: 0.9619 - val_loss: 0.3308 - val_precision: 0.9620\n",
      "Epoch 12/20\n",
      "\u001b[1m975/975\u001b[0m \u001b[32m━━━━━━━━━━━━━━━━━━━━\u001b[0m\u001b[37m\u001b[0m \u001b[1m15s\u001b[0m 15ms/step - accuracy: 0.9596 - loss: 0.3309 - precision: 0.9596 - val_accuracy: 0.9631 - val_loss: 0.3275 - val_precision: 0.9632\n",
      "Epoch 13/20\n",
      "\u001b[1m975/975\u001b[0m \u001b[32m━━━━━━━━━━━━━━━━━━━━\u001b[0m\u001b[37m\u001b[0m \u001b[1m15s\u001b[0m 15ms/step - accuracy: 0.9635 - loss: 0.3056 - precision: 0.9636 - val_accuracy: 0.9634 - val_loss: 0.3147 - val_precision: 0.9635\n",
      "Epoch 14/20\n",
      "\u001b[1m975/975\u001b[0m \u001b[32m━━━━━━━━━━━━━━━━━━━━\u001b[0m\u001b[37m\u001b[0m \u001b[1m15s\u001b[0m 15ms/step - accuracy: 0.9643 - loss: 0.3021 - precision: 0.9644 - val_accuracy: 0.9604 - val_loss: 0.3398 - val_precision: 0.9605\n",
      "Epoch 15/20\n",
      "\u001b[1m975/975\u001b[0m \u001b[32m━━━━━━━━━━━━━━━━━━━━\u001b[0m\u001b[37m\u001b[0m \u001b[1m15s\u001b[0m 16ms/step - accuracy: 0.9620 - loss: 0.3194 - precision: 0.9620 - val_accuracy: 0.9591 - val_loss: 0.3694 - val_precision: 0.9592\n",
      "Epoch 16/20\n",
      "\u001b[1m975/975\u001b[0m \u001b[32m━━━━━━━━━━━━━━━━━━━━\u001b[0m\u001b[37m\u001b[0m \u001b[1m15s\u001b[0m 15ms/step - accuracy: 0.9628 - loss: 0.3147 - precision: 0.9628 - val_accuracy: 0.9639 - val_loss: 0.3149 - val_precision: 0.9640\n",
      "Epoch 17/20\n",
      "\u001b[1m975/975\u001b[0m \u001b[32m━━━━━━━━━━━━━━━━━━━━\u001b[0m\u001b[37m\u001b[0m \u001b[1m15s\u001b[0m 16ms/step - accuracy: 0.9632 - loss: 0.3016 - precision: 0.9632 - val_accuracy: 0.9502 - val_loss: 0.4127 - val_precision: 0.9502\n",
      "Epoch 18/20\n",
      "\u001b[1m975/975\u001b[0m \u001b[32m━━━━━━━━━━━━━━━━━━━━\u001b[0m\u001b[37m\u001b[0m \u001b[1m15s\u001b[0m 15ms/step - accuracy: 0.9610 - loss: 0.3261 - precision: 0.9610 - val_accuracy: 0.9635 - val_loss: 0.3201 - val_precision: 0.9635\n",
      "\u001b[1m488/488\u001b[0m \u001b[32m━━━━━━━━━━━━━━━━━━━━\u001b[0m\u001b[37m\u001b[0m \u001b[1m2s\u001b[0m 5ms/step\n",
      "Class 0 - Best Threshold: 0.13, Best F1 Score: 0.9952940405949195\n",
      "Class 1 - Best Threshold: 0.4299999999999998, Best F1 Score: 0.947293859699914\n",
      "Class 2 - Best Threshold: 0.4999999999999998, Best F1 Score: 0.9481116109968092\n",
      "\n",
      "Training fold 3/3...\n",
      "Epoch 1/20\n",
      "\u001b[1m975/975\u001b[0m \u001b[32m━━━━━━━━━━━━━━━━━━━━\u001b[0m\u001b[37m\u001b[0m \u001b[1m18s\u001b[0m 16ms/step - accuracy: 0.8741 - loss: 1.0105 - precision: 0.9008 - val_accuracy: 0.9520 - val_loss: 0.4148 - val_precision: 0.9521\n",
      "Epoch 2/20\n",
      "\u001b[1m975/975\u001b[0m \u001b[32m━━━━━━━━━━━━━━━━━━━━\u001b[0m\u001b[37m\u001b[0m \u001b[1m15s\u001b[0m 15ms/step - accuracy: 0.9557 - loss: 0.3950 - precision: 0.9559 - val_accuracy: 0.9458 - val_loss: 0.4483 - val_precision: 0.9459\n",
      "Epoch 3/20\n",
      "\u001b[1m975/975\u001b[0m \u001b[32m━━━━━━━━━━━━━━━━━━━━\u001b[0m\u001b[37m\u001b[0m \u001b[1m15s\u001b[0m 15ms/step - accuracy: 0.9581 - loss: 0.3675 - precision: 0.9582 - val_accuracy: 0.9402 - val_loss: 0.4736 - val_precision: 0.9404\n",
      "Epoch 4/20\n",
      "\u001b[1m975/975\u001b[0m \u001b[32m━━━━━━━━━━━━━━━━━━━━\u001b[0m\u001b[37m\u001b[0m \u001b[1m15s\u001b[0m 16ms/step - accuracy: 0.9565 - loss: 0.3708 - precision: 0.9566 - val_accuracy: 0.9615 - val_loss: 0.3447 - val_precision: 0.9616\n",
      "Epoch 5/20\n",
      "\u001b[1m975/975\u001b[0m \u001b[32m━━━━━━━━━━━━━━━━━━━━\u001b[0m\u001b[37m\u001b[0m \u001b[1m15s\u001b[0m 16ms/step - accuracy: 0.9614 - loss: 0.3361 - precision: 0.9615 - val_accuracy: 0.9605 - val_loss: 0.3390 - val_precision: 0.9606\n",
      "Epoch 6/20\n",
      "\u001b[1m975/975\u001b[0m \u001b[32m━━━━━━━━━━━━━━━━━━━━\u001b[0m\u001b[37m\u001b[0m \u001b[1m18s\u001b[0m 18ms/step - accuracy: 0.9600 - loss: 0.3437 - precision: 0.9602 - val_accuracy: 0.9563 - val_loss: 0.3686 - val_precision: 0.9564\n",
      "Epoch 7/20\n",
      "\u001b[1m975/975\u001b[0m \u001b[32m━━━━━━━━━━━━━━━━━━━━\u001b[0m\u001b[37m\u001b[0m \u001b[1m15s\u001b[0m 15ms/step - accuracy: 0.9598 - loss: 0.3405 - precision: 0.9600 - val_accuracy: 0.9626 - val_loss: 0.3175 - val_precision: 0.9627\n",
      "Epoch 8/20\n",
      "\u001b[1m975/975\u001b[0m \u001b[32m━━━━━━━━━━━━━━━━━━━━\u001b[0m\u001b[37m\u001b[0m \u001b[1m15s\u001b[0m 15ms/step - accuracy: 0.9611 - loss: 0.3258 - precision: 0.9612 - val_accuracy: 0.9614 - val_loss: 0.3335 - val_precision: 0.9615\n",
      "Epoch 9/20\n",
      "\u001b[1m975/975\u001b[0m \u001b[32m━━━━━━━━━━━━━━━━━━━━\u001b[0m\u001b[37m\u001b[0m \u001b[1m15s\u001b[0m 15ms/step - accuracy: 0.9603 - loss: 0.3345 - precision: 0.9604 - val_accuracy: 0.9579 - val_loss: 0.3564 - val_precision: 0.9581\n",
      "Epoch 10/20\n",
      "\u001b[1m975/975\u001b[0m \u001b[32m━━━━━━━━━━━━━━━━━━━━\u001b[0m\u001b[37m\u001b[0m \u001b[1m15s\u001b[0m 15ms/step - accuracy: 0.9608 - loss: 0.3330 - precision: 0.9609 - val_accuracy: 0.9603 - val_loss: 0.3394 - val_precision: 0.9603\n",
      "Epoch 11/20\n",
      "\u001b[1m975/975\u001b[0m \u001b[32m━━━━━━━━━━━━━━━━━━━━\u001b[0m\u001b[37m\u001b[0m \u001b[1m15s\u001b[0m 16ms/step - accuracy: 0.9615 - loss: 0.3277 - precision: 0.9616 - val_accuracy: 0.9587 - val_loss: 0.3486 - val_precision: 0.9588\n",
      "Epoch 12/20\n",
      "\u001b[1m975/975\u001b[0m \u001b[32m━━━━━━━━━━━━━━━━━━━━\u001b[0m\u001b[37m\u001b[0m \u001b[1m15s\u001b[0m 15ms/step - accuracy: 0.9602 - loss: 0.3317 - precision: 0.9603 - val_accuracy: 0.9584 - val_loss: 0.3530 - val_precision: 0.9587\n",
      "\u001b[1m488/488\u001b[0m \u001b[32m━━━━━━━━━━━━━━━━━━━━\u001b[0m\u001b[37m\u001b[0m \u001b[1m3s\u001b[0m 5ms/step\n",
      "Class 0 - Best Threshold: 0.4299999999999998, Best F1 Score: 0.9951467279521818\n",
      "Class 1 - Best Threshold: 0.3899999999999999, Best F1 Score: 0.9485709584656172\n",
      "Class 2 - Best Threshold: 0.5499999999999998, Best F1 Score: 0.9461931638968178\n"
     ]
    }
   ],
   "source": [
    "histories, fold_metrics = train_gru_model_with_kfold(shaped_train_data, shaped_train_target, weights)"
   ]
  },
  {
   "cell_type": "code",
   "execution_count": 22,
   "id": "bb73a95c",
   "metadata": {
    "execution": {
     "iopub.execute_input": "2024-10-23T21:57:49.397245Z",
     "iopub.status.busy": "2024-10-23T21:57:49.396854Z",
     "iopub.status.idle": "2024-10-23T21:57:49.454930Z",
     "shell.execute_reply": "2024-10-23T21:57:49.454169Z"
    },
    "papermill": {
     "duration": 1.172604,
     "end_time": "2024-10-23T21:57:49.457101",
     "exception": false,
     "start_time": "2024-10-23T21:57:48.284497",
     "status": "completed"
    },
    "tags": []
   },
   "outputs": [],
   "source": [
    "model.save(\"model_GRU.keras\")"
   ]
  },
  {
   "cell_type": "markdown",
   "id": "6068240e",
   "metadata": {
    "papermill": {
     "duration": 1.113692,
     "end_time": "2024-10-23T21:57:51.732844",
     "exception": false,
     "start_time": "2024-10-23T21:57:50.619152",
     "status": "completed"
    },
    "tags": []
   },
   "source": [
    "### Plot the results"
   ]
  },
  {
   "cell_type": "code",
   "execution_count": 23,
   "id": "b4794776",
   "metadata": {
    "execution": {
     "iopub.execute_input": "2024-10-23T21:57:54.045810Z",
     "iopub.status.busy": "2024-10-23T21:57:54.045455Z",
     "iopub.status.idle": "2024-10-23T21:57:54.451710Z",
     "shell.execute_reply": "2024-10-23T21:57:54.450696Z"
    },
    "papermill": {
     "duration": 1.527788,
     "end_time": "2024-10-23T21:57:54.454035",
     "exception": false,
     "start_time": "2024-10-23T21:57:52.926247",
     "status": "completed"
    },
    "tags": []
   },
   "outputs": [],
   "source": [
    "import matplotlib.pyplot as plt\n",
    "import seaborn as sns\n",
    "import sklearn"
   ]
  },
  {
   "cell_type": "markdown",
   "id": "5a105102",
   "metadata": {
    "papermill": {
     "duration": 1.163343,
     "end_time": "2024-10-23T21:57:56.774103",
     "exception": false,
     "start_time": "2024-10-23T21:57:55.610760",
     "status": "completed"
    },
    "tags": []
   },
   "source": [
    "#### Confusion matrix"
   ]
  },
  {
   "cell_type": "code",
   "execution_count": 24,
   "id": "3f4a1b4b",
   "metadata": {
    "execution": {
     "iopub.execute_input": "2024-10-23T21:57:59.054421Z",
     "iopub.status.busy": "2024-10-23T21:57:59.053536Z",
     "iopub.status.idle": "2024-10-23T21:57:59.059676Z",
     "shell.execute_reply": "2024-10-23T21:57:59.058860Z"
    },
    "papermill": {
     "duration": 1.161444,
     "end_time": "2024-10-23T21:57:59.061643",
     "exception": false,
     "start_time": "2024-10-23T21:57:57.900199",
     "status": "completed"
    },
    "tags": []
   },
   "outputs": [],
   "source": [
    "def plot_confusion_matrix(model, x_test, y_test):\n",
    "  y_pred = model.predict(x_test)\n",
    "  y_pred_classes = np.argmax(y_pred,axis = -1)\n",
    "  y_test_classes = np.argmax(y_test,axis = -1)\n",
    "  y_pred_classes_flat = y_pred_classes.flatten()\n",
    "  y_test_classes_flat = y_test_classes.flatten()\n",
    "  sns.heatmap(sklearn.metrics.confusion_matrix(y_test_classes_flat, y_pred_classes_flat, normalize=\"true\"), annot=True)"
   ]
  },
  {
   "cell_type": "code",
   "execution_count": 25,
   "id": "c1936dcc",
   "metadata": {
    "execution": {
     "iopub.execute_input": "2024-10-23T21:58:01.320161Z",
     "iopub.status.busy": "2024-10-23T21:58:01.319803Z",
     "iopub.status.idle": "2024-10-23T21:58:03.735064Z",
     "shell.execute_reply": "2024-10-23T21:58:03.734119Z"
    },
    "papermill": {
     "duration": 3.570611,
     "end_time": "2024-10-23T21:58:03.737621",
     "exception": false,
     "start_time": "2024-10-23T21:58:00.167010",
     "status": "completed"
    },
    "tags": []
   },
   "outputs": [
    {
     "name": "stdout",
     "output_type": "stream",
     "text": [
      "\u001b[1m379/379\u001b[0m \u001b[32m━━━━━━━━━━━━━━━━━━━━\u001b[0m\u001b[37m\u001b[0m \u001b[1m2s\u001b[0m 4ms/step\n"
     ]
    },
    {
     "data": {
      "image/png": "[encoded data removed]",
      "text/plain": [
       "<Figure size 640x480 with 2 Axes>"
      ]
     },
     "metadata": {},
     "output_type": "display_data"
    }
   ],
   "source": [
    "plot_confusion_matrix(model, shaped_test_data, shaped_test_target)"
   ]
  },
  {
   "cell_type": "markdown",
   "id": "c861f218",
   "metadata": {
    "papermill": {
     "duration": 1.11477,
     "end_time": "2024-10-23T21:58:06.029122",
     "exception": false,
     "start_time": "2024-10-23T21:58:04.914352",
     "status": "completed"
    },
    "tags": []
   },
   "source": [
    "#### Metrics"
   ]
  },
  {
   "cell_type": "code",
   "execution_count": 26,
   "id": "0445d800",
   "metadata": {
    "execution": {
     "iopub.execute_input": "2024-10-23T21:58:08.331350Z",
     "iopub.status.busy": "2024-10-23T21:58:08.330567Z",
     "iopub.status.idle": "2024-10-23T21:58:08.340002Z",
     "shell.execute_reply": "2024-10-23T21:58:08.339126Z"
    },
    "papermill": {
     "duration": 1.147149,
     "end_time": "2024-10-23T21:58:08.341956",
     "exception": false,
     "start_time": "2024-10-23T21:58:07.194807",
     "status": "completed"
    },
    "tags": []
   },
   "outputs": [],
   "source": [
    "def print_fold_metrics_summary(fold_metrics):\n",
    "    # Convert fold_metrics (list of dicts) into a DataFrame\n",
    "    metrics_df = pd.DataFrame(fold_metrics)\n",
    "    \n",
    "    # Calculate mean and standard error for each metric\n",
    "    summary_df = pd.DataFrame({\n",
    "        'Metric': ['accuracy', 'precision', 'recall', 'f1_score'],\n",
    "        'Mean': [\n",
    "            metrics_df['accuracy'].mean(),\n",
    "            metrics_df['precision'].mean(),\n",
    "            metrics_df['recall'].mean(),\n",
    "            metrics_df['f1_score'].mean()\n",
    "        ],\n",
    "        'Standard Error': [\n",
    "            metrics_df['accuracy'].std() / np.sqrt(len(metrics_df)),\n",
    "            metrics_df['precision'].std() / np.sqrt(len(metrics_df)),\n",
    "            metrics_df['recall'].std() / np.sqrt(len(metrics_df)),\n",
    "            metrics_df['f1_score'].std() / np.sqrt(len(metrics_df))\n",
    "        ]\n",
    "    })\n",
    "\n",
    "    # Print the summary table\n",
    "    print(summary_df.to_string(index=False))\n",
    "\n",
    "\n",
    "def print_overall_metrics(metrics):\n",
    "    # Specify the desired order of metrics\n",
    "    metric_order = ['accuracy', 'precision', 'recall', 'f1_score']\n",
    "    # Create a DataFrame from the metrics dictionary\n",
    "    metrics_df = pd.DataFrame.from_dict(metrics, orient='index', columns=['Value'])\n",
    "    # Reindex the DataFrame to ensure the desired order\n",
    "    metrics_df = metrics_df.reindex(metric_order)\n",
    "    # Print the metrics table\n",
    "    print(metrics_df.to_string(index=True, header=False))"
   ]
  },
  {
   "cell_type": "code",
   "execution_count": 27,
   "id": "55e5b78a",
   "metadata": {
    "execution": {
     "iopub.execute_input": "2024-10-23T21:58:10.628355Z",
     "iopub.status.busy": "2024-10-23T21:58:10.627955Z",
     "iopub.status.idle": "2024-10-23T21:58:10.639649Z",
     "shell.execute_reply": "2024-10-23T21:58:10.638667Z"
    },
    "papermill": {
     "duration": 1.136018,
     "end_time": "2024-10-23T21:58:10.641617",
     "exception": false,
     "start_time": "2024-10-23T21:58:09.505599",
     "status": "completed"
    },
    "tags": []
   },
   "outputs": [
    {
     "name": "stdout",
     "output_type": "stream",
     "text": [
      "   Metric     Mean  Standard Error\n",
      " accuracy 0.963170        0.000126\n",
      "precision 0.963089        0.000227\n",
      "   recall 0.963151        0.000234\n",
      " f1_score 0.963084        0.000224\n"
     ]
    }
   ],
   "source": [
    "print_fold_metrics_summary(fold_metrics)"
   ]
  },
  {
   "cell_type": "code",
   "execution_count": 28,
   "id": "f101372e",
   "metadata": {
    "execution": {
     "iopub.execute_input": "2024-10-23T21:58:12.977008Z",
     "iopub.status.busy": "2024-10-23T21:58:12.976133Z",
     "iopub.status.idle": "2024-10-23T21:58:12.983205Z",
     "shell.execute_reply": "2024-10-23T21:58:12.982219Z"
    },
    "papermill": {
     "duration": 1.173022,
     "end_time": "2024-10-23T21:58:12.986141",
     "exception": false,
     "start_time": "2024-10-23T21:58:11.813119",
     "status": "completed"
    },
    "tags": []
   },
   "outputs": [
    {
     "name": "stdout",
     "output_type": "stream",
     "text": [
      "accuracy   0.957216\n",
      "precision  0.957102\n",
      "recall     0.957215\n",
      "f1_score   0.957128\n"
     ]
    }
   ],
   "source": [
    "print_overall_metrics(metrics)"
   ]
  }
 ],
 "metadata": {
  "kaggle": {
   "accelerator": "gpu",
   "dataSources": [
    {
     "databundleVersionId": 6589269,
     "sourceId": 53666,
     "sourceType": "competition"
    },
    {
     "datasetId": 5914455,
     "sourceId": 9701847,
     "sourceType": "datasetVersion"
    },
    {
     "sourceId": 202502869,
     "sourceType": "kernelVersion"
    },
    {
     "sourceId": 202675785,
     "sourceType": "kernelVersion"
    },
    {
     "sourceId": 202821354,
     "sourceType": "kernelVersion"
    }
   ],
   "dockerImageVersionId": 30786,
   "isGpuEnabled": true,
   "isInternetEnabled": false,
   "language": "python",
   "sourceType": "notebook"
  },
  "kernelspec": {
   "display_name": "Python 3",
   "language": "python",
   "name": "python3"
  },
  "language_info": {
   "codemirror_mode": {
    "name": "ipython",
    "version": 3
   },
   "file_extension": ".py",
   "mimetype": "text/x-python",
   "name": "python",
   "nbconvert_exporter": "python",
   "pygments_lexer": "ipython3",
   "version": "3.10.14"
  },
  "papermill": {
   "default_parameters": {},
   "duration": 1386.009317,
   "end_time": "2024-10-23T21:58:25.377359",
   "environment_variables": {},
   "exception": true,
   "input_path": "__notebook__.ipynb",
   "output_path": "__notebook__.ipynb",
   "parameters": {},
   "start_time": "2024-10-23T21:35:19.368042",
   "version": "2.6.0"
  }
 },
 "nbformat": 4,
 "nbformat_minor": 5
}
